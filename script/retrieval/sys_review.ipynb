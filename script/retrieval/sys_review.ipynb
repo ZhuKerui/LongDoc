{
 "cells": [
  {
   "cell_type": "code",
   "execution_count": 2,
   "metadata": {},
   "outputs": [
    {
     "name": "stdout",
     "output_type": "stream",
     "text": [
      "AAC-haq-et-al-2017.pdf      DR-brogan-et-al-2017.pdf\n",
      "ABI-enloe-rapp-2013.pdf     DTT-leaf-et-al-2014.pdf\n",
      "BMI-jung-et-al-2008.pdf     EXM-neely-et-al-2014.pdf\n",
      "CBIS-howorth-et-al-2016.pdf EXT-drasgow-et-al-2015.pdf\n",
      "DI-kamps-et-al-2016.pdf     FBA-kodak-et-al-2011.pdf\n"
     ]
    }
   ],
   "source": [
    "!ls ../../data/systematic_review_papers"
   ]
  },
  {
   "cell_type": "code",
   "execution_count": null,
   "metadata": {},
   "outputs": [],
   "source": [
    "data = [\n",
    "    {\"file\": \"AAC-haq-et-al-2017.pdf\", \"EBP\": \"AAC\", \"ages\": [], \"diagnosis\": [], \"comorbidities\": [], \"genders\": [], \"races\": [], \"ethnicity\": [], \"nationality\": [], \"domain_areas\": [], \"intervention\": [], \"evidence\": \"\", \"study_design_size\": \"\", \"study_design\": \"\", \"outcomes\": []},\n",
    "    {\"file\": \"DR-brogan-et-al-2017.pdf\", \"EBP\": \"DR\", \"ages\": [], \"diagnosis\": [], \"comorbidities\": [], \"genders\": [], \"races\": [], \"ethnicity\": [], \"nationality\": [], \"domain_areas\": [], \"intervention\": [], \"evidence\": \"\", \"study_design_size\": \"\", \"study_design\": \"\", \"outcomes\": []},\n",
    "    {\"file\": \"ABI-enloe-rapp-2013.pdf\", \"EBP\": \"ABI\", \"ages\": [], \"diagnosis\": [], \"comorbidities\": [], \"genders\": [], \"races\": [], \"ethnicity\": [], \"nationality\": [], \"domain_areas\": [], \"intervention\": [], \"evidence\": \"\", \"study_design_size\": \"\", \"study_design\": \"\", \"outcomes\": []},\n",
    "    {\"file\": \"DTT-leaf-et-al-2014.pdf\", \"EBP\": \"DTT\", \"ages\": [], \"diagnosis\": [], \"comorbidities\": [], \"genders\": [], \"races\": [], \"ethnicity\": [], \"nationality\": [], \"domain_areas\": [], \"intervention\": [], \"evidence\": \"\", \"study_design_size\": \"\", \"study_design\": \"\", \"outcomes\": []},\n",
    "    {\"file\": \"BMI-jung-et-al-2008.pdf\", \"EBP\": \"BMI\", \"ages\": [], \"diagnosis\": [], \"comorbidities\": [], \"genders\": [], \"races\": [], \"ethnicity\": [], \"nationality\": [], \"domain_areas\": [], \"intervention\": [], \"evidence\": \"\", \"study_design_size\": \"\", \"study_design\": \"\", \"outcomes\": []},\n",
    "    {\"file\": \"EXM-neely-et-al-2014.pdf\", \"EBP\": \"EXM\", \"ages\": [], \"diagnosis\": [], \"comorbidities\": [], \"genders\": [], \"races\": [], \"ethnicity\": [], \"nationality\": [], \"domain_areas\": [], \"intervention\": [], \"evidence\": \"\", \"study_design_size\": \"\", \"study_design\": \"\", \"outcomes\": []},\n",
    "    {\"file\": \"CBIS-howorth-et-al-2016.pdf\", \"EBP\": \"CBIS\", \"ages\": [], \"diagnosis\": [], \"comorbidities\": [], \"genders\": [], \"races\": [], \"ethnicity\": [], \"nationality\": [], \"domain_areas\": [], \"intervention\": [], \"evidence\": \"\", \"study_design_size\": \"\", \"study_design\": \"\", \"outcomes\": []},\n",
    "    {\"file\": \"EXT-drasgow-et-al-2015.pdf\", \"EBP\": \"EXT\", \"ages\": [], \"diagnosis\": [], \"comorbidities\": [], \"genders\": [], \"races\": [], \"ethnicity\": [], \"nationality\": [], \"domain_areas\": [], \"intervention\": [], \"evidence\": \"\", \"study_design_size\": \"\", \"study_design\": \"\", \"outcomes\": []},\n",
    "    {\"file\": \"DI-kamps-et-al-2016.pdf\", \"EBP\": \"DI\", \"ages\": [], \"diagnosis\": [], \"comorbidities\": [], \"genders\": [], \"races\": [], \"ethnicity\": [], \"nationality\": [], \"domain_areas\": [], \"intervention\": [], \"evidence\": \"\", \"study_design_size\": \"\", \"study_design\": \"\", \"outcomes\": []},\n",
    "    {\"file\": \"FBA-kodak-et-al-2011.pdf\", \"EBP\": \"FBA\", \"ages\": [], \"diagnosis\": [], \"comorbidities\": [], \"genders\": [], \"races\": [], \"ethnicity\": [], \"nationality\": [], \"domain_areas\": [], \"intervention\": [], \"evidence\": \"\", \"study_design_size\": \"\", \"study_design\": \"\", \"outcomes\": []},\n",
    "]"
   ]
  }
 ],
 "metadata": {
  "kernelspec": {
   "display_name": "longdoc",
   "language": "python",
   "name": "python3"
  },
  "language_info": {
   "codemirror_mode": {
    "name": "ipython",
    "version": 3
   },
   "file_extension": ".py",
   "mimetype": "text/x-python",
   "name": "python",
   "nbconvert_exporter": "python",
   "pygments_lexer": "ipython3",
   "version": "3.11.9"
  }
 },
 "nbformat": 4,
 "nbformat_minor": 2
}
