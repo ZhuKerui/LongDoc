{
 "cells": [
  {
   "cell_type": "code",
   "execution_count": 1,
   "metadata": {},
   "outputs": [],
   "source": [
    "import random\n",
    "import json\n",
    "from openai import OpenAI\n",
    "import os\n",
    "from typing import List\n",
    "from collections import Counter\n",
    "from tqdm import tqdm\n",
    "import matplotlib.pyplot as plt\n",
    "from src.my_util import openai_get\n",
    "\n",
    "client = OpenAI(api_key=os.environ['OPENAI_API_KEY'])"
   ]
  },
  {
   "cell_type": "code",
   "execution_count": 2,
   "metadata": {},
   "outputs": [],
   "source": [
    "def parse_response(prediction:str):\n",
    "    # Process the predidction\n",
    "    return [int(''.join([c for c in num_str if c.isdigit()])) for num_str in prediction.split() if any(char.isdigit() for char in num_str)]\n",
    "\n",
    "def locate_chain(chains:List[List[int]], number:int):\n",
    "    for chain in chains:\n",
    "        if number in chain:\n",
    "            return chain\n",
    "\n",
    "def locate_error(chains:List[List[int]], prediction:List[int], start_num:int):\n",
    "    error_loc = {}\n",
    "    prev = -1\n",
    "    for pid, p in enumerate(prediction):\n",
    "        if pid == 0:\n",
    "            if p != start_num:\n",
    "                # If the first number is not the given starting number, then this is an error\n",
    "                error_loc[pid] = 'start_number_error'\n",
    "        else:\n",
    "            # Find chain\n",
    "            chain = locate_chain(chains, prev)\n",
    "            if chain is None:\n",
    "                # If previous number is not in the list, then it should stop instead of collecting further numbers\n",
    "                error_loc[pid] = 'previous_not_in_list'\n",
    "            else:\n",
    "                prev_idx = chain.index(prev)\n",
    "                if prev_idx == len(chain) - 1:\n",
    "                    # If previous number is the last number in a chain, then it should stop instead of collecting further numbers\n",
    "                    error_loc[pid] = 'previous_at_end'\n",
    "                else:\n",
    "                    if chain[prev_idx + 1] != p:\n",
    "                        # If the new number is not the next number in the chain, then this is an error\n",
    "                        error_loc[pid] = 'wrong_next_number'\n",
    "                    elif pid == len(prediction) - 1:\n",
    "                        if p != chain[-1]:\n",
    "                            error_loc[pid] = 'stop_before_end'\n",
    "        prev = p\n",
    "    return error_loc"
   ]
  },
  {
   "cell_type": "markdown",
   "metadata": {},
   "source": [
    "## Build dataset"
   ]
  },
  {
   "cell_type": "code",
   "execution_count": 11,
   "metadata": {},
   "outputs": [],
   "source": [
    "list_length = 20\n",
    "total_num = 400\n",
    "chain_num = total_num // list_length"
   ]
  },
  {
   "cell_type": "markdown",
   "metadata": {},
   "source": [
    "### Fixed chain"
   ]
  },
  {
   "cell_type": "code",
   "execution_count": 12,
   "metadata": {},
   "outputs": [],
   "source": [
    "dataset = []\n",
    "for _ in range(400):\n",
    "    l = list(range(total_num))\n",
    "    random.shuffle(l)\n",
    "    chains = []\n",
    "    num_lists = []\n",
    "    for i in range(total_num // list_length):\n",
    "        sub_l = l[i*list_length:(i+1)*list_length]\n",
    "        num_lists.append(sub_l)\n",
    "        chain = []\n",
    "        for j in range(len(sub_l)-1):\n",
    "            chain.append(f'The next number of {sub_l[j]} is {sub_l[j+1]}.')\n",
    "        chains.append(chain)\n",
    "\n",
    "    merged_list = []\n",
    "    for j in range(list_length-1):\n",
    "        for i in range(total_num // list_length):\n",
    "            merged_list.append(chains[i][j])\n",
    "    target_chain = num_lists[total_num // list_length // 2]\n",
    "    dataset.append({'question': target_chain[0], 'list': merged_list, 'chains': num_lists})\n",
    "\n",
    "with open(f'data/chain_generation/fixed_chain/test_left2right_{total_num}_{list_length}.txt', 'w') as f_out:\n",
    "    for data in dataset:\n",
    "        f_out.write(json.dumps(data) + '\\n')\n"
   ]
  },
  {
   "cell_type": "code",
   "execution_count": 13,
   "metadata": {},
   "outputs": [],
   "source": [
    "left2right_file = 'data/chain_generation/fixed_chain/test_left2right_400_20.txt'\n",
    "with open(left2right_file) as f_in:\n",
    "    for l in f_in:\n",
    "        if l:\n",
    "            sample = json.loads(l)\n",
    "            temp_list = [sample['list'][i*chain_num : (i+1)*chain_num] for i in range(list_length)]\n",
    "            temp_list.reverse()\n",
    "            sample['list'] = [sent for batch in temp_list for sent in batch]\n",
    "\n",
    "            with open(left2right_file.replace('left2right', 'right2left'), 'a') as f_out:\n",
    "                f_out.write(json.dumps(sample) + '\\n')"
   ]
  },
  {
   "cell_type": "markdown",
   "metadata": {},
   "source": [
    "### Shuffled chain"
   ]
  },
  {
   "cell_type": "code",
   "execution_count": null,
   "metadata": {},
   "outputs": [],
   "source": [
    "dataset = []\n",
    "for _ in range(200):\n",
    "    l = list(range(total_num))\n",
    "    random.shuffle(l)\n",
    "    chains = []\n",
    "    num_lists = []\n",
    "    for i in range(total_num // list_length):\n",
    "        sub_l = l[i*list_length:(i+1)*list_length]\n",
    "        num_lists.append(sub_l)\n",
    "        chain = []\n",
    "        for j in range(len(sub_l)-1):\n",
    "            chain.append(f'The next number of {sub_l[j]} is {sub_l[j+1]}.')\n",
    "        chains.append(chain)\n",
    "\n",
    "    merged_list = []\n",
    "    for j in range(list_length-1):\n",
    "        order = list(range(total_num // list_length))\n",
    "        random.shuffle(order)\n",
    "        for i in order:\n",
    "            merged_list.append(chains[i][j])\n",
    "    target_chain = random.choice(num_lists)\n",
    "    dataset.append({'question': target_chain[0], 'list': merged_list, 'chains': num_lists})\n",
    "\n",
    "with open(f'test_left2right_{total_num}_{list_length}.txt', 'w') as f_out:\n",
    "    for data in dataset:\n",
    "        f_out.write(json.dumps(data) + '\\n')\n"
   ]
  },
  {
   "cell_type": "code",
   "execution_count": 15,
   "metadata": {},
   "outputs": [],
   "source": [
    "with open('test_left2right.txt') as f_in:\n",
    "    for l in f_in:\n",
    "        if l:\n",
    "            sample = json.loads(l)\n",
    "            sample['list'].reverse()\n",
    "\n",
    "            with open('test_right2left.txt', 'a') as f_out:\n",
    "                f_out.write(json.dumps(sample) + '\\n')"
   ]
  },
  {
   "cell_type": "code",
   "execution_count": 16,
   "metadata": {},
   "outputs": [],
   "source": [
    "with open('test_left2right.txt') as f_in:\n",
    "    for l in f_in:\n",
    "        if l:\n",
    "            sample = json.loads(l)\n",
    "            random.shuffle(sample['list'])\n",
    "\n",
    "            with open('test_random.txt', 'a') as f_out:\n",
    "                f_out.write(json.dumps(sample) + '\\n')"
   ]
  },
  {
   "cell_type": "markdown",
   "metadata": {},
   "source": [
    "## Experiment"
   ]
  },
  {
   "cell_type": "code",
   "execution_count": null,
   "metadata": {},
   "outputs": [],
   "source": [
    "prompt_template = '''The text below describes the order of numbers in several chains. Find the complete chain that starts with number {start_number}. Only output the chain and seperate the numbers with space.\n",
    "\n",
    "{description}\n",
    "\n",
    "The chain starts with {start_number} is: '''"
   ]
  },
  {
   "cell_type": "code",
   "execution_count": 8,
   "metadata": {},
   "outputs": [],
   "source": [
    "test_left2right = True"
   ]
  },
  {
   "cell_type": "code",
   "execution_count": 9,
   "metadata": {},
   "outputs": [],
   "source": [
    "if test_left2right:\n",
    "    with open('test_left2right.txt') as f_in:\n",
    "        data = [json.loads(l) for l in f_in]\n",
    "else:\n",
    "    with open('test_right2left.txt') as f_in:\n",
    "        data = [json.loads(l) for l in f_in]\n",
    "    "
   ]
  },
  {
   "cell_type": "markdown",
   "metadata": {},
   "source": [
    "### Single test"
   ]
  },
  {
   "cell_type": "code",
   "execution_count": null,
   "metadata": {},
   "outputs": [],
   "source": [
    "data_idx = 0\n",
    "question = data[data_idx]['question']\n",
    "chains = data[data_idx]['chains']\n",
    "prompt = prompt_template.format(start_number=question, description='\\n'.join(data[data_idx]['list']))\n",
    "response = openai_get(client, 'gpt-3.5-turbo', prompt)\n",
    "print(response)"
   ]
  },
  {
   "cell_type": "code",
   "execution_count": null,
   "metadata": {},
   "outputs": [],
   "source": [
    "locate_chain(chains, question)"
   ]
  },
  {
   "cell_type": "code",
   "execution_count": null,
   "metadata": {},
   "outputs": [],
   "source": [
    "prediction = parse_response(response)\n",
    "locate_error(chains, prediction, question, test_left2right)"
   ]
  },
  {
   "cell_type": "code",
   "execution_count": null,
   "metadata": {},
   "outputs": [],
   "source": [
    "print(locate_chain(chains, prediction[27]))"
   ]
  },
  {
   "cell_type": "code",
   "execution_count": null,
   "metadata": {},
   "outputs": [],
   "source": [
    "prediction[27]"
   ]
  },
  {
   "cell_type": "code",
   "execution_count": null,
   "metadata": {},
   "outputs": [],
   "source": [
    "prediction[28]"
   ]
  },
  {
   "cell_type": "markdown",
   "metadata": {},
   "source": [
    "### Test"
   ]
  },
  {
   "cell_type": "code",
   "execution_count": null,
   "metadata": {},
   "outputs": [],
   "source": [
    "for data_idx in tqdm(range(len(data))):\n",
    "    if data_idx < 0:\n",
    "        continue\n",
    "    if data_idx >= 100:\n",
    "        break\n",
    "    question = data[data_idx]['question']\n",
    "    chains = data[data_idx]['chains']\n",
    "    prompt = prompt_template.format(start_number=question, description='\\n'.join(data[data_idx]['list']))\n",
    "    response = openai_get(client, 'gpt-3.5-turbo', prompt)\n",
    "    \n",
    "    with open(f'prediction_{\"left2right\" if test_left2right else \"right2left\"}.txt', 'a') as f_out:\n",
    "        f_out.write(json.dumps({\n",
    "            'chains': chains,\n",
    "            'question': question,\n",
    "            'prediction': response.strip()\n",
    "        }) + '\\n')"
   ]
  },
  {
   "cell_type": "markdown",
   "metadata": {},
   "source": [
    "## Evaluation"
   ]
  },
  {
   "cell_type": "code",
   "execution_count": 3,
   "metadata": {},
   "outputs": [],
   "source": [
    "def readlines(file:str):\n",
    "    with open(file) as f_in:\n",
    "        return [json.loads(l) for l in f_in]\n",
    "    \n",
    "def correct_num(prediction_file:str):\n",
    "    predictions = readlines(prediction_file)\n",
    "    corrects = []\n",
    "    for prediction in predictions:\n",
    "        answer = locate_chain(prediction['chains'], prediction['question'])\n",
    "        cnt = 0\n",
    "        for a, p in zip(answer, parse_response(prediction['prediction'])):\n",
    "            if a == p:\n",
    "                cnt += 1\n",
    "            else:\n",
    "                break\n",
    "        corrects.append(cnt)\n",
    "    return corrects"
   ]
  },
  {
   "cell_type": "code",
   "execution_count": 4,
   "metadata": {},
   "outputs": [],
   "source": [
    "prediction_left2right = correct_num('data/chain_generation/fixed_chain/prediction_left2right_400_20.txt')\n",
    "prediction_right2left = correct_num('data/chain_generation/fixed_chain/prediction_right2left_400_20.txt')\n",
    "# prediction_random = correct_num('prediction_random.txt')"
   ]
  },
  {
   "cell_type": "code",
   "execution_count": 7,
   "metadata": {},
   "outputs": [
    {
     "name": "stdout",
     "output_type": "stream",
     "text": [
      "10.045\n",
      "9.9875\n"
     ]
    }
   ],
   "source": [
    "print(sum(prediction_left2right)/400)\n",
    "print(sum(prediction_right2left)/400)"
   ]
  },
  {
   "cell_type": "code",
   "execution_count": 8,
   "metadata": {},
   "outputs": [
    {
     "data": {
      "text/plain": [
       "(array([ 4., 18., 19., 25., 41., 47., 35., 30., 27., 30., 17., 19.,  7.,\n",
       "         8., 11., 11.,  8., 43.]),\n",
       " array([ 2.,  3.,  4.,  5.,  6.,  7.,  8.,  9., 10., 11., 12., 13., 14.,\n",
       "        15., 16., 17., 18., 19., 20.]),\n",
       " <BarContainer object of 18 artists>)"
      ]
     },
     "execution_count": 8,
     "metadata": {},
     "output_type": "execute_result"
    },
    {
     "data": {
      "image/png": "[encoded data removed]",
      "text/plain": [
       "<Figure size 640x480 with 1 Axes>"
      ]
     },
     "metadata": {},
     "output_type": "display_data"
    }
   ],
   "source": [
    "plt.hist(prediction_left2right, bins=max(prediction_left2right)-min(prediction_left2right))"
   ]
  },
  {
   "cell_type": "code",
   "execution_count": 5,
   "metadata": {},
   "outputs": [
    {
     "data": {
      "text/plain": [
       "(array([36., 31., 13., 20., 24., 23., 19., 27., 14., 22., 18., 23., 15.,\n",
       "         7., 11.,  5.,  0., 10., 82.]),\n",
       " array([ 1.,  2.,  3.,  4.,  5.,  6.,  7.,  8.,  9., 10., 11., 12., 13.,\n",
       "        14., 15., 16., 17., 18., 19., 20.]),\n",
       " <BarContainer object of 19 artists>)"
      ]
     },
     "execution_count": 5,
     "metadata": {},
     "output_type": "execute_result"
    },
    {
     "data": {
      "image/png": "[encoded data removed]",
      "text/plain": [
       "<Figure size 640x480 with 1 Axes>"
      ]
     },
     "metadata": {},
     "output_type": "display_data"
    }
   ],
   "source": [
    "plt.hist(prediction_right2left, bins=max(prediction_right2left)-min(prediction_right2left))"
   ]
  },
  {
   "cell_type": "code",
   "execution_count": 49,
   "metadata": {},
   "outputs": [
    {
     "data": {
      "text/plain": [
       "(array([ 2.,  4.,  3.,  3.,  6.,  1.,  3.,  1.,  2.,  1.,  3.,  1.,  3.,\n",
       "         1.,  0.,  1., 15.]),\n",
       " array([ 2.        ,  3.05882353,  4.11764706,  5.17647059,  6.23529412,\n",
       "         7.29411765,  8.35294118,  9.41176471, 10.47058824, 11.52941176,\n",
       "        12.58823529, 13.64705882, 14.70588235, 15.76470588, 16.82352941,\n",
       "        17.88235294, 18.94117647, 20.        ]),\n",
       " <BarContainer object of 17 artists>)"
      ]
     },
     "execution_count": 49,
     "metadata": {},
     "output_type": "execute_result"
    },
    {
     "data": {
      "image/png": "[encoded data removed]",
      "text/plain": [
       "<Figure size 640x480 with 1 Axes>"
      ]
     },
     "metadata": {},
     "output_type": "display_data"
    }
   ],
   "source": [
    "plt.hist(prediction_left2right, bins=len(set(prediction_left2right))-1)"
   ]
  },
  {
   "cell_type": "code",
   "execution_count": 33,
   "metadata": {},
   "outputs": [
    {
     "data": {
      "text/plain": [
       "(array([ 6.,  7.,  5.,  2., 10.,  6.,  6.,  8.,  3.,  2.,  7.,  4.,  3.,\n",
       "         4.,  3.,  2.,  1.,  4., 17.]),\n",
       " array([ 1.,  2.,  3.,  4.,  5.,  6.,  7.,  8.,  9., 10., 11., 12., 13.,\n",
       "        14., 15., 16., 17., 18., 19., 20.]),\n",
       " <BarContainer object of 19 artists>)"
      ]
     },
     "execution_count": 33,
     "metadata": {},
     "output_type": "execute_result"
    },
    {
     "data": {
      "image/png": "[encoded data removed]",
      "text/plain": [
       "<Figure size 640x480 with 1 Axes>"
      ]
     },
     "metadata": {},
     "output_type": "display_data"
    }
   ],
   "source": [
    "plt.hist(prediction_right2left, bins=len(set(prediction_right2left))-1)"
   ]
  },
  {
   "cell_type": "code",
   "execution_count": 39,
   "metadata": {},
   "outputs": [
    {
     "data": {
      "text/plain": [
       "(array([ 1.,  0., 12., 12., 12.,  5.,  9.,  4.,  4.,  5.,  4.,  3.,  3.,\n",
       "         2.,  2.,  1.,  1.,  5.,  0., 15.]),\n",
       " array([ 0.,  1.,  2.,  3.,  4.,  5.,  6.,  7.,  8.,  9., 10., 11., 12.,\n",
       "        13., 14., 15., 16., 17., 18., 19., 20.]),\n",
       " <BarContainer object of 20 artists>)"
      ]
     },
     "execution_count": 39,
     "metadata": {},
     "output_type": "execute_result"
    },
    {
     "data": {
      "image/png": "[encoded data removed]",
      "text/plain": [
       "<Figure size 640x480 with 1 Axes>"
      ]
     },
     "metadata": {},
     "output_type": "display_data"
    }
   ],
   "source": [
    "plt.hist(prediction_random, bins=max(prediction_random)-min(prediction_random))"
   ]
  },
  {
   "cell_type": "code",
   "execution_count": 10,
   "metadata": {},
   "outputs": [],
   "source": [
    "errors = []\n",
    "if test_left2right:\n",
    "    prediction_file = 'prediction_left2right.txt'\n",
    "else:\n",
    "    prediction_file = 'prediction_right2left.txt'\n",
    "with open(prediction_file) as f_in:\n",
    "    for l in f_in:\n",
    "        sample = json.loads(l)\n",
    "        prediction = parse_response(sample['prediction'])\n",
    "        error_log = locate_error(sample['chains'], prediction, sample['question'])\n",
    "        error_log['prediction'] = prediction\n",
    "        errors.append(error_log)"
   ]
  },
  {
   "cell_type": "code",
   "execution_count": 12,
   "metadata": {},
   "outputs": [],
   "source": [
    "wrong_next_number_loc = []\n",
    "wrong_number_loc = []\n",
    "new_start_loc = []\n",
    "first_error_loc = []\n",
    "for idx in range(len(errors)):\n",
    "    chains = data[idx]['chains']\n",
    "    error_log = errors[idx]\n",
    "    prediction:List[int] = error_log['prediction']\n",
    "    pids = []\n",
    "    for key, value in error_log.items():\n",
    "        if key != 'prediction':\n",
    "            pid = int(key)\n",
    "            curr = prediction[pid]\n",
    "            curr_chain = locate_chain(chains, curr)\n",
    "            pids.append(pid)\n",
    "            error_text = value\n",
    "            if value == 'wrong_next_number':\n",
    "                prev = prediction[pid-1]\n",
    "                prev_chain = locate_chain(chains, prev)\n",
    "                wrong_number_loc.append(prev_chain.index(prev))\n",
    "                if curr_chain:\n",
    "                    wrong_next_number_loc.append(curr_chain.index(curr))\n",
    "            elif value == 'previous_not_in_list' or value == 'previous_at_end':\n",
    "                if curr_chain:\n",
    "                    new_start_loc.append(curr_chain.index(curr))\n",
    "    if pids:\n",
    "        first_error_loc.append(min(pids))\n",
    "    "
   ]
  },
  {
   "cell_type": "code",
   "execution_count": 13,
   "metadata": {},
   "outputs": [
    {
     "data": {
      "text/plain": [
       "(array([ 3.,  4.,  5.,  6.,  3.,  7.,  2.,  5.,  5.,  3.,  4.,  3.,  4.,\n",
       "         4.,  4.,  1.,  2., 33.]),\n",
       " array([ 2.,  3.,  4.,  5.,  6.,  7.,  8.,  9., 10., 11., 12., 13., 14.,\n",
       "        15., 16., 17., 18., 19., 20.]),\n",
       " <BarContainer object of 18 artists>)"
      ]
     },
     "execution_count": 13,
     "metadata": {},
     "output_type": "execute_result"
    },
    {
     "data": {
      "image/png": "[encoded data removed]",
      "text/plain": [
       "<Figure size 640x480 with 1 Axes>"
      ]
     },
     "metadata": {},
     "output_type": "display_data"
    }
   ],
   "source": [
    "plt.hist(first_error_loc, bins=len(set(first_error_loc))-1)"
   ]
  },
  {
   "cell_type": "code",
   "execution_count": 7,
   "metadata": {},
   "outputs": [
    {
     "data": {
      "text/plain": [
       "(array([ 6.,  7.,  5.,  2., 10.,  6.,  8.,  6.,  3.,  2.,  7.,  4.,  3.,\n",
       "         4.,  3.,  2.,  1.,  4., 17.]),\n",
       " array([ 1.,  2.,  3.,  4.,  5.,  6.,  7.,  8.,  9., 10., 11., 12., 13.,\n",
       "        14., 15., 16., 17., 18., 19., 20.]),\n",
       " <BarContainer object of 19 artists>)"
      ]
     },
     "execution_count": 7,
     "metadata": {},
     "output_type": "execute_result"
    },
    {
     "data": {
      "image/png": "[encoded data removed]",
      "text/plain": [
       "<Figure size 640x480 with 1 Axes>"
      ]
     },
     "metadata": {},
     "output_type": "display_data"
    }
   ],
   "source": [
    "plt.hist(first_error_loc, bins=len(set(first_error_loc))-1)"
   ]
  },
  {
   "cell_type": "code",
   "execution_count": null,
   "metadata": {},
   "outputs": [],
   "source": [
    "plt.hist(wrong_number_loc, bins=len(set(wrong_number_loc))-1)"
   ]
  },
  {
   "cell_type": "code",
   "execution_count": null,
   "metadata": {},
   "outputs": [],
   "source": [
    "plt.hist(wrong_next_number_loc, bins=len(set(wrong_next_number_loc))-1)"
   ]
  },
  {
   "cell_type": "code",
   "execution_count": null,
   "metadata": {},
   "outputs": [],
   "source": [
    "plt.hist(new_start_loc, bins=len(set(new_start_loc))-1)"
   ]
  },
  {
   "cell_type": "code",
   "execution_count": null,
   "metadata": {},
   "outputs": [],
   "source": [
    "# Use chain extraction to locate the prefer zone\n",
    "# Dense retrieval + rank by score/origin order/score align prefer zone\n",
    "# Importance of context: bare text pieces vs wrapping context"
   ]
  }
 ],
 "metadata": {
  "kernelspec": {
   "display_name": "local",
   "language": "python",
   "name": "python3"
  },
  "language_info": {
   "codemirror_mode": {
    "name": "ipython",
    "version": 3
   },
   "file_extension": ".py",
   "mimetype": "text/x-python",
   "name": "python",
   "nbconvert_exporter": "python",
   "pygments_lexer": "ipython3",
   "version": "3.10.13"
  }
 },
 "nbformat": 4,
 "nbformat_minor": 2
}
