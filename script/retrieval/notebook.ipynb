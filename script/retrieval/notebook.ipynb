{
 "cells": [
  {
   "cell_type": "markdown",
   "metadata": {},
   "source": [
    "## Chain"
   ]
  },
  {
   "cell_type": "code",
   "execution_count": null,
   "metadata": {},
   "outputs": [],
   "source": [
    "import random\n",
    "import json\n",
    "from openai import OpenAI\n",
    "import os\n",
    "from typing import List\n",
    "from collections import Counter\n",
    "from tqdm import tqdm\n",
    "import matplotlib.pyplot as plt\n",
    "from src.my_util import openai_get\n",
    "\n",
    "client = OpenAI(api_key=os.environ['OPENAI_API_KEY'])"
   ]
  },
  {
   "cell_type": "code",
   "execution_count": null,
   "metadata": {},
   "outputs": [],
   "source": [
    "def parse_response(prediction:str):\n",
    "    # Process the predidction\n",
    "    return [int(''.join([c for c in num_str if c.isdigit()])) for num_str in prediction.split() if any(char.isdigit() for char in num_str)]\n",
    "\n",
    "def locate_chain(chains:List[List[int]], number:int):\n",
    "    for chain in chains:\n",
    "        if number in chain:\n",
    "            return chain\n",
    "\n",
    "def locate_error(chains:List[List[int]], prediction:List[int], start_num:int):\n",
    "    error_loc = {}\n",
    "    prev = -1\n",
    "    for pid, p in enumerate(prediction):\n",
    "        if pid == 0:\n",
    "            if p != start_num:\n",
    "                # If the first number is not the given starting number, then this is an error\n",
    "                error_loc[pid] = 'start_number_error'\n",
    "        else:\n",
    "            # Find chain\n",
    "            chain = locate_chain(chains, prev)\n",
    "            if chain is None:\n",
    "                # If previous number is not in the list, then it should stop instead of collecting further numbers\n",
    "                error_loc[pid] = 'previous_not_in_list'\n",
    "            else:\n",
    "                prev_idx = chain.index(prev)\n",
    "                if prev_idx == len(chain) - 1:\n",
    "                    # If previous number is the last number in a chain, then it should stop instead of collecting further numbers\n",
    "                    error_loc[pid] = 'previous_at_end'\n",
    "                else:\n",
    "                    if chain[prev_idx + 1] != p:\n",
    "                        # If the new number is not the next number in the chain, then this is an error\n",
    "                        error_loc[pid] = 'wrong_next_number'\n",
    "                    elif pid == len(prediction) - 1:\n",
    "                        if p != chain[-1]:\n",
    "                            error_loc[pid] = 'stop_before_end'\n",
    "        prev = p\n",
    "    return error_loc"
   ]
  },
  {
   "cell_type": "markdown",
   "metadata": {},
   "source": [
    "## Build dataset"
   ]
  },
  {
   "cell_type": "code",
   "execution_count": null,
   "metadata": {},
   "outputs": [],
   "source": [
    "list_length = 20\n",
    "total_num = 400\n",
    "chain_num = total_num // list_length"
   ]
  },
  {
   "cell_type": "markdown",
   "metadata": {},
   "source": [
    "### Fixed chain"
   ]
  },
  {
   "cell_type": "code",
   "execution_count": null,
   "metadata": {},
   "outputs": [],
   "source": [
    "dataset = []\n",
    "for _ in range(400):\n",
    "    l = list(range(total_num))\n",
    "    random.shuffle(l)\n",
    "    chains = []\n",
    "    num_lists = []\n",
    "    for i in range(total_num // list_length):\n",
    "        sub_l = l[i*list_length:(i+1)*list_length]\n",
    "        num_lists.append(sub_l)\n",
    "        chain = []\n",
    "        for j in range(len(sub_l)-1):\n",
    "            chain.append(f'The next number of {sub_l[j]} is {sub_l[j+1]}.')\n",
    "        chains.append(chain)\n",
    "\n",
    "    merged_list = []\n",
    "    for j in range(list_length-1):\n",
    "        for i in range(total_num // list_length):\n",
    "            merged_list.append(chains[i][j])\n",
    "    target_chain = num_lists[total_num // list_length // 2]\n",
    "    dataset.append({'question': target_chain[0], 'list': merged_list, 'chains': num_lists})\n",
    "\n",
    "with open(f'data/chain_generation/fixed_chain/test_left2right_{total_num}_{list_length}.txt', 'w') as f_out:\n",
    "    for data in dataset:\n",
    "        f_out.write(json.dumps(data) + '\\n')\n"
   ]
  },
  {
   "cell_type": "code",
   "execution_count": null,
   "metadata": {},
   "outputs": [],
   "source": [
    "left2right_file = 'data/chain_generation/fixed_chain/test_left2right_400_20.txt'\n",
    "with open(left2right_file) as f_in:\n",
    "    for l in f_in:\n",
    "        if l:\n",
    "            sample = json.loads(l)\n",
    "            temp_list = [sample['list'][i*chain_num : (i+1)*chain_num] for i in range(list_length)]\n",
    "            temp_list.reverse()\n",
    "            sample['list'] = [sent for batch in temp_list for sent in batch]\n",
    "\n",
    "            with open(left2right_file.replace('left2right', 'right2left'), 'a') as f_out:\n",
    "                f_out.write(json.dumps(sample) + '\\n')"
   ]
  },
  {
   "cell_type": "markdown",
   "metadata": {},
   "source": [
    "### Shuffled chain"
   ]
  },
  {
   "cell_type": "code",
   "execution_count": null,
   "metadata": {},
   "outputs": [],
   "source": [
    "dataset = []\n",
    "for _ in range(200):\n",
    "    l = list(range(total_num))\n",
    "    random.shuffle(l)\n",
    "    chains = []\n",
    "    num_lists = []\n",
    "    for i in range(total_num // list_length):\n",
    "        sub_l = l[i*list_length:(i+1)*list_length]\n",
    "        num_lists.append(sub_l)\n",
    "        chain = []\n",
    "        for j in range(len(sub_l)-1):\n",
    "            chain.append(f'The next number of {sub_l[j]} is {sub_l[j+1]}.')\n",
    "        chains.append(chain)\n",
    "\n",
    "    merged_list = []\n",
    "    for j in range(list_length-1):\n",
    "        order = list(range(total_num // list_length))\n",
    "        random.shuffle(order)\n",
    "        for i in order:\n",
    "            merged_list.append(chains[i][j])\n",
    "    target_chain = random.choice(num_lists)\n",
    "    dataset.append({'question': target_chain[0], 'list': merged_list, 'chains': num_lists})\n",
    "\n",
    "with open(f'test_left2right_{total_num}_{list_length}.txt', 'w') as f_out:\n",
    "    for data in dataset:\n",
    "        f_out.write(json.dumps(data) + '\\n')\n"
   ]
  },
  {
   "cell_type": "code",
   "execution_count": null,
   "metadata": {},
   "outputs": [],
   "source": [
    "with open('test_left2right.txt') as f_in:\n",
    "    for l in f_in:\n",
    "        if l:\n",
    "            sample = json.loads(l)\n",
    "            sample['list'].reverse()\n",
    "\n",
    "            with open('test_right2left.txt', 'a') as f_out:\n",
    "                f_out.write(json.dumps(sample) + '\\n')"
   ]
  },
  {
   "cell_type": "code",
   "execution_count": null,
   "metadata": {},
   "outputs": [],
   "source": [
    "with open('test_left2right.txt') as f_in:\n",
    "    for l in f_in:\n",
    "        if l:\n",
    "            sample = json.loads(l)\n",
    "            random.shuffle(sample['list'])\n",
    "\n",
    "            with open('test_random.txt', 'a') as f_out:\n",
    "                f_out.write(json.dumps(sample) + '\\n')"
   ]
  },
  {
   "cell_type": "markdown",
   "metadata": {},
   "source": [
    "## Experiment"
   ]
  },
  {
   "cell_type": "code",
   "execution_count": null,
   "metadata": {},
   "outputs": [],
   "source": [
    "prompt_template = '''The text below describes the order of numbers in several chains. Find the complete chain that starts with number {start_number}. Only output the chain and seperate the numbers with space.\n",
    "\n",
    "{description}\n",
    "\n",
    "The chain starts with {start_number} is: '''"
   ]
  },
  {
   "cell_type": "code",
   "execution_count": null,
   "metadata": {},
   "outputs": [],
   "source": [
    "test_left2right = True"
   ]
  },
  {
   "cell_type": "code",
   "execution_count": null,
   "metadata": {},
   "outputs": [],
   "source": [
    "if test_left2right:\n",
    "    with open('test_left2right.txt') as f_in:\n",
    "        data = [json.loads(l) for l in f_in]\n",
    "else:\n",
    "    with open('test_right2left.txt') as f_in:\n",
    "        data = [json.loads(l) for l in f_in]\n",
    "    "
   ]
  },
  {
   "cell_type": "markdown",
   "metadata": {},
   "source": [
    "### Single test"
   ]
  },
  {
   "cell_type": "code",
   "execution_count": null,
   "metadata": {},
   "outputs": [],
   "source": [
    "data_idx = 0\n",
    "question = data[data_idx]['question']\n",
    "chains = data[data_idx]['chains']\n",
    "prompt = prompt_template.format(start_number=question, description='\\n'.join(data[data_idx]['list']))\n",
    "response = openai_get(client, 'gpt-3.5-turbo', prompt)\n",
    "print(response)"
   ]
  },
  {
   "cell_type": "code",
   "execution_count": null,
   "metadata": {},
   "outputs": [],
   "source": [
    "locate_chain(chains, question)"
   ]
  },
  {
   "cell_type": "code",
   "execution_count": null,
   "metadata": {},
   "outputs": [],
   "source": [
    "prediction = parse_response(response)\n",
    "locate_error(chains, prediction, question, test_left2right)"
   ]
  },
  {
   "cell_type": "code",
   "execution_count": null,
   "metadata": {},
   "outputs": [],
   "source": [
    "print(locate_chain(chains, prediction[27]))"
   ]
  },
  {
   "cell_type": "code",
   "execution_count": null,
   "metadata": {},
   "outputs": [],
   "source": [
    "prediction[27]"
   ]
  },
  {
   "cell_type": "code",
   "execution_count": null,
   "metadata": {},
   "outputs": [],
   "source": [
    "prediction[28]"
   ]
  },
  {
   "cell_type": "markdown",
   "metadata": {},
   "source": [
    "### Test"
   ]
  },
  {
   "cell_type": "code",
   "execution_count": null,
   "metadata": {},
   "outputs": [],
   "source": [
    "for data_idx in tqdm(range(len(data))):\n",
    "    if data_idx < 0:\n",
    "        continue\n",
    "    if data_idx >= 100:\n",
    "        break\n",
    "    question = data[data_idx]['question']\n",
    "    chains = data[data_idx]['chains']\n",
    "    prompt = prompt_template.format(start_number=question, description='\\n'.join(data[data_idx]['list']))\n",
    "    response = openai_get(client, 'gpt-3.5-turbo', prompt)\n",
    "    \n",
    "    with open(f'prediction_{\"left2right\" if test_left2right else \"right2left\"}.txt', 'a') as f_out:\n",
    "        f_out.write(json.dumps({\n",
    "            'chains': chains,\n",
    "            'question': question,\n",
    "            'prediction': response.strip()\n",
    "        }) + '\\n')"
   ]
  },
  {
   "cell_type": "markdown",
   "metadata": {},
   "source": [
    "## Evaluation"
   ]
  },
  {
   "cell_type": "code",
   "execution_count": null,
   "metadata": {},
   "outputs": [],
   "source": [
    "def readlines(file:str):\n",
    "    with open(file) as f_in:\n",
    "        return [json.loads(l) for l in f_in]\n",
    "    \n",
    "def correct_num(prediction_file:str):\n",
    "    predictions = readlines(prediction_file)\n",
    "    corrects = []\n",
    "    for prediction in predictions:\n",
    "        answer = locate_chain(prediction['chains'], prediction['question'])\n",
    "        cnt = 0\n",
    "        for a, p in zip(answer, parse_response(prediction['prediction'])):\n",
    "            if a == p:\n",
    "                cnt += 1\n",
    "            else:\n",
    "                break\n",
    "        corrects.append(cnt)\n",
    "    return corrects"
   ]
  },
  {
   "cell_type": "code",
   "execution_count": null,
   "metadata": {},
   "outputs": [],
   "source": [
    "prediction_left2right = correct_num('data/chain_generation/fixed_chain/prediction_left2right_400_20.txt')\n",
    "prediction_right2left = correct_num('data/chain_generation/fixed_chain/prediction_right2left_400_20.txt')\n",
    "# prediction_random = correct_num('prediction_random.txt')"
   ]
  },
  {
   "cell_type": "code",
   "execution_count": null,
   "metadata": {},
   "outputs": [],
   "source": [
    "print(sum(prediction_left2right)/400)\n",
    "print(sum(prediction_right2left)/400)"
   ]
  },
  {
   "cell_type": "code",
   "execution_count": null,
   "metadata": {},
   "outputs": [],
   "source": [
    "plt.hist(prediction_left2right, bins=max(prediction_left2right)-min(prediction_left2right))"
   ]
  },
  {
   "cell_type": "code",
   "execution_count": null,
   "metadata": {},
   "outputs": [],
   "source": [
    "plt.hist(prediction_right2left, bins=max(prediction_right2left)-min(prediction_right2left))"
   ]
  },
  {
   "cell_type": "code",
   "execution_count": null,
   "metadata": {},
   "outputs": [],
   "source": [
    "plt.hist(prediction_left2right, bins=len(set(prediction_left2right))-1)"
   ]
  },
  {
   "cell_type": "code",
   "execution_count": null,
   "metadata": {},
   "outputs": [],
   "source": [
    "plt.hist(prediction_right2left, bins=len(set(prediction_right2left))-1)"
   ]
  },
  {
   "cell_type": "code",
   "execution_count": null,
   "metadata": {},
   "outputs": [],
   "source": [
    "plt.hist(prediction_random, bins=max(prediction_random)-min(prediction_random))"
   ]
  },
  {
   "cell_type": "code",
   "execution_count": null,
   "metadata": {},
   "outputs": [],
   "source": [
    "errors = []\n",
    "if test_left2right:\n",
    "    prediction_file = 'prediction_left2right.txt'\n",
    "else:\n",
    "    prediction_file = 'prediction_right2left.txt'\n",
    "with open(prediction_file) as f_in:\n",
    "    for l in f_in:\n",
    "        sample = json.loads(l)\n",
    "        prediction = parse_response(sample['prediction'])\n",
    "        error_log = locate_error(sample['chains'], prediction, sample['question'])\n",
    "        error_log['prediction'] = prediction\n",
    "        errors.append(error_log)"
   ]
  },
  {
   "cell_type": "code",
   "execution_count": null,
   "metadata": {},
   "outputs": [],
   "source": [
    "wrong_next_number_loc = []\n",
    "wrong_number_loc = []\n",
    "new_start_loc = []\n",
    "first_error_loc = []\n",
    "for idx in range(len(errors)):\n",
    "    chains = data[idx]['chains']\n",
    "    error_log = errors[idx]\n",
    "    prediction:List[int] = error_log['prediction']\n",
    "    pids = []\n",
    "    for key, value in error_log.items():\n",
    "        if key != 'prediction':\n",
    "            pid = int(key)\n",
    "            curr = prediction[pid]\n",
    "            curr_chain = locate_chain(chains, curr)\n",
    "            pids.append(pid)\n",
    "            error_text = value\n",
    "            if value == 'wrong_next_number':\n",
    "                prev = prediction[pid-1]\n",
    "                prev_chain = locate_chain(chains, prev)\n",
    "                wrong_number_loc.append(prev_chain.index(prev))\n",
    "                if curr_chain:\n",
    "                    wrong_next_number_loc.append(curr_chain.index(curr))\n",
    "            elif value == 'previous_not_in_list' or value == 'previous_at_end':\n",
    "                if curr_chain:\n",
    "                    new_start_loc.append(curr_chain.index(curr))\n",
    "    if pids:\n",
    "        first_error_loc.append(min(pids))\n",
    "    "
   ]
  },
  {
   "cell_type": "code",
   "execution_count": null,
   "metadata": {},
   "outputs": [],
   "source": [
    "plt.hist(first_error_loc, bins=len(set(first_error_loc))-1)"
   ]
  },
  {
   "cell_type": "code",
   "execution_count": null,
   "metadata": {},
   "outputs": [],
   "source": [
    "plt.hist(first_error_loc, bins=len(set(first_error_loc))-1)"
   ]
  },
  {
   "cell_type": "code",
   "execution_count": null,
   "metadata": {},
   "outputs": [],
   "source": [
    "plt.hist(wrong_number_loc, bins=len(set(wrong_number_loc))-1)"
   ]
  },
  {
   "cell_type": "code",
   "execution_count": null,
   "metadata": {},
   "outputs": [],
   "source": [
    "plt.hist(wrong_next_number_loc, bins=len(set(wrong_next_number_loc))-1)"
   ]
  },
  {
   "cell_type": "code",
   "execution_count": null,
   "metadata": {},
   "outputs": [],
   "source": [
    "plt.hist(new_start_loc, bins=len(set(new_start_loc))-1)"
   ]
  },
  {
   "cell_type": "code",
   "execution_count": null,
   "metadata": {},
   "outputs": [],
   "source": [
    "# Use chain extraction to locate the prefer zone\n",
    "# Dense retrieval + rank by score/origin order/score align prefer zone\n",
    "# Importance of context: bare text pieces vs wrapping context"
   ]
  },
  {
   "cell_type": "markdown",
   "metadata": {},
   "source": [
    "# Retrieval observation"
   ]
  },
  {
   "cell_type": "code",
   "execution_count": 1,
   "metadata": {},
   "outputs": [],
   "source": [
    "from transformers import AutoTokenizer, AutoModel\n",
    "from typing import List\n",
    "import torch\n",
    "from datasets import load_dataset\n",
    "from nltk import sent_tokenize\n",
    "from openai import OpenAI"
   ]
  },
  {
   "cell_type": "code",
   "execution_count": null,
   "metadata": {},
   "outputs": [],
   "source": [
    "\n",
    "# Set OpenAI's API key and API base to use vLLM's API server.\n",
    "openai_api_key = \"EMPTY\"\n",
    "openai_api_base = \"http://localhost:8000/v1\"\n",
    "\n",
    "client = OpenAI(\n",
    "    api_key=openai_api_key,\n",
    "    base_url=openai_api_base,\n",
    ")\n",
    "\n",
    "chat_response = client.chat.completions.create(\n",
    "    model=\"facebook/opt-125m\",\n",
    "    messages=[\n",
    "        {\"role\": \"system\", \"content\": \"You are a helpful assistant.\"},\n",
    "        {\"role\": \"user\", \"content\": \"Tell me a joke.\"},\n",
    "    ]\n",
    ")\n",
    "print(\"Chat response:\", chat_response)"
   ]
  },
  {
   "cell_type": "code",
   "execution_count": 13,
   "metadata": {},
   "outputs": [
    {
     "name": "stdout",
     "output_type": "stream",
     "text": [
      "Passage 1:\n",
      "Starting in 1996, Alexa Internet has been donating their crawl data to the Internet Archive. Flowing in every day, these data are added to the Wayback Machine after an embargo period.\n",
      "Passage 2:\n",
      "Image copyright Getty Images Image caption Kalashnikov designed the AK-47 after being wounded fighting for the Red Army NEWLINE_CHAR NEWLINE_CHAR The inventor of the Kalashnikov assault rifle apparently wrote to the head of the Russian Orthodox Church before he died expressing fears he was morally responsible for the people it killed. NEWLINE_CHAR NEWLINE_CHAR Mikhail Kalashnikov, who died last month aged 94, wrote a long emotional letter to Patriarch Kirill in May 2012, church officials say. NEWLINE_CHAR NEWLINE_CHAR He said he was suffering \"spiritual pain\" over the many deaths it caused. NEWLINE_CHAR NEWLINE_CHAR Kalashnikov had previously refused to accept responsibility for those killed. NEWLINE_CHAR NEWLINE_CHAR 'Devilish desires' NEWLINE_CHAR NEWLINE_CHAR Analysis The letter published by Izvestia provides a fascinating insight into the mind of the man who created Russia's most famous weapon. Mikhail Kalashnikov spent his career designing and perfecting assault rifles. More than 100 million Kalashnikovs have been sold worldwide. The gun brought Kalashnikov fame and a string of awards. But his letter to the Patriarch suggests that, towards the end of his life, Kalashnikov felt a degree of guilt - or \"spiritual pain\" as he puts it - for having invented a killing machine. It's unclear, though, how much of this he wrote himself. Izvestia quotes Kalashnikov's daughter, Elena, as saying she believes a priest helped her father compose the letter. NEWLINE_CHAR NEWLINE_CHAR But in a letter, published in Russia's pro-Kremlin newspaper Izvestia, he wrote: \"My spiritual pain is unbearable. NEWLINE_CHAR NEWLINE_CHAR \"I keep having the same unsolved question: if my rifle claimed people's lives, then can it be that I... a Christian and an Orthodox believer, was to blame for their deaths?\" he asked. NEWLINE_CHAR NEWLINE_CHAR \"The longer I live,\" he continued, \"the more this question drills itself into my brain and the more I wonder why the Lord allowed man to have the devilish desires of envy, greed and aggression\". NEWLINE_CHAR NEWLINE_CHAR The letter is typed on Kalashnikov's personal writing paper, and is signed with a wavering hand by the man who describes himself as \"a slave of God, the designer Mikhail Kalashnikov\". NEWLINE_CHAR NEWLINE_CHAR The Kalashnikov, or AK-47, is one of the world's most familiar and widely used weapons. NEWLINE_CHAR NEWLINE_CHAR Its comparative simplicity made it cheap to manufacture, as well as reliable and easy to maintain. NEWLINE_CHAR NEWLINE_CHAR It is thought that more than 100 million Kalashnikov rifles have been sold worldwide. NEWLINE_CHAR NEWLINE_CHAR Kalashnikov refused to accept responsibility for the many people killed by his weapon, blaming the policies of other countries that acquired it. NEWLINE_CHAR NEWLINE_CHAR Image copyright Reuters Image caption Russian President Vladimir Putin attended Kalashnikov's funeral in December NEWLINE_CHAR NEWLINE_CHAR However, pride in his invention was tempered with sadness at its use by criminals and child soldiers. NEWLINE_CHAR NEWLINE_CHAR \"It is painful for me to see when criminal elements of all kinds fire from my weapon,\" Kalashnikov said in 2008. NEWLINE_CHAR NEWLINE_CHAR He designed this rifle to defend his country, not so terrorists could use it in Saudi Arabia Cyril Alexander Volkov, Press secretary for Russian Patriarch Kirill NEWLINE_CHAR NEWLINE_CHAR Defend his country NEWLINE_CHAR NEWLINE_CHAR In his letter to Patriarch Kirill, Kalashnikov said that he first went into a church at the age of 91 and was later baptised. NEWLINE_CHAR NEWLINE_CHAR The BBC's Steve Rosenberg in Moscow says it is unclear how much of it he wrote himself. Izvestia quotes Kalashnikov's daughter, Elena, as saying she believes a priest helped her father compose the letter. NEWLINE_CHAR NEWLINE_CHAR The press secretary for the Russian Patriarch, Cyril Alexander Volkov, told the paper the religious leader had received Kalashnikov's letter and had written a reply. NEWLINE_CHAR NEWLINE_CHAR \"The Church has a very definite position: when weapons serve to protect the Fatherland, the Church supports both its creators and the soldiers who use it,\" Mr Volkov was quoted as saying. NEWLINE_CHAR NEWLINE_CHAR \"He designed this rifle to defend his country, not so terrorists could use it in Saudi Arabia.\" NEWLINE_CHAR NEWLINE_CHAR Kalashnikov received many Russian state honours, including the Order of Lenin and the Hero of Socialist Labour, but made little money from his gun. NEWLINE_CHAR NEWLINE_CHAR He died on 23 December after being admitted to hospital a month earlier with internal bleeding.\n",
      "Passage 3:\n",
      "In this Tuesday, Nov. 10, 2009 file photo Mikhail Kalashnikov, who invented the AK-47 assault rifle, attends festivities to celebrate his 90th birthday at the Kremlin in Moscow. (AP Photo/Natalia Kolesnikova, Pool, file) NEWLINE_CHAR NEWLINE_CHAR Mikhail Kalashnikov, designer of the legendary AK-47 assault rifle, turned to the head of the Russian Orthodox Church shortly before his death to express fears he was personally guilty for those it killed. NEWLINE_CHAR NEWLINE_CHAR Kalashnikov, who died in December at the age of 94, in April wrote a lengthy emotional letter to Russian Orthodox Church Patriarch Kirill, Izvestia, a pro-Kremlin daily, reported on Monday. NEWLINE_CHAR NEWLINE_CHAR \"My spiritual pain is unbearable. I keep having the same unsolved question: if my rifle took away people's lives, then can it be that I... am guilty for people's deaths, even if they were enemies?\" he asked. NEWLINE_CHAR NEWLINE_CHAR The typed letter on Kalashnikov's personal writing paper, reproduced by Izvestia, is signed with a wavering hand by the man who describes himself as \"a slave of God, the designer Mikhail Kalashnikov.\" NEWLINE_CHAR NEWLINE_CHAR Kalashnikov, whose funeral was attended by President Vladimir Putin, came up with the durable and simple rifle design after experiencing the Red Army's dire lack of weapons during World War II. NEWLINE_CHAR NEWLINE_CHAR Now the AK-47 is widely manufactured unlicenced around the world and has become a visual hallmark of armed insurgent movements, including those using child soldiers. NEWLINE_CHAR NEWLINE_CHAR Kalashnikov wrote that he first went into a church at the age of 91 and was later baptised. NEWLINE_CHAR NEWLINE_CHAR The Patriarch's press secretary, Alexander Volkov, told Izvestia that the Russian Church leader received the letter and wrote a personal reply. NEWLINE_CHAR NEWLINE_CHAR \"The Church has a very definite position: when weapons serve to protect the Fatherland, the Church supports both its creators and the soldiers who use it,\" Volkov said. NEWLINE_CHAR NEWLINE_CHAR \"He designed this rifle to defend his country, not so terrorists could use it in Saudi Arabia.\" NEWLINE_CHAR NEWLINE_CHAR The Russian Orthodox Church has sought to consolidate its new-found strength after the Soviet era by building up close ties with state agencies and powerful officials. NEWLINE_CHAR NEWLINE_CHAR When Kalashnikov was feted by the Soviet authorities, it would have been unthinkable for him to have declared himself anything else than an atheist. NEWLINE_CHAR NEWLINE_CHAR His daughter, Yelena, told Izvestia: \"Of course you can't say he went to services or lived strictly according to the commandments. You have to understand his generation.\"\n",
      "\n"
     ]
    }
   ],
   "source": [
    "datasets = [\n",
    "    # \"narrativeqa\", \n",
    "    # \"qasper\", \n",
    "    # \"multifieldqa_en\", \n",
    "    # \"multifieldqa_zh\", \n",
    "    # \"hotpotqa\", \n",
    "    # \"2wikimqa\", \n",
    "    # \"musique\", \n",
    "    # \"dureader\", \n",
    "    # \"gov_report\", \n",
    "    # \"qmsum\", \n",
    "    \"multi_news\", \n",
    "    # \"vcsum\", \n",
    "    # \"trec\", \n",
    "    # \"triviaqa\", \n",
    "    # \"samsum\", \n",
    "    # \"lsht\", \n",
    "    # \"passage_count\", \n",
    "    # \"passage_retrieval_en\", \n",
    "    # \"passage_retrieval_zh\", \n",
    "    # \"lcc\", \n",
    "    # \"repobench-p\"\n",
    "]\n",
    "task_name = datasets[0]\n",
    "\n",
    "dataset_dict = {task_name: load_dataset('THUDM/LongBench', task_name, split='test')}\n",
    "print(dataset_dict[task_name][1]['context'])"
   ]
  },
  {
   "cell_type": "code",
   "execution_count": 4,
   "metadata": {},
   "outputs": [
    {
     "data": {
      "text/plain": [
       "\"Question: What time does Wee Willie Winkie run through the town ?\\nType: Date\\nQuestion: What city is often called The Insurance Capital of the World ?\\nType: City\\nQuestion: What are the benefits of a rowing machine ?\\nType: Description of something\\nQuestion: What are the different approaches of systems analysis ?\\nType: Techniques and method\\nQuestion: When did the Jurassic Period end ?\\nType: Date\\nQuestion: What actor was the first man to appear on the cover of McCall 's ?\\nType: Individual\\nQuestion: What exactly , specifically does sleep do for you ?\\nType: Description of something\\nQuestion: What substance did Joseph Priestley name for its ability to erase pencil marks ?\\nType: Element and substance\\nQuestion: In what year was De Gaulle elected president of France ?\\nType: Date\\nQuestion: What is Britain 's possession on the Chinese mainland ?\\nType: Other location\\nQuestion: What is Jane Goodall known for ?\\nType: Reason\\nQuestion: What is the origin of the surname of Braun ?\\nType: Description of something\\nQuestion: What are my legal rights in an automobile repossession in California ?\\nType: Description of something\\nQuestion: What was the name of the director of the movie `` Jaws '' ?\\nType: Individual\\nQuestion: Who was the first American in space ?\\nType: Individual\\nQuestion: How long does a human live ?\\nType: Lasting time of somethin\\nQuestion: What company uses the unfamiliar faces of its celebrity spokespeople to promote the use of its product ?\\nType: Group or organization of person\\nQuestion: What are the medical purposes of `` clitoridectomy '' ?\\nType: Reason\\nQuestion: What Ernest Hemingway novel had the working title Fiesta ?\\nType: Invention, book and other creative piece\\nQuestion: What is the name of the ` female ' counterpart to El Nino , which results in cooling temperatures and very dry weather ?\\nType: Equivalent term\\nQuestion: What film did Louise Fletcher win the best actress Oscar for ?\\nType: Invention, book and other creative piece\\nQuestion: What was the claim to fame of King Camp Gillette ?\\nType: Reason\\nQuestion: Who was the first Russian astronaut to walk in space ?\\nType: Individual\\nQuestion: Who does the voices of the Simpsons ?\\nType: Individual\\nQuestion: What is the definition of `` chancery '' file in real estate ?\\nType: Definition of something\\nQuestion: Which drug is commonly used to treat AIDS ?\\nType: Disease and medicine\\nQuestion: How many astronauts manned each Project Mercury flight ?\\nType: Number of something\\nQuestion: What are the requirements for becoming a citizen of Australia ?\\nType: Description of something\\nQuestion: Why was Washington , DC originally called District of Columbia ?\\nType: Reason\\nQuestion: What is a fear of cold ?\\nType: Disease and medicine\\nQuestion: Who gave Abbie Hoffman his first dose of LSD ?\\nType: Individual\\nQuestion: What Nazi leader killed himself in jail just before he was to be executed as a war criminal ?\\nType: Individual\\nQuestion: What Pope inaugurated Vatican International Radio ?\\nType: Individual\\nQuestion: What member of The Little Rascals has an on-again , off-again sweetheart in Darla Hood ?\\nType: Individual\\nQuestion: What is the most expensive car in the world ?\\nType: Product\\nQuestion: Name a female figure skater .\\nType: Individual\\nQuestion: Name the university of which Woodrow Wilson was president .\\nType: Group or organization of person\\nQuestion: What is a fear of drinking ?\\nType: Disease and medicine\\nQuestion: What part did John Peter Zenger play in the deveopment of the newspaper in America ?\\nType: Individual\\nQuestion: How do hermit crabs reproduce ?\\nType: Manner of an action\\nQuestion: What 's the best way to lose the flab under your chin and around your face ?\\nType: Techniques and method\\nQuestion: What was the name of the ball game played by the mayans ?\\nType: Sport\\nQuestion: What are pomegranates ?\\nType: Definition of something\\nQuestion: What are the names of the different toes ?\\nType: Organ of body\\nQuestion: What percentage of Americans own their homes ?\\nType: Percent, fraction\\nQuestion: What are field effect transistors ?\\nType: Definition of something\\nQuestion: What is a fear of night or darkness ?\\nType: Disease and medicine\\nQuestion: What is a biologist ?\\nType: Definition of something\\nQuestion: What is Candlemas Day ?\\nType: Definition of something\\nQuestion: What Metropolis landmark was first introduced in the Superman cartoons of the 1940 's ?\\nType: Other location\\nQuestion: What is form drag ?\\nType: Definition of something\\nQuestion: Who were the 1974 Oscar winners ?\\nType: Individual\\nQuestion: Where did the Maya people live ?\\nType: Other location\\nQuestion: What kind of guitar did Jimi Hendrix play ?\\nType: Musical instrument\\nQuestion: What was the number of assassinations and attempts to assassinate in the U.S. since 1865 ?\\nType: Number of something\\nQuestion: How many people in the world speak French ?\\nType: Number of something\\nQuestion: Colin Powell is best known for what achievement ?\\nType: Reason\\nQuestion: What is the nickname of the famous flyer who mistakenly flew to Ireland instead of to Los Angeles ?\\nType: Individual\\nQuestion: What is the term for a group of geese ?\\nType: Equivalent term\\nQuestion: What kind of animals are Dorsets , Lincolns , Oxfords and Southdowns ?\\nType: Animal\\nQuestion: What blew up at Lakehurst , New Jersey , on May 6 , 1977 ?\\nType: Other entity\\nQuestion: What comic of TV 's golden age went by the motto `` Anything for a laugh '' ?\\nType: Individual\\nQuestion: What two countries are separated by the Bering Strait ?\\nType: Country\\nQuestion: What body of water does the Yukon River empty into ?\\nType: Other location\\nQuestion: Who is Luke Skywalker 's father ?\\nType: Individual\\nQuestion: What Texas city got its name from the Spanish for `` yellow '' ?\\nType: City\\nQuestion: What makes a clitoris sensitive ?\\nType: Reason\\nQuestion: How long does it take for your body to restore blood after you donate your blood ?\\nType: Lasting time of somethin\\nQuestion: How long does it take to travel from Tokyo to Niigata ?\\nType: Lasting time of somethin\\nQuestion: What constellation contains the twins Castor and Pollux ?\\nType: Other location\\nQuestion: What is Alice Cooper 's real name ?\\nType: Individual\\nQuestion: What is a fear of fish ?\\nType: Disease and medicine\\nQuestion: What did Aaron Hass write ?\\nType: Invention, book and other creative piece\\nQuestion: Who claimed he killed 4 , 280 buffalo as food for the crew building the Kansas Pacific Railway ?\\nType: Individual\\nQuestion: What was the occupation of Mandy Rice-Davies ?\\nType: Title of a person\\nQuestion: In what war was the first submarine used ?\\nType: Event\\nQuestion: Where is Procter & Gamble headquartered in the U.S. ?\\nType: Other location\\nQuestion: What did FCC chairman Newton Minow declare TV to be on May 9 , 1961 ?\\nType: Description of something\\nQuestion: What characteristics contribute to its `` intelligence '' ?\\nType: Reason\\nQuestion: What does Ouija mean ?\\nType: Definition of something\\nQuestion: What is the name of the brilliant British economist behind its creation ?\\nType: Individual\\nQuestion: What famous meat company went out of business because it became known that the underworld had been selling them kangaroo meat ?\\nType: Group or organization of person\\nQuestion: Which came first , according to Genesis 1 : 2 : 22 - the chicken or the egg ?\\nType: Animal\\nQuestion: What does a nihilist believe in ?\\nType: Description of something\\nQuestion: How many spears are there on Kenya 's flag ?\\nType: Number of something\\nQuestion: What is the difference between the Koran and The Bible ?\\nType: Description of something\\nQuestion: What Broadway musical was inspired by Cervantes 's Don Quixote ?\\nType: Invention, book and other creative piece\\nQuestion: Who is the Pope ?\\nType: Individual\\nQuestion: What is hypnotherapy ?\\nType: Definition of something\\nQuestion: What California governor said : `` Inaction may be the highest form of action '' ?\\nType: Individual\\nQuestion: How many months does a normal human pregnancy last ?\\nType: Number of something\\nQuestion: Where is the largest post office building in the world ?\\nType: Other location\\nQuestion: What Leoncavallo opera features a prologue by a clown ?\\nType: Invention, book and other creative piece\\nQuestion: What is habeas corpus ?\\nType: Definition of something\\nQuestion: How many people live in Chile ?\\nType: Number of something\\nQuestion: What is the fear of frogs ?\\nType: Disease and medicine\\nQuestion: What does the double-O indicate in 007 ?\\nType: Definition of something\\nQuestion: What did Lenny Bruce say that got him arrested ?\\nType: Description of something\\nQuestion: What is the longest English word ?\\nType: Word with a special property\\nQuestion: What are the odds of giving birth to twins ?\\nType: Percent, fraction\\nQuestion: What penalty space lies between Baltic Avenue and Reading Railroad on a Monopoly board ?\\nType: Other entity\\nQuestion: What is the approximate weight of a teaspoon of matter in a black hole ?\\nType: Weight\\nQuestion: How does light travel through the void of space if there is no medium for it to ` wave ' or ` pulse ' .\\nType: Manner of an action\\nQuestion: What is a fear of sinning ?\\nType: Disease and medicine\\nQuestion: When was London 's Docklands Light Railway constructed ?\\nType: Date\\nQuestion: What incident of 1933 did the German Nazis use to justify emergency decrees , imprisoning opponents and vesting more power in themselves ?\\nType: Event\\nQuestion: What war saw battles at Parrot 's Beak and Black Virgin ?\\nType: Event\\nQuestion: What is a phalanx ?\\nType: Definition of something\\nQuestion: What is New England 's highest mountain ?\\nType: Mountain\\nQuestion: Who is Count Cinzano ?\\nType: Description of a person\\nQuestion: When was Microsoft established ?\\nType: Date\\nQuestion: How does James Bond like his martinis ?\\nType: Manner of an action\\nQuestion: What 12-hour cold medicine uses the formula `` 6 , 6 , 12 '' in its ads ?\\nType: Disease and medicine\\nQuestion: What is object-oriented design ?\\nType: Definition of something\\nQuestion: How can you stop the itch from poison ivy ?\\nType: Manner of an action\\nQuestion: Who wrote Brave New World ?\\nType: Individual\\nQuestion: When was the Battle of Hastings ?\\nType: Date\\nQuestion: What is the origin of the word ` posh ' ?\\nType: Description of something\\nQuestion: How far can a man travel in outer space ?\\nType: Distance, linear measure\\nQuestion: Why were red M&Ms discontinued then brought back ?\\nType: Reason\\nQuestion: What type of hunting are retrievers used for ?\\nType: Other entity\\nQuestion: When were the Olympic Games in which Nadia Comaneci became popular played ?\\nType: Date\\nQuestion: Who was the conservationist who served as spokesperson for Post Grape Nuts ?\\nType: Individual\\nQuestion: What animal dined on bread and oysters with a carpenter ?\\nType: Animal\\nQuestion: What is the world 's deadliest infectious disease ?\\nType: Disease and medicine\\nQuestion: What percentage of the world 's plant and animal species can be found in the Amazon forests ?\\nType: Percent, fraction\\nQuestion: What meat complemented sweet potatoes and peas in the first TV dinner ?\\nType: Food\\nQuestion: What is her profession ?\\nType: Title of a person\\nQuestion: What is the difference between fatalism and determinism ?\\nType: Description of something\\nQuestion: Where is the group M People from ?\\nType: Other location\\nQuestion: What actor 's autobiography is titled All My Yesterdays ?\\nType: Individual\\nQuestion: How much does it cost , average or whatever is available , to produce and send junk mail catalogues in the US ? , DT CD NN NN ,\\nType: Price\\nQuestion: Who danced into stardom with Fred Astaire in 1941 's You 'll Never Get Rich ?\\nType: Individual\\nQuestion: What does the word LASER mean ?\\nType: Expression abbreviated\\nQuestion: What is hebephrenia ?\\nType: Definition of something\\nQuestion: What are the wolverine habits ?\\nType: Other entity\\nQuestion: Colin Powell is most famous for what ?\\nType: Reason\\nQuestion: How large is Missouri 's population ?\\nType: Other number\\nQuestion: What do opposite faces of a die always add up to ?\\nType: Other entity\\nQuestion: Name Alvin 's brothers\\nType: Individual\\nQuestion: How far can you see ?\\nType: Distance, linear measure\\nQuestion: What is magnetar ?\\nType: Definition of something\\nQuestion: What historical event happened in Dogtown in 1899 ?\\nType: Event\\nQuestion: What Caribbean island is sometimes called Little England ?\\nType: Other location\\nQuestion: What mountains lie between the Arkansas and Missouri rivers ?\\nType: Mountain\\nQuestion: How many different countries export coffee ?\\nType: Number of something\\nQuestion: What year did the first issue of `` Playboy '' come out ?\\nType: Date\\nQuestion: What is Ray Bradbury 's illustrated man illustrated with ?\\nType: Other entity\\nQuestion: What famous comic strip character died of acne ?\\nType: Individual\\nQuestion: How many Americans have HIV ?\\nType: Number of something\\nQuestion: What countries earn the most from tourism ?\\nType: Country\\nQuestion: What is a ball that hits the foul pole called ?\\nType: Equivalent term\\nQuestion: What is the connection between New Krypton and Daxam ?\\nType: Other entity\\nQuestion: How do I impress a guy ?\\nType: Manner of an action\\nQuestion: How many Vietnamese were there in the Soviet Union ?\\nType: Number of something\\nQuestion: What was the eighth day following the Nones in each month of the Roman calendar called ?\\nType: Equivalent term\\nQuestion: What is the probability that at least 2 out of 25 people will have the same birthday ?\\nType: Percent, fraction\\nQuestion: What are fingernails made of ?\\nType: Element and substance\\nQuestion: What is the name of the president of Garmat U.S.A ?\\nType: Individual\\nQuestion: Name the country which Honecker lived in .\\nType: Country\\nQuestion: What spice do chefs pay the most for ?\\nType: Food\\nQuestion: Who portrayed Dracula in Hammer Studios ' films ?\\nType: Individual\\nQuestion: Who retired with 755 home runs to his credit ?\\nType: Individual\\nQuestion: In a computer , what does SCSI mean ?\\nType: Expression abbreviated\\nQuestion: What is the name of the Islamic counterpart to the Red Cross ?\\nType: Equivalent term\\nQuestion: What businesses or agencies would do an employment verification ?\\nType: Group or organization of person\\nQuestion: What multitalented Academy-award-winning director failed a college course in motion-picture production ?\\nType: Individual\\nQuestion: What brand of white rum is still made in Cuba ?\\nType: Product\\nQuestion: What do the names Neil , Mary , and Anthony mean ?\\nType: Definition of something\\nQuestion: What is the difference between college and graduate school ?\\nType: Description of something\\nQuestion: What is office automation ?\\nType: Definition of something\\nQuestion: How do birds have sex ?\\nType: Manner of an action\\nQuestion: What is the difference between a bachelor and a 1 bedroom apartment ?\\nType: Description of something\\nQuestion: What handicraft requires you to interlace your warp and weft ?\\nType: Techniques and method\\nQuestion: How long do cardinal eggs incubate ?\\nType: Lasting time of somethin\\nQuestion: How do I register a trade name in North Carolina ?\\nType: Manner of an action\\nQuestion: What are the capital cities of the two large countries that occupy the Iberian peninsula in Europe ?\\nType: City\\nQuestion: How many states have a `` lemon law '' for new automobiles ?\\nType: Number of something\\nQuestion: Rotary engines were manufactured by which company ?\\nType: Group or organization of person\\nQuestion: How do you look up criminal records on the Internet ?\\nType: Manner of an action\\nQuestion: What South African producer had a 1988 profit of $836 million ?\\nType: Group or organization of person\\nQuestion: How did people respond to the idea of the first millenium ?\\nType: Manner of an action\\nQuestion: What are the three animals in Sheila Burnford 's The Incredible Journey ?\\nType: Animal\\nQuestion: Who was Shakespeare 's Moorish general ?\\nType: Individual\\nQuestion: What are the top boy names in the U.S. ?\\nType: Individual\\nQuestion: Why do recipe books recommend starting with cold water when you boil something ?\\nType: Reason\\nQuestion: What President hit the jogging paths to enhance his athletic image and , sporting No. 39 , almost collapsed during the road race ?\\nType: Individual\\nQuestion: What business exports the sparkling wine Spumante ?\\nType: Group or organization of person\\nQuestion: What are perfect tenses ?\\nType: Definition of something\\nQuestion: What is the website for the USA journal ?\\nType: Other location\\nQuestion: What hide-and-seek game is played around a tin can ?\\nType: Sport\\nQuestion: Woodrow Wilson served as president of what university ?\\nType: Group or organization of person\\nQuestion: Name Randy Craft 's lawyer .\\nType: Individual\\nQuestion: What year did Apartheid start ?\\nType: Date\\nQuestion: Which killer whale died at Sea World of a fungal infection ?\\nType: Animal\\nQuestion: What format was the major competition of VHS ?\\nType: Other entity\\nQuestion: What country has the port of Haifa ?\\nType: Country\\nQuestion: What mountain range extends from the Gulf of St. Lawrence to Alabama ?\\nType: Mountain\\nQuestion: What South American city features the exclusive Copacabana Beach and Ipanema ?\\nType: City\\nQuestion: What is the origin of thank you notes ?\\nType: Description of something\\nQuestion: What 's the population of Mississippi ?\\nType: Other number\\nQuestion: When was `` the Great Depression '' ?\\nType: Date\\nQuestion: What geological time do we live in ?\\nType: Date\\nQuestion: Who played Lucas McCain on The Rifleman ?\\nType: Individual\\nQuestion: Who held the endurance record for women pilots in 1929 ?\\nType: Individual\\nQuestion: How many dots make up the symbol for `` because '' ?\\nType: Number of something\\nQuestion: How big is the largest diamond ?\\nType: Size, area and volume\\nQuestion: What are the four most widely-used languages in North America ?\\nType: Language\\nQuestion: What city is the Kentucky Horse Park near ?\\nType: City\\nQuestion: What does Visine get out ?\\nType: Other entity\\nQuestion: What is a fear of sleep ?\\nType: Disease and medicine\\nQuestion: What Asian city boasts the world 's biggest bowling alley ?\\nType: City\\nQuestion: Why does a wheel , e.g. a car tire , appear to spin in the opposite direction as it slows down ?\\nType: Reason\\nQuestion: Who did Dita Beard work for ?\\nType: Individual\\nQuestion: What 's the name of the Tokyo Stock Exchange ?\\nType: Equivalent term\\nQuestion: What Morris West novel deals with Russian bishop who becomes Pope ?\\nType: Invention, book and other creative piece\\nQuestion: What country is Mount Everest in ?\\nType: Country\\nQuestion: How does food color affect how you think it will taste ?\\nType: Manner of an action\\nQuestion: What 1895 H.G. Wells novel was written under the title The Chronic Argonauts ?\\nType: Invention, book and other creative piece\\nQuestion: What year was the first automobile manufactured ?\\nType: Date\\nQuestion: What is the most number of goals scored by a single team in an NHL hockey game ?\\nType: Number of something\\nQuestion: What architect originated the glass house designed the Chicago Federal Center had a philosophy of `` less is more , '' and produced plans that were the forerunner of the California ranch house ?\\nType: Individual\\nQuestion: How many small businesses are there in the United States ?\\nType: Number of something\\nQuestion: How do I contact answers.com ?\\nType: Manner of an action\\nQuestion: What is the origin of the name Katie ?\\nType: Description of something\\nQuestion: What is a synonym for aspartame ?\\nType: Equivalent term\\nQuestion: What is Win Rah ?\\nType: Definition of something\\nQuestion: What 's the motto of the Boy Scouts ?\\nType: Description of something\\nQuestion: What Michelangelo sculpture is in Saint Peter 's Cathedral , Basilica , ?\\nType: Invention, book and other creative piece\\nQuestion: What type of food makes you fat ?\\nType: Food\\nQuestion: Who is the sexiest women in the world ?\\nType: Individual\\nQuestion: Where is the Loop ?\\nType: Other location\\nQuestion: What is the pig population of the world ?\\nType: Number of something\\nQuestion: What is celebrated during the week of February 21-27 ?\\nType: Event\\nQuestion: What did Warlock wear on his forehead in Marvel comics ?\\nType: Other entity\\nQuestion: How can I find online spelling , and punctuation drills for my 6th grader ?\\nType: Manner of an action\\nQuestion: What was the non-fiction best-seller of 1952 , 1953 and 1954 ?\\nType: Invention, book and other creative piece\\nQuestion: Which of the following actors worked in New York 's Yiddish Theater ?\\nType: Individual\\nQuestion: What is a word whose letters can be rearranged to form a different word ?\\nType: Word with a special property\\nQuestion: What is crabgrass ?\\nType: Definition of something\\nQuestion: What were the ceremony traditions like during the Elizabethian times ?\\nType: Other entity\\nQuestion: How many times in his 16-year National Basketball Associaton career was John Havlicek a member of the all-star team ?\\nType: Number of something\\nQuestion: What 's the international radio code word for the letter F ?\\nType: Word with a special property\\nQuestion: What is the busiest air travel season ?\\nType: Date\\nQuestion: Who was the first woman governor of Wyoming ?\\nType: Individual\\nQuestion: What number of American soldiers remain unaccounted from the Vietnam war ?\\nType: Other number\\nQuestion: What river is Windsor Castle on ?\\nType: Other location\\nQuestion: What American won the world Grand Prix driving championship in 1978 ?\\nType: Individual\\nQuestion: Where did the marriage ceremony come from ?\\nType: Description of something\\nQuestion: How many people died in the Vietnam war ?\\nType: Number of something\\nQuestion: What is the claim to fame of Agra , India ?\\nType: Reason\\nQuestion: What star-faring race brought about the Inhumans on Marvel 's Earth ?\\nType: Sport\\nQuestion: How many Fig Newtons are there to the pound ?\\nType: Number of something\\nQuestion: What is Grenada 's main commodity export ?\\nType: Other entity\\nQuestion: Who shoplifts ?\\nType: Individual\\nQuestion: What 's the population of Biloxi , Mississippi ?\\nType: Other number\\nQuestion: How tall is the replica of the Matterhorn at Disneyland ?\\nType: Distance, linear measure\\nQuestion: What did Walter Huston remove to perform in the movie The Treasure of the Sierra Madre ?\\nType: Other entity\\nQuestion: Which country is the largest country in Latin America ?\\nType: Country\\nQuestion: What cheery fellow got the ZIP code 9971 from the U.S. Postal Service in 1963 ?\\nType: Individual\\nQuestion: How many chairs are shown in Vincent Van Gogh 's 188 work The Artist 's Room in Arles ?\\nType: Number of something\\nQuestion: What is the recommended weight of a 15 year-old male that is 5 , 6 ?\\nType: Weight\\nQuestion: How long does the average domesticated ferret live ?\\nType: Lasting time of somethin\\nQuestion: What was her real name ?\\nType: Individual\\nQuestion: What was George Washington afraid of ?\\nType: Other entity\\nQuestion: How much of the silver production is manufactured by independent silversmiths ?\\nType: Number of something\\nQuestion: What painter popularized soup cans and Brillo soap pad boxes ?\\nType: Individual\\nQuestion: What is the music used in the new VW Beetle commercial where the car spins and changes colors ?\\nType: Invention, book and other creative piece\\nQuestion: Where did Sarge Steel get his metal hand ?\\nType: Other location\\nQuestion: What is `` alternative '' anymore ?\\nType: Definition of something\\nQuestion: What is a geoscientist ?\\nType: Definition of something\\nQuestion: What was the first domesticated bird ?\\nType: Animal\\nQuestion: What was the first Funk 'N Lata , Brazilian group , success ?\\nType: Description of something\\nQuestion: What is dew point ?\\nType: Definition of something\\nQuestion: What is the best selling computer model ever ?\\nType: Product\\nQuestion: How long is Camptown Racetrack ?\\nType: Distance, linear measure\\nQuestion: What book is subtitled The Preservation of Favoured Races in the Struggle for Life ?\\nType: Invention, book and other creative piece\\nQuestion: What team did Babe Ruth play his first major league game for ?\\nType: Group or organization of person\\nQuestion: What presidential press secretary dismissed Watergate as a third-rate burglary attempt ?\\nType: Individual\\nQuestion: What two body parts grow all your life ?\\nType: Organ of body\\nQuestion: Why does sound travel quicker through water than air ?\\nType: Reason\\nQuestion: What is the first day of the week ?\\nType: Date\\nQuestion: What does a polyorchid man have at least three of ?\\nType: Other entity\""
      ]
     },
     "execution_count": 4,
     "metadata": {},
     "output_type": "execute_result"
    }
   ],
   "source": [
    "dataset_dict[task_name][2]['context']"
   ]
  },
  {
   "cell_type": "code",
   "execution_count": 3,
   "metadata": {},
   "outputs": [
    {
     "name": "stdout",
     "output_type": "stream",
     "text": [
      "Question: What was J.F.K. 's wife 's name ?\n",
      "Type:\n"
     ]
    }
   ],
   "source": [
    "print(dataset_dict[task_name][1]['input'])"
   ]
  },
  {
   "cell_type": "code",
   "execution_count": 3,
   "metadata": {},
   "outputs": [],
   "source": [
    "def split_trec(text:str):\n",
    "    lines = text.splitlines()\n",
    "    return ['\\n'.join(lines[i * 2 : i * 2 + 1]) for i in range(len(lines) // 2)]\n",
    "\n",
    "def split_triviaqa(text:str):\n",
    "    lines = text.splitlines()\n",
    "    paragraphs = []\n",
    "    paragraph = []\n",
    "    lid = 0\n",
    "    while lid < len(lines):\n",
    "        paragraph.append(lines[lid])\n",
    "        if lines[lid] == 'Answer:':\n",
    "            lid += 1\n",
    "            paragraph.append(lines[lid])\n",
    "            paragraphs.append('\\n'.join(paragraph))\n",
    "            paragraph.clear()\n",
    "        lid += 1\n",
    "    return paragraphs\n",
    "\n",
    "def split_samsum(text:str):\n",
    "    paragraphs = []\n",
    "    paragraph = []\n",
    "    for line in text.splitlines():\n",
    "        paragraph.append(line)\n",
    "        if line.startswith('Summary: '):\n",
    "            paragraphs.append('\\n'.join(paragraph))\n",
    "            paragraph.clear()\n",
    "    return paragraphs\n",
    "\n",
    "class LongDoc:\n",
    "    paragraph_sep_map = {\n",
    "        'qasper': '\\n', \n",
    "        'multifieldqa_zh': '\\n', \n",
    "        'qmsum': '\\n', \n",
    "        'multi_news': '\\n', \n",
    "        'vcsum': '\\n', \n",
    "        'trec': (split_trec, '\\n'), \n",
    "        'triviaqa': (split_triviaqa, '\\n'), \n",
    "        'samsum': (split_samsum, '\\n'), \n",
    "    }\n",
    "    \n",
    "    def __init__(self, retriever_model_name:str='facebook/contriever', llm_name:str='meta-llama/Llama-2-7b-hf') -> None:\n",
    "        self.device = torch.device('cuda:2')\n",
    "        self.llm_tokenizer = AutoTokenizer.from_pretrained(llm_name)\n",
    "        self.retriever_tokenizer = AutoTokenizer.from_pretrained(retriever_model_name)\n",
    "        self.retriever_model = AutoModel.from_pretrained(retriever_model_name)\n",
    "        self.retriever_model.cuda(device=self.device)\n",
    "        \n",
    "    def get_task_paragraph_sep(self, task_name:str):\n",
    "        sep = self.paragraph_sep_map.get(task_name, '\\n\\n')\n",
    "        if not isinstance(sep, str):\n",
    "            func, sep = sep\n",
    "        return sep\n",
    "    \n",
    "    def split_context_to_paragraphs(self, context:str, task_name:str):\n",
    "        sep = self.paragraph_sep_map.get(task_name, '\\n\\n')\n",
    "        if isinstance(sep, str):\n",
    "            return context.split(sep)\n",
    "        else:\n",
    "            func, sep = self.paragraph_sep_map[task_name]\n",
    "            return func(context)\n",
    "    \n",
    "    # Mean pooling\n",
    "    @staticmethod\n",
    "    def _mean_pooling(token_embeddings:torch.Tensor, mask):\n",
    "        token_embeddings = token_embeddings.masked_fill(~mask[..., None].bool(), 0.)\n",
    "        sentence_embeddings:torch.Tensor  = token_embeddings.sum(dim=1) / mask.sum(dim=1)[..., None]\n",
    "        return sentence_embeddings\n",
    "\n",
    "    def _append_paragraph(self, paragraphs:list, tokenized_p:List[str]):\n",
    "        paragraphs.append(self.llm_tokenizer.decode(tokenized_p))\n",
    "        tokenized_p.clear()\n",
    "    \n",
    "    def split_single_paragraph(self, text:str, paragraph_size:int=300, is_natural_language:bool=True):\n",
    "        splited_paragraphs:List[str] = []\n",
    "        splited_paragraph = []\n",
    "        sentences:List[str] = sent_tokenize(text) if is_natural_language else text.split('\\n')\n",
    "        for sent in sentences:\n",
    "            tokenized_s = self.llm_tokenizer.encode(sent)[1:]\n",
    "            if len(tokenized_s) <= paragraph_size:\n",
    "                if len(splited_paragraph) + len(tokenized_s) > paragraph_size:\n",
    "                    self._append_paragraph(splited_paragraphs, splited_paragraph)\n",
    "                splited_paragraph.extend(tokenized_s)\n",
    "            else:\n",
    "                if splited_paragraph:\n",
    "                    self._append_paragraph(splited_paragraphs, splited_paragraph)\n",
    "                chunk_size = (len(tokenized_s) - 1) // paragraph_size + 1\n",
    "                for i in range(chunk_size - 1):\n",
    "                    self._append_paragraph(splited_paragraphs, tokenized_s[i * paragraph_size: (i+1) * paragraph_size])\n",
    "                splited_paragraph = tokenized_s[(chunk_size - 1) * paragraph_size:]\n",
    "        \n",
    "        return splited_paragraphs, splited_paragraph\n",
    "            \n",
    "        \n",
    "    def split_and_embed_paragraphs(self, text:str, task_name:str, paragraph_size:int=300):\n",
    "        reformated_paragraphs:List[str] = []\n",
    "        completion_labels:List[bool] = []\n",
    "        reformated_paragraph = []\n",
    "        \n",
    "        paragraph_sep = self.get_task_paragraph_sep(task_name)\n",
    "        paragraphs = text.split(paragraph_sep)\n",
    "        for p in paragraphs:\n",
    "            tokenized_p = self.llm_tokenizer.encode(p + paragraph_sep)[1:]\n",
    "            if len(tokenized_p) <= paragraph_size:\n",
    "                if len(reformated_paragraph) + len(tokenized_p) > paragraph_size:\n",
    "                    self._append_paragraph(reformated_paragraphs, reformated_paragraph)\n",
    "                    completion_labels.append(True)\n",
    "                reformated_paragraph.extend(tokenized_p)\n",
    "            else:\n",
    "                if reformated_paragraph:\n",
    "                    self._append_paragraph(reformated_paragraphs, reformated_paragraph)\n",
    "                    completion_labels.append(True)\n",
    "                splited_paragraphs, splited_paragraph = self.split_single_paragraph(p, paragraph_size)\n",
    "                reformated_paragraphs.extend(splited_paragraphs)\n",
    "                completion_labels.extend([False] * len(splited_paragraphs))\n",
    "                reformated_paragraph = splited_paragraph\n",
    "                \n",
    "        if reformated_paragraph:\n",
    "            self._append_paragraph(reformated_paragraphs, reformated_paragraph)\n",
    "            completion_labels.append(True)\n",
    "        \n",
    "        retriever_input = self.retriever_tokenizer.batch_encode_plus(reformated_paragraphs, padding=True, truncation=True, return_tensors='pt').to(self.device)\n",
    "        with torch.no_grad():\n",
    "            retriever_output = self.retriever_model(**retriever_input)\n",
    "            paragraph_embeddings= self._mean_pooling(retriever_output[0], retriever_input['attention_mask'])\n",
    "        \n",
    "        return reformated_paragraphs, completion_labels, paragraph_embeddings\n",
    "    \n",
    "    def retrieve_paragraphs(self, task_name:str, question:str, paragraphs:List[str], completion_labels:List[bool], paragraph_embeddings:torch.Tensor, k:int=5, order_by_rank:bool=True):\n",
    "        question_input = self.retriever_tokenizer.batch_encode_plus([question], truncation=True, return_tensors='pt').to(self.device)\n",
    "        with torch.no_grad():\n",
    "            question_output = self.retriever_model(**question_input)\n",
    "            question_embeddings = self._mean_pooling(question_output[0], question_input['attention_mask'])\n",
    "            ranks = torch.matmul(paragraph_embeddings, question_embeddings.T).squeeze()\n",
    "            indices = torch.topk(ranks, k).indices.tolist()\n",
    "            if not order_by_rank:\n",
    "                indices.sort()\n",
    "            paragraph_sep = self.get_task_paragraph_sep(task_name)\n",
    "            retrieved_text = ''\n",
    "            for i, idx in enumerate(indices):\n",
    "                retrieved_text += paragraphs[idx]\n",
    "                if idx == len(indices) - 1:\n",
    "                    break\n",
    "                if not completion_labels[idx]:\n",
    "                    if indices[i+1] == idx + 1:\n",
    "                        retrieved_text += ' '\n",
    "                    else:\n",
    "                        retrieved_text += paragraph_sep\n",
    "        return retrieved_text, indices\n",
    "        "
   ]
  },
  {
   "cell_type": "code",
   "execution_count": 4,
   "metadata": {},
   "outputs": [],
   "source": [
    "longdoc = LongDoc()"
   ]
  },
  {
   "cell_type": "code",
   "execution_count": 6,
   "metadata": {},
   "outputs": [],
   "source": [
    "task_name = 'narrativeqa'\n",
    "paragraphs, completion_labels, embeddings = longdoc.split_and_embed_paragraphs(dataset_dict[task_name][0]['context'], task_name)\n",
    "retrieved_text, indices = longdoc.retrieve_paragraphs(task_name, dataset_dict['narrativeqa'][0]['input'], paragraphs, completion_labels, embeddings)"
   ]
  },
  {
   "cell_type": "code",
   "execution_count": 14,
   "metadata": {},
   "outputs": [
    {
     "name": "stdout",
     "output_type": "stream",
     "text": [
      "’s widow (he had been mayor of\n",
      "Clockborough) would pass away and the heiress would return to her\n",
      "inheritance.  I gathered with surprise that she had not communicated to\n",
      "his wife the story of her attempt to hear Mr..Saltram, and I founded this\n",
      "reticence on the easy supposition that Mrs. Saltram had fatigued by\n",
      "overpressure the spring of the sympathy of which she boasted.  The girl\n",
      "at any rate would forget the small adventure, be distracted, take a\n",
      "husband; besides which she would lack occasion to repeat her experiment.\n",
      "\n",
      "ONE of the consequences, for the Mulvilles, of the sacrifices they made\n",
      "for Frank Saltram was that they had to give up their carriage.  Adelaide\n",
      "drove gently into London in a one-horse greenish thing, an early\n",
      "Victorian landau, hired, near at hand, imaginatively, from a broken-down\n",
      "jobmaster whose wife was in consumption—a vehicle that made people turn\n",
      "round all the more when her pensioner sat beside her in a soft white hat\n",
      "and a shawl, one of the dear woman’s own.  This was his position and I\n",
      "dare say his costume when on an afternoon in July she went to return Miss\n",
      "Anvoy’s visit.  The wheel of fate had now revolved, and amid silences\n",
      "deep and exhaustive, compunctions and condonations alike unutterable,\n",
      "Saltram was reinstated.  Was it in pride or in penance that Mrs. Mulville\n",
      "had begun immediately to drive him about?  If he was ashamed of his\n",
      "ingratitude she might have been ashamed of her forgiveness; but she was\n",
      "incorrigibly capable of liking him to be conspicuous in the landau while\n",
      "she was in shops or with her acquaintance.  However, if he was in the\n",
      "pillory for twenty\n",
      "\n",
      "had thus remained unanswered—she had\n",
      "enquired of me in a postscript what sort of man this aspirant to such a\n",
      "hand might be.  The great other fact about him just then was that he had\n",
      "been triumphantly returned for Clockborough in the interest of the party\n",
      "that had swept the country—so that I might easily have referred Mrs.\n",
      "Saltram to the journals of the day.  Yet when I at last wrote her that I\n",
      "was coming home and would discharge my accumulated burden by seeing her,\n",
      "I but remarked in regard to her question that she must really put it to\n",
      "Miss Anvoy.\n",
      "\n",
      " \n",
      "\n",
      " \n",
      "VI\n",
      "\n",
      "of experience.  The vivid scene was now peopled, and I could see him\n",
      "in the old-time garden with Miss Anvoy, who would be certain, and very\n",
      "justly, to think him good-looking.  It would be too much to describe\n",
      "myself as troubled by this play of surmise; but I occur to remember the\n",
      "relief, singular enough, of feeling it suddenly brushed away by an\n",
      "annoyance really much greater; an annoyance the result of its happening\n",
      "to come over me about that time with a rush that I was simply ashamed of\n",
      "Frank Saltram.  There were limits after all, and my mark at last had been\n",
      "reached.\n",
      "\n",
      "“She’s everything to her wretched father.  She writes me every\n",
      "post—telling me to smooth her aunt’s pillow.  I’ve other things to\n",
      "smooth; but the old lady, save for her servants, is really alone.  She\n",
      "won’t receive her Coxon relations—she’s angry at so much of her money\n",
      "going to them.  Besides, she’s hopelessly mad,” said Gravener very\n",
      "frankly.\n",
      "\n",
      " I don’t remember whether it was this, or what it was, that made me ask if\n",
      "she hadn’t such an appreciation of Mrs. Saltram as might render that\n",
      "active person of some use.\n",
      "\n",
      "\n"
     ]
    }
   ],
   "source": [
    "print(retrieved_text)"
   ]
  }
 ],
 "metadata": {
  "kernelspec": {
   "display_name": "local",
   "language": "python",
   "name": "python3"
  },
  "language_info": {
   "codemirror_mode": {
    "name": "ipython",
    "version": 3
   },
   "file_extension": ".py",
   "mimetype": "text/x-python",
   "name": "python",
   "nbconvert_exporter": "python",
   "pygments_lexer": "ipython3",
   "version": "3.11.7"
  }
 },
 "nbformat": 4,
 "nbformat_minor": 2
}
