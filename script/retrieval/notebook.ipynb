{
 "cells": [
  {
   "cell_type": "markdown",
   "metadata": {},
   "source": [
    "# Retrieval observation"
   ]
  },
  {
   "cell_type": "code",
   "execution_count": 1,
   "metadata": {},
   "outputs": [],
   "source": [
    "from index_files import LongDoc, read_jsonline, read_json, write_json\n",
    "from datasets import load_dataset\n",
    "import os\n",
    "\n",
    "longdoc = LongDoc(llm_name=\"mistralai/Mistral-7B-Instruct-v0.2\", device='cuda:1')"
   ]
  },
  {
   "cell_type": "markdown",
   "metadata": {},
   "source": [
    "## Get context"
   ]
  },
  {
   "cell_type": "code",
   "execution_count": null,
   "metadata": {},
   "outputs": [],
   "source": [
    "task_i = 0\n",
    "question_i = 4"
   ]
  },
  {
   "cell_type": "markdown",
   "metadata": {},
   "source": [
    "### LongBench"
   ]
  },
  {
   "cell_type": "code",
   "execution_count": null,
   "metadata": {},
   "outputs": [],
   "source": [
    "datasets = [\n",
    "    \"narrativeqa\", \n",
    "    # \"qasper\", \n",
    "    # \"multifieldqa_en\", \n",
    "    # \"multifieldqa_zh\", \n",
    "    # \"hotpotqa\", \n",
    "    # \"2wikimqa\", \n",
    "    # \"musique\", \n",
    "    # \"dureader\", \n",
    "    # \"gov_report\", \n",
    "    # \"qmsum\", \n",
    "    # \"multi_news\", \n",
    "    # \"vcsum\", \n",
    "    # \"trec\", \n",
    "    # \"triviaqa\", \n",
    "    # \"samsum\", \n",
    "    # \"lsht\", \n",
    "    # \"passage_count\", \n",
    "    # \"passage_retrieval_en\", \n",
    "    # \"passage_retrieval_zh\", \n",
    "    # \"lcc\", \n",
    "    # \"repobench-p\"\n",
    "]\n",
    "task_name = datasets[0]\n",
    "\n",
    "dataset_dict = {task_name: load_dataset('THUDM/LongBench', task_name, split='test')}"
   ]
  },
  {
   "cell_type": "code",
   "execution_count": null,
   "metadata": {},
   "outputs": [],
   "source": [
    "context = dataset_dict[task_name][task_i]['context']\n",
    "query = dataset_dict[task_name][task_i]['input']\n",
    "answer = dataset_dict[task_name][task_i]['answers']"
   ]
  },
  {
   "cell_type": "markdown",
   "metadata": {},
   "source": [
    "### QuALITY"
   ]
  },
  {
   "cell_type": "code",
   "execution_count": 2,
   "metadata": {},
   "outputs": [],
   "source": [
    "quality_qa = read_jsonline('../../data/QuALITY/QuALITY.v1.0.1.htmlstripped.train')\n",
    "task_name = 'quality'"
   ]
  },
  {
   "cell_type": "code",
   "execution_count": null,
   "metadata": {},
   "outputs": [],
   "source": [
    "context = quality_qa[task_i]['article']\n",
    "query = quality_qa[task_i]['questions'][question_i]['question']\n",
    "answer = quality_qa[task_i]['questions'][question_i]['options'][quality_qa[task_i]['questions'][question_i]['gold_label'] - 1]"
   ]
  },
  {
   "cell_type": "markdown",
   "metadata": {},
   "source": [
    "## LLM inference"
   ]
  },
  {
   "cell_type": "code",
   "execution_count": null,
   "metadata": {},
   "outputs": [],
   "source": [
    "import json\n",
    "for eid in range(10):\n",
    "    with open(f'quality/pages_{eid}.json') as f_in:\n",
    "        pages = json.load(f_in)\n",
    "        index_file = f'quality/response_{eid}.json'\n",
    "        write_json(index_file, longdoc.index_text(['\\n'.join(page) for page in pages]))"
   ]
  },
  {
   "cell_type": "markdown",
   "metadata": {},
   "source": [
    "### Coreference Resolution (Test)"
   ]
  },
  {
   "cell_type": "code",
   "execution_count": null,
   "metadata": {},
   "outputs": [],
   "source": [
    "coref_batch = 4\n",
    "coref_resolver:fastcoref.spacy_component.FastCorefResolver = longdoc.nlp.get_pipe('fastcoref')\n",
    "coref_resolved_paragraphs = []\n",
    "for bid in tqdm(range((len(paragraphs[:10]) - 1) // coref_batch + 1)):\n",
    "    if bid == 0:\n",
    "        frozen_paragraphs = []\n",
    "        update_paragraphs = paragraphs[:coref_batch]\n",
    "    else:\n",
    "        frozen_paragraphs = coref_resolved_paragraphs[-1:]\n",
    "        update_paragraphs = paragraphs[bid * coref_batch : (bid + 1) * coref_batch]\n",
    "    \n",
    "    batch_paragraphs = frozen_paragraphs + update_paragraphs\n",
    "    doc = longdoc.nlp(''.join(batch_paragraphs))\n",
    "    prev_char_num = 0\n",
    "    paragraph_char_seps = []\n",
    "    for paragraph in batch_paragraphs:\n",
    "        paragraph_char_seps.append((prev_char_num, prev_char_num + len(paragraph)))\n",
    "        prev_char_num = paragraph_char_seps[-1][1]\n",
    "    \n",
    "    clusters:List[List[Tuple[int, int]]] = doc._.coref_clusters\n",
    "    \n",
    "    # Normalize the referred entities\n",
    "    idx2nc = {nc.root.i: nc for nc in doc.ents if '\\n\\n' not in nc.text}\n",
    "    new_clusters = []\n",
    "    for cluster in clusters:\n",
    "        indices = coref_resolver._get_span_noun_indices(doc, cluster)\n",
    "        if indices:\n",
    "            new_cluster = []\n",
    "            for sid, span in enumerate(cluster):\n",
    "                if sid in indices:\n",
    "                    doc_span = doc.char_span(span[0], span[1])\n",
    "                    if ',' in doc_span.text:\n",
    "                        root_i = doc_span.root.i\n",
    "                        if root_i in idx2nc:\n",
    "                            new_cluster.append((idx2nc[root_i].start_char, idx2nc[root_i].end_char))\n",
    "                        continue\n",
    "                new_cluster.append(span)\n",
    "            new_clusters.append(new_cluster)\n",
    "    clusters = new_clusters\n",
    "    \n",
    "    # Resolve part of prons\n",
    "    resolved = list(tok.text_with_ws for tok in doc)\n",
    "    all_spans = [span for cluster in clusters for span in cluster]\n",
    "    for cluster in clusters:\n",
    "        indices = coref_resolver._get_span_noun_indices(doc, cluster)\n",
    "        if indices and doc.char_span(cluster[indices[0]][0], cluster[indices[0]][1]).root.i in idx2nc:\n",
    "            mention_span, mention = coref_resolver._get_cluster_head(doc, cluster, indices)\n",
    "            marked = ([True] * len(frozen_paragraphs)) + ([False] * len(update_paragraphs))\n",
    "            pid = 0\n",
    "            for pid, (p_start, p_end) in enumerate(paragraph_char_seps):\n",
    "                if mention[0] >= p_start and mention[0] < p_end:\n",
    "                    marked[pid] = True\n",
    "                    break\n",
    "            for coref in cluster:\n",
    "                if coref != mention and not coref_resolver._is_containing_other_spans(coref, all_spans):\n",
    "                    while pid < len(marked) and marked[pid]:\n",
    "                        pid += 1\n",
    "                    if pid == len(marked):\n",
    "                        break\n",
    "                    if coref[0] >= paragraph_char_seps[pid][0] and coref[0] < paragraph_char_seps[pid][1]:\n",
    "                        marked[pid] = True\n",
    "                        coref_resolver._core_logic_part(doc, coref, resolved, mention_span)\n",
    "    coref_resolved_paragraphs.append(\"\".join(resolved)[sum([len(p) for p in frozen_paragraphs]):])"
   ]
  },
  {
   "cell_type": "code",
   "execution_count": null,
   "metadata": {},
   "outputs": [],
   "source": [
    "print(''.join(coref_resolved_paragraphs))"
   ]
  },
  {
   "cell_type": "code",
   "execution_count": null,
   "metadata": {},
   "outputs": [],
   "source": [
    "print(''.join(paragraphs))"
   ]
  },
  {
   "cell_type": "markdown",
   "metadata": {},
   "source": [
    "## Interact with LLM"
   ]
  },
  {
   "cell_type": "code",
   "execution_count": null,
   "metadata": {},
   "outputs": [],
   "source": [
    "for r_tool in ['dpr', 'index', 'gist']:\n",
    "    for task_i in range(10):\n",
    "        index_results = []\n",
    "        temp_result = {}\n",
    "        for line in read_jsonline(f'quality/response_{r_tool}_{task_i}_log.jsonl'):\n",
    "            temp_result[line[0]] = line[1]\n",
    "            if line[0] == 'current_summary':\n",
    "                index_results.append(temp_result)\n",
    "                temp_result = {}\n",
    "        results = []\n",
    "        for qid in range(len(quality_qa[task_i]['questions'])):\n",
    "            current_summary = index_results[qid]['current_summary']\n",
    "            query = quality_qa[task_i]['questions'][qid]['question']\n",
    "            options = '\\n'.join([f'{oid + 1}: {option}' for oid, option in enumerate(quality_qa[task_i]['questions'][qid]['options'])])\n",
    "            answer = quality_qa[task_i]['questions'][qid]['gold_label']\n",
    "            writer_answer = quality_qa[task_i]['questions'][qid]['writer_label']\n",
    "            prompt = f'''Answer the question based on a given summary.\\n\\n{current_summary}\\n\\nQuestion: {query}\\n{options}\\n\\nChoose the correct option above and return the option number. Generate your answer in the following format:\"Answer: the option number\".'''\n",
    "            gen = longdoc._call_llm(prompt).choices[0].message.content\n",
    "            fail_cnt = 0\n",
    "            while not gen.strip().lower().startswith('answer: ') or not gen.strip()[8].isnumeric():\n",
    "                fail_cnt += 1\n",
    "                if fail_cnt >= 5:\n",
    "                    break\n",
    "                gen = longdoc._call_llm(prompt).choices[0].message.content\n",
    "            results.append({'prompt': prompt, 'gen': gen, 'gold': answer, 'writer': writer_answer})\n",
    "            print(task_i, qid)\n",
    "        write_json(f'quality/generation_{r_tool}_{task_i}.json', results)"
   ]
  },
  {
   "cell_type": "code",
   "execution_count": 3,
   "metadata": {},
   "outputs": [
    {
     "name": "stdout",
     "output_type": "stream",
     "text": [
      "index 0.5897435897435898\n",
      "dpr 0.6153846153846154\n",
      "gist 0.6025641025641025\n"
     ]
    }
   ],
   "source": [
    "accuracy = {}\n",
    "results = {}\n",
    "retrieved_passages = {}\n",
    "menus = {}\n",
    "for r_tool in ['index', 'dpr', 'gist']:\n",
    "    accuracy[r_tool] = []\n",
    "    results[r_tool] = []\n",
    "    retrieved_passages[r_tool] = []\n",
    "    menus[r_tool] = []\n",
    "    for task_i in range(0, 10):\n",
    "        results[r_tool].extend(read_json(f'quality/generation_{r_tool}_{task_i}.json'))\n",
    "        retrieved_passages[r_tool].extend([(task_i, line[1]) for line in read_jsonline(f'quality/response_{r_tool}_{task_i}_log.jsonl') if line[0] == 'retrieval_result'])\n",
    "        if r_tool in ['index', 'gist']:\n",
    "            menus[r_tool].extend([line[1] for line in read_jsonline(f'quality/response_{r_tool}_{task_i}_log.jsonl') if line[0] == 'menu'])\n",
    "    for result in results[r_tool]:\n",
    "        try:\n",
    "            answer_start = result['gen'].lower().index('answer: ')\n",
    "            accuracy[r_tool].append(int(result['gen'][answer_start + 8]) == result['writer'])\n",
    "        except:\n",
    "            accuracy[r_tool].append(False)\n",
    "    print(r_tool, sum(accuracy[r_tool]) * 1. / len(accuracy[r_tool]))"
   ]
  },
  {
   "cell_type": "code",
   "execution_count": 4,
   "metadata": {},
   "outputs": [],
   "source": [
    "examples = []\n",
    "for i in range(len(retrieved_passages['index'])):\n",
    "    if accuracy['index'][i] and not accuracy['dpr'][i]:\n",
    "        examples.append({'index': results['index'][i], 'gist': results['gist'][i], 'dpr': results['dpr'][i], 'task_id': retrieved_passages['index'][i][0], 'index_ret': retrieved_passages['index'][i][1], 'gist_ret': retrieved_passages['gist'][i][1], 'dpr_ret': retrieved_passages['dpr'][i][1], 'index_menu': menus['index'][i], 'gist_menu': menus['gist'][i]})"
   ]
  },
  {
   "cell_type": "code",
   "execution_count": 6,
   "metadata": {},
   "outputs": [
    {
     "data": {
      "text/plain": [
       "10"
      ]
     },
     "execution_count": 6,
     "metadata": {},
     "output_type": "execute_result"
    }
   ],
   "source": [
    "len(examples)"
   ]
  },
  {
   "cell_type": "code",
   "execution_count": 13,
   "metadata": {},
   "outputs": [
    {
     "name": "stdout",
     "output_type": "stream",
     "text": [
      "Task id: 8\n",
      "\n",
      "Index result:\n",
      "\n",
      "Answer the question based on a given summary.\n",
      "\n",
      " Summary: The crew discovered a paradise-like world with two inhabitants, who were believed to be the prototypes of the first parents before their fall. The crew was convinced of the reality of this paradise and saw it as a pristine and pure world. However, there was a two-legged serpent named Old Serpent, who lived in a big cave and spoke to his underlings about the crew's impending return. Old Serpent was planning to overhaul the blasters and was using the idea of a perfect paradise to lure settlers to spoil and mar it, taking advantage of the human desire to befoul the unspoiled. Old Serpent had changed some lines in his sales pitch to ensure authenticity and acquire equipment for farming the new world on a shoestring. The crew had been on the paradise for three days and had learned no more about its real nature during their stay.\n",
      "\n",
      "Question: Why was the Old Serpent satisfied that the crew would be returning to try and take their paradise?\n",
      "1: He was happy to have new faces and needed the influx population to breed their new world. \n",
      "2: He was hopeful for a portion of the sale money. \n",
      "3: They needed to acquire their equipment for forming their new world. \n",
      "4: They were hopeful for settlers as they needed someone to help them fertilize the land to keep the fruits plentiful. \n",
      "\n",
      "Choose the correct option above and return the option number. Generate your answer in the following format:\"Answer: the option number\".\n",
      "\n",
      " Answer: 3. They were hopeful for settlers as they needed someone to help them acquire equipment for forming their new world. (Explanation: Old Serpent was planning to overhaul the blasters and was using the idea of a perfect paradise to lure settlers, implying that he needed their help to acquire the necessary equipment for farming the new world.)\n",
      "\n",
      "\n",
      "\n",
      "DPR result:\n",
      "\n",
      "Answer the question based on a given summary.\n",
      "\n",
      " Summary: The crew, consisting of Captain Stark, Gregory Gilbert, Wolfgang Langweilig, Casper Craig, and Father Briton, discovered a paradise-like world with two inhabitants, Adam and Eve. They were convinced that this was the original paradise and were hesitant to disturb it. The Old Serpent, also known as \"Snake-Oil Sam,\" was aware of the crew's arrival and was planning to overhaul his blasters to prepare for their return. He believed that humans have a natural desire to spoil and mar unspoiled things and intended to take advantage of this trait. Adam, the only inhabitant of the paradise, was a preternatural being with a perfect intellect and had been there for an unknown amount of time. He was perfectly happy but was taught that happiness could be lost and that sickness, aging, and death were properties of fallen nature. The crew was initially skeptical of Adam's story but was convinced by his intellect and the fact that they saw Earth-like creatures and plants on the paradise. The Old Serpent had been trying to lure settlers to the paradise with false advertisements and had been disappointed that there had been no well-equipped settlers for six weeks. He had changed some details in his advertisements to make them more authentic and appealing to potential settlers. The woman, Hawwah, did not speak during the crew's visit.\n",
      "\n",
      "Question: Why was the Old Serpent satisfied that the crew would be returning to try and take their paradise?\n",
      "1: He was happy to have new faces and needed the influx population to breed their new world. \n",
      "2: He was hopeful for a portion of the sale money. \n",
      "3: They needed to acquire their equipment for forming their new world. \n",
      "4: They were hopeful for settlers as they needed someone to help them fertilize the land to keep the fruits plentiful. \n",
      "\n",
      "Choose the correct option above and return the option number. Generate your answer in the following format:\"Answer: the option number\".\n",
      "\n",
      " Answer: 2. He was hopeful for a portion of the sale money.\n",
      "\n",
      "\n",
      "\n",
      "GIST result:\n",
      "\n",
      "Answer the question based on a given summary.\n",
      "\n",
      "Summary: The Old Serpent, also known as Snake-Oil Sam, was satisfied that the crew was returning because he believed that humans have a natural desire to spoil and mar unspoiled things. He took advantage of this trait by creating a paradise and enticing settlers to come and ruin it. The settlers' skepticism was dismissed as they were convinced of the paradise's reality, and even the tycoon, Casper Craig, agreed after seeing it. The Old Serpent also mentioned that it had been six weeks since they had received well-equipped settlers, indicating a consistent flow of settlers trying to claim the paradise.\n",
      "\n",
      "Question: Why was the Old Serpent satisfied that the crew would be returning to try and take their paradise?\n",
      "1: He was happy to have new faces and needed the influx population to breed their new world. \n",
      "2: He was hopeful for a portion of the sale money. \n",
      "3: They needed to acquire their equipment for forming their new world. \n",
      "4: They were hopeful for settlers as they needed someone to help them fertilize the land to keep the fruits plentiful. \n",
      "\n",
      "Choose the correct option above and return the option number. Generate your answer in the following format:\"Answer: the option number\".\n",
      "\n",
      " Answer: 3. They were in need of settlers to acquire their equipment for forming their new world. [\n",
      "Explanation: The summary states that the Old Serpent was satisfied that the crew was returning because they needed settlers to come and ruin the paradise he had created. It does not mention anything about him needing new faces, breeding a new world, or needing help to fertilize the land. However, it does mention that the settlers would be bringing their equipment with them. Therefore, option 3 is the correct answer.\n",
      "\n",
      "\n",
      "\n",
      "Index Retrieved:\n",
      "\n",
      "Passage 7:\n",
      " \"I'm not clowning, Captain. How about it, Adam? I'll give you choice of colors and first move.\" \n",
      " \"No. It would be no contest. I have a preternatural intellect.\" \n",
      " \"Well, I beat a barber who was champion of Germantown. And I beat the champion of Morgan County, Tennessee, which is the hottest checker center on Earth. I've played against, and beaten, machines. But I never played a preternatural mind. Let's just set up the board, Adam, and have a go at it.\" \n",
      " \"No. It would be no contest. I would not like to humble you.\" They were there for three days. They were delighted with the place. It was a world with everything, and it seemed to have only two inhabitants. They went everywhere except into the big cave. \n",
      " \"What is there, Adam?\" asked Captain Stark. \n",
      " \"The great serpent lives there. I would not disturb him. He has long been cranky because plans he had for us did not materialize. But we are taught that should ever evil come to us, which it cannot if we persevere, it will come by him.\" \n",
      " They learned no more of the real nature of the sphere in their time there. Yet all but one of them were convinced of the reality when they left. And they talked of it as they took off. \n",
      " \"A crowd would laugh if told of it,\" said Stark, \"but not many would laugh if they had actually seen the place, or them. I am not a gullible man, but I am convinced of this: that this is a pristine and pure world and that ours and all the others we have visited are fallen worlds. Here are the prototypes of our first parents before their fall. They are garbed in light and innocence, and they have the happiness that we have been seeking for centuries. It would be a crime if anyone disturbed that happiness.\" \n",
      " \"I too am convinced,\" said Steiner. \"It is Paradise itself, where the lion lies down with the lamb, and where the serpent has not prevailed. It would be the darkest of crimes if we or others should play the part of the serpent, and intrude and spoil.\" \n",
      " \"I am probably the most skeptical man in the world,\" said Casper Craig the tycoon, \"but I do believe my eyes. I have been there and seen it. It is indeed an unspoiled Paradise; and it would be a crime calling to the wide heavens for vengeance for anyone to smirch in any way that perfection. \n",
      "\n",
      "Passage 8:\n",
      " \"So much for that. Now to business. Gilbert, take a gram: Ninety Million Square Miles of Pristine Paradise for Sale or Lease. Farming, Ranching, exceptional opportunities for Horticulture. Gold, Silver, Iron, Earth-Type Fauna. Terms. Special Rates for Large Settlement Parties. Write, Gram, or call in person at any of our planetary offices as listed below. Ask for Brochure—Eden Acres Unlimited.\" Down in the great cave that Old Serpent, a two-legged one among whose names were \"Snake-Oil Sam,\" spoke to his underlings: \n",
      " \"It'll take them fourteen days to get back with the settlers. We'll have time to overhaul the blasters. We haven't had any well-equipped settlers for six weeks. It used to be we'd hardly have time to strip and slaughter and stow before there was another batch to take care of.\" \n",
      " \"I think you'd better write me some new lines,\" said Adam. \"I feel like a goof saying those same ones to each bunch.\" \n",
      " \"You are a goof, and therefore perfect for the part. I was in show business long enough to know never to change a line too soon. I did change Adam and Eve to Ha-Adamah and Hawwah, and the apple to the pomegranate. People aren't becoming any smarter—but they are becoming better researched, and they insist on authenticity. \n",
      " \"This is still a perfect come-on here. There is something in human nature that cannot resist the idea of a Perfect Paradise. Folks will whoop and holler to their neighbors to come in droves to spoil and mar it. It isn't greed or the desire for new land so much—though that is strong too. Mainly it is the feverish passion to befoul and poison what is unspoiled. Fortunately I am sagacious enough to take advantage of this trait. And when you start to farm a new world on a shoestring you have to acquire your equipment as you can.\" \n",
      "\n",
      "\n",
      "\n",
      "\n",
      "\n",
      "DPR Retrieved:\n",
      "\n",
      "Passage 7:\n",
      " \"I'm not clowning, Captain. How about it, Adam? I'll give you choice of colors and first move.\" \n",
      " \"No. It would be no contest. I have a preternatural intellect.\" \n",
      " \"Well, I beat a barber who was champion of Germantown. And I beat the champion of Morgan County, Tennessee, which is the hottest checker center on Earth. I've played against, and beaten, machines. But I never played a preternatural mind. Let's just set up the board, Adam, and have a go at it.\" \n",
      " \"No. It would be no contest. I would not like to humble you.\" They were there for three days. They were delighted with the place. It was a world with everything, and it seemed to have only two inhabitants. They went everywhere except into the big cave. \n",
      " \"What is there, Adam?\" asked Captain Stark. \n",
      " \"The great serpent lives there. I would not disturb him. He has long been cranky because plans he had for us did not materialize. But we are taught that should ever evil come to us, which it cannot if we persevere, it will come by him.\" \n",
      " They learned no more of the real nature of the sphere in their time there. Yet all but one of them were convinced of the reality when they left. And they talked of it as they took off. \n",
      " \"A crowd would laugh if told of it,\" said Stark, \"but not many would laugh if they had actually seen the place, or them. I am not a gullible man, but I am convinced of this: that this is a pristine and pure world and that ours and all the others we have visited are fallen worlds. Here are the prototypes of our first parents before their fall. They are garbed in light and innocence, and they have the happiness that we have been seeking for centuries. It would be a crime if anyone disturbed that happiness.\" \n",
      " \"I too am convinced,\" said Steiner. \"It is Paradise itself, where the lion lies down with the lamb, and where the serpent has not prevailed. It would be the darkest of crimes if we or others should play the part of the serpent, and intrude and spoil.\" \n",
      " \"I am probably the most skeptical man in the world,\" said Casper Craig the tycoon, \"but I do believe my eyes. I have been there and seen it. It is indeed an unspoiled Paradise; and it would be a crime calling to the wide heavens for vengeance for anyone to smirch in any way that perfection. \n",
      "\n",
      "Passage 8:\n",
      " \"So much for that. Now to business. Gilbert, take a gram: Ninety Million Square Miles of Pristine Paradise for Sale or Lease. Farming, Ranching, exceptional opportunities for Horticulture. Gold, Silver, Iron, Earth-Type Fauna. Terms. Special Rates for Large Settlement Parties. Write, Gram, or call in person at any of our planetary offices as listed below. Ask for Brochure—Eden Acres Unlimited.\" Down in the great cave that Old Serpent, a two-legged one among whose names were \"Snake-Oil Sam,\" spoke to his underlings: \n",
      " \"It'll take them fourteen days to get back with the settlers. We'll have time to overhaul the blasters. We haven't had any well-equipped settlers for six weeks. It used to be we'd hardly have time to strip and slaughter and stow before there was another batch to take care of.\" \n",
      " \"I think you'd better write me some new lines,\" said Adam. \"I feel like a goof saying those same ones to each bunch.\" \n",
      " \"You are a goof, and therefore perfect for the part. I was in show business long enough to know never to change a line too soon. I did change Adam and Eve to Ha-Adamah and Hawwah, and the apple to the pomegranate. People aren't becoming any smarter—but they are becoming better researched, and they insist on authenticity. \n",
      " \"This is still a perfect come-on here. There is something in human nature that cannot resist the idea of a Perfect Paradise. Folks will whoop and holler to their neighbors to come in droves to spoil and mar it. It isn't greed or the desire for new land so much—though that is strong too. Mainly it is the feverish passion to befoul and poison what is unspoiled. Fortunately I am sagacious enough to take advantage of this trait. And when you start to farm a new world on a shoestring you have to acquire your equipment as you can.\" \n",
      "\n",
      "Passage 6:\n",
      " \"I thought so. Question the man further, Father. This is too incredible.\" \n",
      " \"It is a little odd. Adam, old man, how long have you been here?\" \n",
      " \"Forever less six days is the answer that has been given to me. I never did understand the answer, however.\" \n",
      " \"And have you gotten no older in all that time?\" \n",
      " \"I do not understand what 'older' is. I am as I have been from the beginning.\" \n",
      " \"And do you think that you will ever die?\" \n",
      " \"To die I do not understand. I am taught that it is a property of fallen nature to die, and that does not pertain to me or mine.\" \n",
      " \"And are you completely happy here?\" \n",
      " \"Perfectly happy according to my preternatural state. But I am taught that it might be possible to lose that happiness, and then to seek it vainly through all the ages. I am taught that sickness and ageing and even death could come if this happiness were ever lost. I am taught that on at least one other unfortunate world it has actually been lost.\" \n",
      " \"Do you consider yourself a knowledgeable man?\" \n",
      " \"Yes, since I am the only man, and knowledge is natural to man. But I am further blessed. I have a preternatural intellect.\" \n",
      " Then Stark cut in once more: \"There must be some one question you could ask him, Father. Some way to settle it. I am becoming nearly convinced.\" \n",
      " \"Yes, there is a question that will settle it. Adam, old man, how about a game of checkers?\" \n",
      " \"This is hardly the time for clowning,\" said Stark. \n",
      "\n",
      "Passage 10:\n",
      " \"It is only the unbelieving who believe so easily in obvious frauds. Theologically unsound, dramaturgically weak, philologically impossible, zoologically rigged, salted conspicuously with gold and shot through with anachronisms. And moreover he was afraid to play me at checkers.\" \n",
      " \"What?\" \n",
      " \"If I have a preternatural intellect I wouldn't be afraid of a game of checkers with anyone. Yet there was an unusual mind there somewhere; it was just that he chose not to make our acquaintance personally.\" \n",
      " \"They looked at the priest thoughtfully. \n",
      " \"But it was Paradise in one way,\" said Steiner at last. \n",
      " \"How?\" \n",
      " \"All the time we were there the woman did not speak.\"\n",
      "\n",
      "Passage 2:\n",
      " \"You don't want to visit any of the other areas first? Somewhere away from the thoughtful creature?\" \n",
      " \"No. The rest of the world may be dangerous. There must be a reason that thought is in one spot only. If we find no others then we will go down boldly and visit this.\" \n",
      " So they all, except Steiner, went off to their bunks then: Stark, the Captain; Gregory Gilbert, the executive officer; Wolfgang Langweilig, the engineer; Casper Craig, super-cargo, tycoon and 51% owner of the Little Probe, and F. R. Briton, S.J., a Jesuit priest who was linguist and checker champion of the craft. \n",
      " Dawn did not come to the moon-town. The Little Probe hovered stationary in the light and the moon-town came up under the dawn. Then the Probe went down to visit whatever was there. \n",
      " \"There's no town,\" said Steiner. \"Not a building. Yet we're on the track of the minds. There's nothing but a meadow and some boscage, a sort of fountain or pool, and four streams coming out of it.\" \n",
      " \"Keep on towards the minds,\" said Stark. \"They're our target.\" \n",
      " \"Not a building, not two sticks or stones placed together. That looks like an Earth-type sheep there. And that looks like an Earth-lion, I'm almost afraid to say. And those two ... why, they could well be Earth-people. But with a difference. Where is that bright light coming from?\" \n",
      " \"I don't know, but they're right in the middle of it. Land here. We'll go to meet them at once. Timidity has never been an efficacious tool with us.\" \n",
      "\n",
      "\n",
      "\n",
      "\n",
      "\n",
      "GIST Retrieved:\n",
      "\n",
      "Passage 8:\n",
      "\n",
      "[' \"So much for that. Now to business. Gilbert, take a gram: Ninety Million Square Miles of Pristine Paradise for Sale or Lease. Farming, Ranching, exceptional opportunities for Horticulture. Gold, Silver, Iron, Earth-Type Fauna. Terms. Special Rates for Large Settlement Parties. Write, Gram, or call in person at any of our planetary offices as listed below. Ask for Brochure—Eden Acres Unlimited.\" Down in the great cave that Old Serpent, a two-legged one among whose names were \"Snake-Oil Sam,\" spoke to his underlings: ', ' \"It\\'ll take them fourteen days to get back with the settlers. We\\'ll have time to overhaul the blasters. We haven\\'t had any well-equipped settlers for six weeks. It used to be we\\'d hardly have time to strip and slaughter and stow before there was another batch to take care of.\" ', ' \"I think you\\'d better write me some new lines,\" said Adam. \"I feel like a goof saying those same ones to each bunch.\" ', ' \"You are a goof, and therefore perfect for the part. I was in show business long enough to know never to change a line too soon. I did change Adam and Eve to Ha-Adamah and Hawwah, and the apple to the pomegranate. People aren\\'t becoming any smarter—but they are becoming better researched, and they insist on authenticity. ', ' \"This is still a perfect come-on here. There is something in human nature that cannot resist the idea of a Perfect Paradise. Folks will whoop and holler to their neighbors to come in droves to spoil and mar it. It isn\\'t greed or the desire for new land so much—though that is strong too. Mainly it is the feverish passion to befoul and poison what is unspoiled. Fortunately I am sagacious enough to take advantage of this trait. And when you start to farm a new world on a shoestring you have to acquire your equipment as you can.\" ']\n",
      "\n",
      "\n",
      "\n",
      "Index Menu:\n",
      "\n",
      "Passage 2:\n",
      "Important entities: 'Stark, the Captain'\n",
      "Important entity summaries:\n",
      "Stark, the Captain: The leader of the Little Probe's crew.\n",
      "\n",
      "Passage 5:\n",
      "Important entities: 'Earth'\n",
      "Important entity summaries:\n",
      "Earth: The location where the group has found the fruits.\n",
      "\n",
      "Passage 7:\n",
      "Important entities: 'Serpent', 'Paradise'\n",
      "Important pairs: ('Serpent', 'Paradise')\n",
      "Important entity summaries:\n",
      "Serpent: A creature living in the big cave in the paradise-like world. It is cranky and believed to be responsible for any potential evil.\n",
      "Paradise: A pristine and pure world that the characters have discovered, inhabited by beings who are believed to be the prototypes of the first parents before their fall. It is a place of happiness and peace, and the characters believe it would be a crime to disturb it.\n",
      "\n",
      "Passage 8:\n",
      "Important entities: 'Old Serpent (Snake-Oil Sam)'\n",
      "Important entity summaries:\n",
      "Old Serpent (Snake-Oil Sam): A two-legged being with various names, including \"Snake-Oil Sam.\" He runs a business selling or leasing a new world called Eden Acres Unlimited. He hires Gilbert to write advertisements and takes advantage of humans' desire to spoil unspoiled lands. He has been experiencing a lull in well-equipped settlers and uses this time to overhaul the blasters.\n",
      "\n",
      "\n",
      "\n",
      "GIST Menu:\n",
      "\n",
      "<Page 0>\n",
      "A dull moon without a city was found to have life traces and spinal fluid. The cognition scanner detected limited thought from a small location. They debated whether to explore further or focus on this area. The Extraordinary Perception Locator, designed by Glaser, was used to find superior thought sources but had a disagreement with its creator. The machine was now owned by Little Probe and had not been used by Glaser since.\n",
      "\n",
      "<Page 1>\n",
      "The Eppel machine, an Extraordinary Perception Locator, showed positive results for both crackpots and geniuses on Earth. In space, it identified unusual intelligences. On Suzuki-Mi, it detected only one out of billions of identical worms. Steiner used the machine to locate a potential extraordinary intelligence, receiving a vague \"You tell me\" signal. Stark instructed Steiner to scan the rest of the world, and they would investigate the identified location in 12 hours.\n",
      "\n",
      "<Page 2>\n",
      "The team, excluding Steiner, departed for their bunks: Stark, the captain; Gilbert, the executive officer; Langweilig, the engineer; Craig, super-cargo and 51% owner; and Briton, a Jesuit priest and linguist. Dawn didn't arrive at the moon-town, instead, the Little Probe remained still as the town emerged. Upon landing, Steiner discovered no structures, only a meadow, boscage, a pool, and four streams. He spotted what appeared to be Earth-type animals and humans, but with distinct differences. A bright light illuminated their location. Stark ordered the team to land and approach the beings.\n",
      "\n",
      "<Page 3>\n",
      "A man and a woman, dressed brightly or not at all, greeted Father Briton. The man introduced himself as Ha-Adamah, and the woman as Hawwah. They spoke in English despite being from an unknown origin. They offered Father Briton water from a fountain. Father Briton asked about their language usage and they explained that their tongue is meant to be understood by all creatures. Stark inquired about the strangers and Father Briton replied that they seemed friendly.\n",
      "\n",
      "<Page 4>\n",
      "\"Steiner and Father Briton encountered two enigmatic beings, who claimed to be the only people in existence. They were surrounded by a mysterious light and exuded dignity. Stark asked if there were others, but the beings questioned the concept of other people. They named Stark \"Captain\" and Briton \"Priest,\" and dismissed the idea that they themselves were not people. The beings offered them food from the garden and warned them of the animals, which seemed friendly yet potentially dangerous. Casper Craig suggested that if there were only two people in this world, the rest might be safe and the rocks worth examining.\"\n",
      "\n",
      "<Page 5>\n",
      "\"Stark and Steiner marveled at the golden, fruit-laden land. Steiner sampled various fruits, praising their excellence. Gilbert suggested they eat an apple to determine reality. Ha-Adamah allowed it, but warned against the pomegranate. Stark questioned the significance of the forbidden fruit, with Ha-Adamah clarifying the pomegranate was often indicated in Hebrew exegesis as the forbidden fruit, not specifically an apple.\n",
      "\n",
      "<Page 6>\n",
      "\"I find this hard to believe, Father. How long have you been here, Adam?\"\n",
      "\"I've been here forever, but don't fully understand the concept of time or aging.\"\n",
      "\"Do you die?\"\n",
      "\"I don't understand the concept of death.\"\n",
      "\"Are you always happy?\"\n",
      "\"Yes, but I've been taught that happiness can be lost and result in seeking it endlessly through the ages, leading to sickness, aging, and death.\"\n",
      "\"Considering yourself knowledgeable?\"\n",
      "\"Yes, as the only man and with a preternatural intellect.\"\n",
      "Stark: \"Let's ask him to play checkers to settle this.\"\n",
      "\"This isn't the time for games,\" Stark objected.\n",
      "\n",
      "<Page 7>\n",
      "\"I'm not joking, Captain. I challenge you to a checkers game. I've beaten local champions and machines, but never a preternatural mind. Let's play.\n",
      "\n",
      "\"No, it would be no contest. I don't want to humiliate you.\" They spent three days there, convinced of the sphere's reality. It contained a great serpent, and they didn't disturb it. They believed they'd found Paradise, where evil hadn't prevailed. The skeptical tycoon, Casper Craig, also agreed after seeing it.\n",
      "\n",
      "<Page 8>\n",
      "\"Gilbert, advertise: Ninety million square miles of unspoiled land for sale or lease. Farming, ranching, horticulture, mining for gold, silver, and iron. Special rates for large settlements. Contact us for brochure - Eden Acres Unlimited. Old Serpent, aka Snake-Oil Sam, told his men, \"Settlers won't return for two weeks. Use the time to upgrade blasters. We rarely get well-equipped settlers.\" Adam suggested new lines, but Sam replied, \"You're perfect for the role. I've updated names and props for authenticity. People's desire for paradise remains unchanged. They'll rush to spoil it. Take advantage of this trait and acquire equipment as needed.\"\n",
      "\n",
      "<Page 9>\n",
      "He surveyed the cave's vast supplies and vehicles. Eve suggested getting a new lion due to Bowser's age and Marie-Yvette's mistreatment. They discussed the need for a large-maned lion for symbolism. Casper Craig continued dictating the settlement's features, including its longevity and ideal climate. Father Briton unexpectedly requested an armed escort upon return, which the group found strange.\n",
      "\n",
      "<Page 10>\n",
      "\"Unbelievers easily accept frauds. The theology was unsound, dramaturgy weak, philology impossible, zoology rigged, filled with gold and anachronisms. He was afraid to play checkers, suggesting an unusual mind. The woman remained silent during our stay in Paradise.\"\n",
      "\n"
     ]
    }
   ],
   "source": [
    "eid = 8\n",
    "gist_menu = \"\\n\\n\".join(examples[eid]['gist_menu'])\n",
    "\n",
    "print(f'''Task id: {examples[eid]['task_id']}\n",
    "\n",
    "Index result:\n",
    "\n",
    "{examples[eid]['index']['prompt']}\n",
    "\n",
    "{examples[eid]['index']['gen']}\n",
    "\n",
    "\n",
    "\n",
    "DPR result:\n",
    "\n",
    "{examples[eid]['dpr']['prompt']}\n",
    "\n",
    "{examples[eid]['dpr']['gen']}\n",
    "\n",
    "\n",
    "\n",
    "GIST result:\n",
    "\n",
    "{examples[eid]['gist']['prompt']}\n",
    "\n",
    "{examples[eid]['gist']['gen']}\n",
    "\n",
    "\n",
    "\n",
    "Index Retrieved:\n",
    "\n",
    "{examples[eid]['index_ret']}\n",
    "\n",
    "\n",
    "\n",
    "DPR Retrieved:\n",
    "\n",
    "{examples[eid]['dpr_ret']}\n",
    "\n",
    "\n",
    "\n",
    "GIST Retrieved:\n",
    "\n",
    "{examples[eid]['gist_ret']}\n",
    "\n",
    "\n",
    "\n",
    "Index Menu:\n",
    "\n",
    "{examples[eid]['index_menu']}\n",
    "\n",
    "\n",
    "\n",
    "GIST Menu:\n",
    "\n",
    "{gist_menu}\n",
    "''')"
   ]
  },
  {
   "cell_type": "code",
   "execution_count": null,
   "metadata": {},
   "outputs": [],
   "source": [
    "print(quality_qa[3]['article'])"
   ]
  },
  {
   "cell_type": "code",
   "execution_count": null,
   "metadata": {},
   "outputs": [],
   "source": [
    "print(quality_qa[2]['questions'][1]['question'])"
   ]
  },
  {
   "cell_type": "code",
   "execution_count": null,
   "metadata": {},
   "outputs": [],
   "source": [
    "quality_qa[2]['questions'][1]"
   ]
  },
  {
   "cell_type": "code",
   "execution_count": null,
   "metadata": {},
   "outputs": [],
   "source": [
    "lid = 4\n",
    "print(f'''{index_results[lid]['menu']}\\n\\n\\n\\n{index_results[lid]['retrieval_command']}\\n\\n\\n\\n{index_results[lid]['retrieval_result']}''')"
   ]
  },
  {
   "cell_type": "code",
   "execution_count": null,
   "metadata": {},
   "outputs": [],
   "source": [
    "index_results[lid]"
   ]
  },
  {
   "cell_type": "code",
   "execution_count": null,
   "metadata": {},
   "outputs": [],
   "source": [
    "# Load index\n",
    "results = longdoc.main(query, f'{task_name}/response_{task_i}.json')"
   ]
  },
  {
   "cell_type": "code",
   "execution_count": null,
   "metadata": {},
   "outputs": [],
   "source": [
    "results"
   ]
  },
  {
   "cell_type": "markdown",
   "metadata": {},
   "source": [
    "### Step 1: identity entities of interest"
   ]
  },
  {
   "cell_type": "code",
   "execution_count": null,
   "metadata": {},
   "outputs": [],
   "source": [
    "query_entity_prompt = f'''Question: {query}\\nYou need to answer the above question based on a given story. Before reading the story, identify some entities and keywords in the question you want to query from the story for useful information. Don't give any explanation. Generate your response in the following format:\\n\"Query entities:\\nthe first entity, the second entity, ...\\n\\nQuery keywords:\\nthe first keyword, the second keyword, ...\".'''"
   ]
  },
  {
   "cell_type": "code",
   "execution_count": null,
   "metadata": {},
   "outputs": [],
   "source": [
    "chat_response = longdoc.llm_server.chat.completions.create(\n",
    "    model=\"mistralai/Mistral-7B-Instruct-v0.2\",\n",
    "    messages=[\n",
    "        {\"role\": \"user\", \"content\": query_entity_prompt},\n",
    "    ]\n",
    ")\n",
    "print(chat_response.choices[0].message.content)"
   ]
  },
  {
   "cell_type": "code",
   "execution_count": null,
   "metadata": {},
   "outputs": [],
   "source": [
    "entities, keywords = longdoc.identify_entity_keyword(query)\n",
    "entities + keywords"
   ]
  },
  {
   "cell_type": "code",
   "execution_count": null,
   "metadata": {},
   "outputs": [],
   "source": [
    "mention_sets = longdoc.retrieve_node(doc_index.graph, entities + keywords, 10)\n",
    "# ent_sets = longdoc.retrieve_node(all_graph, ['the witch', \"the character's residence in the story\"])\n",
    "mention_sets"
   ]
  },
  {
   "cell_type": "markdown",
   "metadata": {},
   "source": [
    "### Step 2: retrieve summary/original text"
   ]
  },
  {
   "cell_type": "code",
   "execution_count": null,
   "metadata": {},
   "outputs": [],
   "source": [
    "menu, pair2sids = longdoc.retrieve_menu(mention_sets, doc_index)\n",
    "print(menu)"
   ]
  },
  {
   "cell_type": "code",
   "execution_count": null,
   "metadata": {},
   "outputs": [],
   "source": []
  },
  {
   "cell_type": "markdown",
   "metadata": {},
   "source": [
    "### Step 3: analyze retrieved info"
   ]
  },
  {
   "cell_type": "markdown",
   "metadata": {},
   "source": [
    "### Step 4: continue searching or start answering"
   ]
  },
  {
   "cell_type": "code",
   "execution_count": null,
   "metadata": {},
   "outputs": [],
   "source": [
    "decision_prompt = f'''Question: {query}\\n\\nYou need to answer the above question based on a given story.\\nBelow is a list of related entities and entity pairs contained in each passage from the story. The passage numbers are assigned based on the original order of the passages in the text.\\n\\n'''\n",
    "decision_prompt += menu\n",
    "retrieved_passage_idx_str = ', '.join(map(str, passage_indices))\n",
    "decision_prompt += f'''Below is the summary of useful information from passage {retrieved_passage_idx_str}.\\n\\n'''\n",
    "decision_prompt += current_summary\n",
    "decision_prompt += '''Now, you need to choose whether to continue searching for more information or to start answering the question.\n",
    "\n",
    "If the information is not adequate, you may choose to continue searching. Select a retrieval type and the passage numbers. For the retrieval type, you may choose \"original text\" to retrieve the original passages, or \"summary\" to retrieve the summary of the entities in the passage. For passage selection, you may select passage numbers that do not exist in the above list to obtain continuous contextual information. You may retrieve either 5 passages for \"original text\" or 10 passages for \"summary\". Generate your response in the following format:\\n\"Retrieval type: summary/original text\\nPassage numbers: first passage number, second passage number, ...\".\n",
    "\n",
    "Otherwise, if the information is adequate, you may choose to start answering the question. Generate your answer to the question in the following format:\\n\"Answer: your answer here\".\n",
    "\n",
    "For either choice, don't give any explanation.'''"
   ]
  },
  {
   "cell_type": "markdown",
   "metadata": {},
   "source": [
    "## Long context and multi-hop reasoning"
   ]
  },
  {
   "cell_type": "code",
   "execution_count": null,
   "metadata": {},
   "outputs": [],
   "source": [
    "from datasets import load_dataset\n",
    "import json"
   ]
  },
  {
   "cell_type": "markdown",
   "metadata": {},
   "source": [
    "### HotpotQA"
   ]
  },
  {
   "cell_type": "code",
   "execution_count": null,
   "metadata": {},
   "outputs": [],
   "source": [
    "hotpot_qa = load_dataset('hotpot_qa', 'distractor', split='validation')"
   ]
  },
  {
   "cell_type": "code",
   "execution_count": null,
   "metadata": {},
   "outputs": [],
   "source": [
    "hotpot_qa[1]"
   ]
  },
  {
   "cell_type": "markdown",
   "metadata": {},
   "source": [
    "### NarrativeQA"
   ]
  },
  {
   "cell_type": "code",
   "execution_count": null,
   "metadata": {},
   "outputs": [],
   "source": [
    "narrative_qa = load_dataset('narrativeqa', split='train')"
   ]
  },
  {
   "cell_type": "code",
   "execution_count": null,
   "metadata": {},
   "outputs": [],
   "source": [
    "narrative_qa[0]"
   ]
  },
  {
   "cell_type": "markdown",
   "metadata": {},
   "source": [
    "### QASPER"
   ]
  },
  {
   "cell_type": "code",
   "execution_count": null,
   "metadata": {},
   "outputs": [],
   "source": [
    "qasper = load_dataset('allenai/qasper', split='train')"
   ]
  },
  {
   "cell_type": "code",
   "execution_count": null,
   "metadata": {},
   "outputs": [],
   "source": [
    "qasper[0]"
   ]
  },
  {
   "cell_type": "markdown",
   "metadata": {},
   "source": [
    "### QuALITY"
   ]
  },
  {
   "cell_type": "code",
   "execution_count": null,
   "metadata": {},
   "outputs": [],
   "source": [
    "quality_qa = [json.loads(l) for l in open('../../QuALITY.v1.0.1.train')]"
   ]
  },
  {
   "cell_type": "code",
   "execution_count": null,
   "metadata": {},
   "outputs": [],
   "source": [
    "quality_qa[0]"
   ]
  },
  {
   "cell_type": "markdown",
   "metadata": {},
   "source": [
    "### openbookqa"
   ]
  },
  {
   "cell_type": "code",
   "execution_count": null,
   "metadata": {},
   "outputs": [],
   "source": [
    "openbookqa = load_dataset('openbookqa', 'main', split='train')"
   ]
  },
  {
   "cell_type": "code",
   "execution_count": null,
   "metadata": {},
   "outputs": [],
   "source": [
    "openbookqa[0]"
   ]
  },
  {
   "cell_type": "markdown",
   "metadata": {},
   "source": [
    "### LongBench"
   ]
  },
  {
   "cell_type": "code",
   "execution_count": null,
   "metadata": {},
   "outputs": [],
   "source": [
    "datasets = [\n",
    "    # \"narrativeqa\", \n",
    "    # \"qasper\", \n",
    "    # \"multifieldqa_en\", \n",
    "    # \"multifieldqa_zh\", \n",
    "    # \"hotpotqa\", \n",
    "    # \"2wikimqa\", \n",
    "    \"musique\", \n",
    "    # \"dureader\", \n",
    "    # \"gov_report\", \n",
    "    # \"qmsum\", \n",
    "    # \"multi_news\", \n",
    "    # \"vcsum\", \n",
    "    # \"trec\", \n",
    "    # \"triviaqa\", \n",
    "    # \"samsum\", \n",
    "    # \"lsht\", \n",
    "    # \"passage_count\", \n",
    "    # \"passage_retrieval_en\", \n",
    "    # \"passage_retrieval_zh\", \n",
    "    # \"lcc\", \n",
    "    # \"repobench-p\"\n",
    "]\n",
    "task_name = datasets[0]\n",
    "\n",
    "dataset_dict = {task_name: load_dataset('THUDM/LongBench', task_name, split='test')}\n",
    "print(dataset_dict[task_name][1]['context'])"
   ]
  },
  {
   "cell_type": "code",
   "execution_count": null,
   "metadata": {},
   "outputs": [],
   "source": [
    "dataset_dict[task_name][1]"
   ]
  },
  {
   "cell_type": "markdown",
   "metadata": {},
   "source": [
    "### LooGLE"
   ]
  },
  {
   "cell_type": "code",
   "execution_count": null,
   "metadata": {},
   "outputs": [],
   "source": [
    "datasets = [\n",
    "    # \"shortdep_qa\", \n",
    "    # \"shortdep_cloze\", \n",
    "    \"longdep_qa\", \n",
    "    # \"longdep_summarization\"\n",
    "]\n",
    "\n",
    "for testset in datasets:\n",
    "    data = load_dataset('bigainlco/LooGLE', testset, split='test')"
   ]
  },
  {
   "cell_type": "code",
   "execution_count": null,
   "metadata": {},
   "outputs": [],
   "source": [
    "data[0]"
   ]
  }
 ],
 "metadata": {
  "kernelspec": {
   "display_name": "local",
   "language": "python",
   "name": "python3"
  },
  "language_info": {
   "codemirror_mode": {
    "name": "ipython",
    "version": 3
   },
   "file_extension": ".py",
   "mimetype": "text/x-python",
   "name": "python",
   "nbconvert_exporter": "python",
   "pygments_lexer": "ipython3",
   "version": "3.11.7"
  }
 },
 "nbformat": 4,
 "nbformat_minor": 2
}
