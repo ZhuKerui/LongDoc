{
  "cells": [
    {
      "cell_type": "markdown",
      "metadata": {
        "id": "1iqyV7VcsiXT"
      },
      "source": [
        "![read_agent_teaser](https://read-agent.github.io/img/teaser.png)"
      ]
    },
    {
      "cell_type": "code",
      "execution_count": null,
      "metadata": {
        "id": "MYOnCMh83ZRE"
      },
      "outputs": [],
      "source": [
        "# !wget https://github.com/nyu-mll/quality/raw/main/data/v1.0.1/QuALITY.v1.0.1.htmlstripped.dev\n",
        "import time, datetime, json, os\n",
        "from tqdm.notebook import tqdm\n",
        "from collections import defaultdict\n",
        "\n",
        "from index_files import LongDoc, write_json, QualityDataset, NarrativeQADataset, ReadingAgent, read_json, read_jsonline, LLMServer\n",
        "\n",
        "llm_server = LLMServer()"
      ]
    },
    {
      "cell_type": "markdown",
      "metadata": {},
      "source": [
        "# Experiment"
      ]
    },
    {
      "cell_type": "code",
      "execution_count": null,
      "metadata": {},
      "outputs": [],
      "source": [
        "dataset = NarrativeQADataset()"
      ]
    },
    {
      "cell_type": "code",
      "execution_count": null,
      "metadata": {},
      "outputs": [],
      "source": [
        "dataset = QualityDataset(split='dev')"
      ]
    },
    {
      "cell_type": "code",
      "execution_count": null,
      "metadata": {
        "id": "8YKNTyDsXNIn"
      },
      "outputs": [],
      "source": [
        "reading_agent = ReadingAgent(dataset)"
      ]
    },
    {
      "cell_type": "markdown",
      "metadata": {},
      "source": [
        "## Analyze results"
      ]
    },
    {
      "cell_type": "code",
      "execution_count": null,
      "metadata": {},
      "outputs": [],
      "source": [
        "results = dataset.load_and_eval_result(0, 10)"
      ]
    },
    {
      "cell_type": "code",
      "execution_count": null,
      "metadata": {},
      "outputs": [],
      "source": [
        "examples = []\n",
        "for i in range(len(results['gist'])):\n",
        "    if not results['dpr'][i]['acc']:\n",
        "    #     examples.append({'index': results['index'][i], 'gist': results['gist'][i], 'dpr': results['dpr'][i], 'i': i})\n",
        "        examples.append({'gist': results['gist'][i], 'dpr': results['dpr'][i], 'i': i})\n",
        "print(len(examples))"
      ]
    },
    {
      "cell_type": "code",
      "execution_count": null,
      "metadata": {},
      "outputs": [],
      "source": [
        "examples[0]['gist'].keys()"
      ]
    },
    {
      "cell_type": "code",
      "execution_count": null,
      "metadata": {},
      "outputs": [],
      "source": [
        "eid = 5\n",
        "paragraphs = ['\\n'.join(page) for page in read_json(os.path.join(dataset.data_dir, f\"pages_{examples[eid]['gist']['task_i']}.json\"))]\n",
        "print(f'''\n",
        "Task id: {examples[eid]['gist']['task_i']}\n",
        "Question id: {examples[eid]['gist']['q_i']}\n",
        "\n",
        "Question: {examples[eid]['gist']['query']}\n",
        "\n",
        "Gold answer: {examples[eid]['gist']['gold']}\n",
        "\n",
        "\n",
        "DPR result:\n",
        "\n",
        "{examples[eid]['dpr']['predict']}\n",
        "\n",
        "{examples[eid]['dpr']['acc']}\n",
        "\n",
        "{examples[eid]['dpr']['generation']}\n",
        "\n",
        "\n",
        "\n",
        "GIST result:\n",
        "\n",
        "{examples[eid]['gist']['predict']}\n",
        "\n",
        "{examples[eid]['gist']['acc']}\n",
        "\n",
        "{examples[eid]['gist']['generation']}\n",
        "''')"
      ]
    },
    {
      "cell_type": "code",
      "execution_count": null,
      "metadata": {},
      "outputs": [],
      "source": [
        "examples[eid]['gist']['steps']"
      ]
    },
    {
      "cell_type": "code",
      "execution_count": null,
      "metadata": {},
      "outputs": [],
      "source": [
        "examples[eid]['dpr']['steps']"
      ]
    },
    {
      "cell_type": "code",
      "execution_count": null,
      "metadata": {},
      "outputs": [],
      "source": [
        "print(examples[eid]['gist']['steps'][0][1])"
      ]
    },
    {
      "cell_type": "code",
      "execution_count": null,
      "metadata": {},
      "outputs": [],
      "source": [
        "len(paragraphs)"
      ]
    },
    {
      "cell_type": "code",
      "execution_count": null,
      "metadata": {},
      "outputs": [],
      "source": [
        "print(paragraphs[4])"
      ]
    },
    {
      "cell_type": "code",
      "execution_count": null,
      "metadata": {},
      "outputs": [],
      "source": [
        "for pid, p in enumerate(paragraphs):\n",
        "    if '' in p:\n",
        "        print(f'Passage {pid}:\\n' + p)"
      ]
    },
    {
      "cell_type": "code",
      "execution_count": null,
      "metadata": {},
      "outputs": [],
      "source": [
        "eid = 5\n",
        "print(f'''\n",
        "Task id: {examples[eid]['index']['task_i']}\n",
        "Question id: {examples[eid]['index']['q_i']}\n",
        "\n",
        "Question: {examples[eid]['index']['query']}\n",
        "\n",
        "Gold answer: {examples[eid]['index']['gold']}\n",
        "\n",
        "\n",
        "Index result:\n",
        "\n",
        "{examples[eid]['index']['predict']}\n",
        "\n",
        "{examples[eid]['index']['acc']}\n",
        "\n",
        "{examples[eid]['index']['generation']}\n",
        "\n",
        "\n",
        "\n",
        "\n",
        "\n",
        "DPR result:\n",
        "\n",
        "{examples[eid]['dpr']['predict']}\n",
        "\n",
        "{examples[eid]['dpr']['acc']}\n",
        "\n",
        "{examples[eid]['dpr']['generation']}\n",
        "\n",
        "\n",
        "\n",
        "GIST result:\n",
        "\n",
        "{examples[eid]['gist']['predict']}\n",
        "\n",
        "{examples[eid]['gist']['acc']}\n",
        "\n",
        "{examples[eid]['gist']['generation']}\n",
        "\n",
        "\n",
        "\n",
        "Index Retrieved:\n",
        "\n",
        "Entity & keyword: \n",
        "{examples[eid]['index']['entity & keyword']}\n",
        "\n",
        "Mention sets: \n",
        "{examples[eid]['index']['mention_sets']}\n",
        "\n",
        "Retrieval\n",
        "{examples[eid]['index']['retrieval_result']}\n",
        "\n",
        "Menu: \n",
        "{examples[eid]['index']['menu']}\n",
        "\n",
        "\n",
        "\n",
        "DPR Retrieved:\n",
        "\n",
        "Retrieval\n",
        "{examples[eid]['dpr']['retrieval_result']}\n",
        "\n",
        "\n",
        "\n",
        "GIST Retrieved:\n",
        "\n",
        "Retrieval\n",
        "{examples[eid]['gist']['retrieval_result']}\n",
        "\n",
        "Menu: \n",
        "{examples[eid]['gist']['menu']}\n",
        "''')"
      ]
    },
    {
      "cell_type": "code",
      "execution_count": null,
      "metadata": {},
      "outputs": [],
      "source": [
        "pages = read_json('quality/dev/pages_0.json')"
      ]
    },
    {
      "cell_type": "code",
      "execution_count": null,
      "metadata": {},
      "outputs": [],
      "source": [
        "paragraph = '\\n'.join(pages[2])\n",
        "print(paragraph)"
      ]
    },
    {
      "cell_type": "code",
      "execution_count": null,
      "metadata": {},
      "outputs": [],
      "source": [
        "list_entity_prompt = f'''{'Novel'.upper()}:\\n\\n{paragraph}\\n\\nAbove is part of a {'novel'}. First, list the important named entities in the above passages that are relevant to most of the content. You may synthesis entities to avoid ambiguity. Don't give any explanation. Then, find the closely related important entity clusters and use 1 to 3 sentences to informatively summarize their relational information in the above context. The two steps should be generated in the following format: \"Important entities:\\n1. Entity 1\\n2. Entity 2\\n...\\n\\nRelation summary:\\n1. (Entity 1, Entity 2, Entity 3): summary of relational information between Entity 1, 2 and 3.\\n2. (Entity 2, Entity 4): summary of relational information between Entity 2 and 4.\\n...\"'''\n",
        "chat_response = llm_server(list_entity_prompt)"
      ]
    },
    {
      "cell_type": "code",
      "execution_count": null,
      "metadata": {},
      "outputs": [],
      "source": [
        "from transformers import AutoTokenizer"
      ]
    },
    {
      "cell_type": "code",
      "execution_count": null,
      "metadata": {},
      "outputs": [],
      "source": [
        "tokenizer = AutoTokenizer.from_pretrained('mistralai/Mistral-7B-Instruct-v0.2')"
      ]
    },
    {
      "cell_type": "code",
      "execution_count": null,
      "metadata": {},
      "outputs": [],
      "source": [
        "len(tokenizer.encode(examples[eid]['gist']['menu']))"
      ]
    },
    {
      "cell_type": "code",
      "execution_count": null,
      "metadata": {},
      "outputs": [],
      "source": [
        "len(tokenizer.encode(examples[eid]['index']['menu']))"
      ]
    },
    {
      "cell_type": "code",
      "execution_count": null,
      "metadata": {},
      "outputs": [],
      "source": [
        "results['index'][examples[eid]['i']]['retrieval_command']"
      ]
    },
    {
      "cell_type": "code",
      "execution_count": null,
      "metadata": {},
      "outputs": [],
      "source": [
        "results['gist'][examples[eid]['i']]['retrieval_command']"
      ]
    },
    {
      "cell_type": "code",
      "execution_count": null,
      "metadata": {},
      "outputs": [],
      "source": [
        "from statistics import mean\n",
        "mean([len(tokenizer.encode(result['menu'])) for result in results['gist']])"
      ]
    },
    {
      "cell_type": "code",
      "execution_count": null,
      "metadata": {},
      "outputs": [],
      "source": [
        "mean([len(tokenizer.encode(result['menu'])) for result in results['index']])"
      ]
    }
  ],
  "metadata": {
    "colab": {
      "provenance": [],
      "toc_visible": true
    },
    "kernelspec": {
      "display_name": "Python 3",
      "name": "python3"
    },
    "language_info": {
      "codemirror_mode": {
        "name": "ipython",
        "version": 3
      },
      "file_extension": ".py",
      "mimetype": "text/x-python",
      "name": "python",
      "nbconvert_exporter": "python",
      "pygments_lexer": "ipython3",
      "version": "3.11.8"
    }
  },
  "nbformat": 4,
  "nbformat_minor": 0
}
