{
  "cells": [
    {
      "cell_type": "code",
      "execution_count": null,
      "metadata": {
        "id": "MYOnCMh83ZRE"
      },
      "outputs": [],
      "source": [
        "from tqdm.notebook import tqdm\n",
        "from nltk import sent_tokenize\n",
        "from transformers import AutoTokenizer\n",
        "import sys\n",
        "import seaborn as sb\n",
        "sys.path.append('../..')\n",
        "from rank_bm25 import BM25Okapi\n",
        "from spacy.tokens import Span, Doc\n",
        "\n",
        "from src import *\n",
        "from src.test_utils import *\n",
        "os.environ['TOKENIZERS_PARALLELISM'] = 'false'\n",
        "torch.backends.cuda.enable_mem_efficient_sdp(False)\n",
        "torch.backends.cuda.enable_flash_sdp(False)"
      ]
    },
    {
      "cell_type": "code",
      "execution_count": null,
      "metadata": {},
      "outputs": [],
      "source": [
        "# gritlm = GritLM(\"GritLM/GritLM-7B\", device_map=\"cuda:2\", torch_dtype=\"auto\")\n",
        "retriever = Retriever(device='cpu', syn_dist=0.1)\n",
        "doc_split = DocSplit(retriever.retriever_tokenizer)\n",
        "# llm = LLM()\n",
        "llm = 'mistralai/Mistral-7B-Instruct-v0.2'\n",
        "# llm = None\n",
        "longdoc = LongDoc(retriever, llm)\n",
        "# dataset = NarrativeQADataset(llm)\n",
        "dataset = QualityDataset(llm, split='dev')\n",
        "# reading_agent = ReadingAgent(dataset, llm)"
      ]
    },
    {
      "cell_type": "code",
      "execution_count": null,
      "metadata": {},
      "outputs": [],
      "source": [
        "test_i = 2\n",
        "sample = dataset.data[test_i]\n",
        "questions, answers = dataset.get_questions_and_answers(sample)\n",
        "article = dataset.get_article(sample)\n",
        "questions = [q.splitlines()[0] for q in questions]\n",
        "questions"
      ]
    },
    {
      "cell_type": "markdown",
      "metadata": {},
      "source": [
        "# Index passages"
      ]
    },
    {
      "cell_type": "markdown",
      "metadata": {},
      "source": [
        "# Retrieval"
      ]
    },
    {
      "cell_type": "markdown",
      "metadata": {},
      "source": [
        "## Test Code"
      ]
    },
    {
      "cell_type": "code",
      "execution_count": null,
      "metadata": {},
      "outputs": [],
      "source": [
        "pages = doc_split.split_paragraphs(article, 512 // 5)\n",
        "results, raw = longdoc.index_text_into_map(pages, 3)\n",
        "write_json('temp.json', [ci.to_json() for ci in results])\n",
        "write_json('raw.json', raw)"
      ]
    },
    {
      "cell_type": "markdown",
      "metadata": {},
      "source": [
        "### Test Navigation"
      ]
    },
    {
      "cell_type": "code",
      "execution_count": null,
      "metadata": {},
      "outputs": [],
      "source": [
        "pages = doc_split.split_paragraphs(article, 50)\n",
        "all_summary = longdoc.lossless_index(pages, 5, 5, 5, 'relation')\n",
        "write_json('all_summary.json', all_summary)"
      ]
    },
    {
      "cell_type": "code",
      "execution_count": null,
      "metadata": {},
      "outputs": [],
      "source": [
        "pages = doc_split.split_paragraphs(article, 50)\n",
        "all_summary = read_json('all_summary.json')"
      ]
    },
    {
      "cell_type": "code",
      "execution_count": null,
      "metadata": {},
      "outputs": [],
      "source": [
        "tree = longdoc.build_summary_pyramid(pages, all_summary)\n",
        "dump_tree('temp_tree.json', tree)"
      ]
    },
    {
      "cell_type": "code",
      "execution_count": null,
      "metadata": {},
      "outputs": [],
      "source": [
        "tree = load_tree('temp_tree.json')"
      ]
    },
    {
      "cell_type": "code",
      "execution_count": null,
      "metadata": {},
      "outputs": [],
      "source": [
        "len(tree[-1])"
      ]
    },
    {
      "cell_type": "code",
      "execution_count": null,
      "metadata": {},
      "outputs": [],
      "source": [
        "test_node = tree[-1][0]"
      ]
    },
    {
      "cell_type": "code",
      "execution_count": null,
      "metadata": {},
      "outputs": [],
      "source": [
        "test_node.children"
      ]
    },
    {
      "cell_type": "code",
      "execution_count": null,
      "metadata": {},
      "outputs": [],
      "source": [
        "test_node.unique_in_right"
      ]
    },
    {
      "cell_type": "markdown",
      "metadata": {},
      "source": [
        "### TextGraph"
      ]
    },
    {
      "cell_type": "code",
      "execution_count": null,
      "metadata": {},
      "outputs": [],
      "source": [
        "def remove_unimportant(doc:Span, additional_pos_labels:Set[str]=set()):\n",
        "    spans = []\n",
        "    temp_span_start = 0\n",
        "    tid = 0\n",
        "    while tid < len(doc):\n",
        "        t = doc[tid]\n",
        "        if t.pos_ in {'DET', 'PRON', 'CCONJ', 'PUNCT', 'AUX', 'PART'} or t.pos_ in additional_pos_labels:\n",
        "            if temp_span_start != tid:\n",
        "                spans.append((temp_span_start, tid))\n",
        "            temp_span_start = tid + 1\n",
        "        tid += 1\n",
        "    if temp_span_start < tid:\n",
        "        spans.append((temp_span_start, tid))\n",
        "    splitted_doc = [doc[span[0]:span[1]] for span in spans]\n",
        "    return splitted_doc\n",
        "\n",
        "def collect_keywords_from_text(doc:Doc):\n",
        "    ncs = list(doc.noun_chunks)\n",
        "    ents = doc.ents\n",
        "    nc_id, eid = 0, 0\n",
        "    spans:List[Span] = []\n",
        "    # Merge noun chunks with entities\n",
        "    while nc_id < len(ncs) and eid < len(ents):\n",
        "        nc, ent = ncs[nc_id], ents[eid]\n",
        "        if set(range(nc.start, nc.end)).intersection(range(ent.start, ent.end)):\n",
        "            spans.append(doc[min(nc.start, ent.start) : max(nc.end, ent.end)])\n",
        "            nc_id += 1\n",
        "            eid += 1\n",
        "        else:\n",
        "            if nc.start < ent.end:\n",
        "                spans.append(nc)\n",
        "                nc_id += 1\n",
        "            else:\n",
        "                spans.append(ent)\n",
        "                eid += 1\n",
        "    spans.extend(ncs[nc_id:])\n",
        "    spans.extend(ents[eid:])\n",
        "    # Update each noun chunks\n",
        "    updated_spans:List[Span] = []\n",
        "    for span in spans:\n",
        "        updated_spans.extend(remove_unimportant(span, {'ADJ', 'ADV'}))\n",
        "    ent_candidates = {' '.join([t.lemma_ for t in span]) for span in updated_spans}\n",
        "    return ent_candidates\n",
        "    "
      ]
    },
    {
      "cell_type": "code",
      "execution_count": null,
      "metadata": {},
      "outputs": [],
      "source": [
        "class TextGraph:\n",
        "    def __init__(self, docs:List[Doc]) -> None:\n",
        "        self.text_graph = nx.DiGraph()\n",
        "        self.ent_graph = nx.Graph()\n",
        "        self.tokenized_corpus:List[List[str]] = []\n",
        "        ent_pair_counter = Counter()\n",
        "        for pid, doc in enumerate(docs):\n",
        "            tokenized_page = [t.lemma_.lower() for t in doc]\n",
        "            nouns = collect_keywords_from_text(doc)\n",
        "            if len(nouns) >= 2:\n",
        "                ent_pair_counter.update(map(frozenset, itertools.combinations(nouns, 2)))\n",
        "            self.tokenized_corpus.append(tokenized_page)\n",
        "            self.text_graph.add_node(pid, tokenized_page=tokenized_page, nouns=nouns)\n",
        "        for (ent1, ent2), cnt in ent_pair_counter.items():\n",
        "            self.ent_graph.add_edge(ent1, ent2, log_freq=np.log(cnt+1))\n",
        "        self.ent_general_importance:Dict[str, float] = nx.pagerank(self.ent_graph, weight='log_freq')\n",
        "        self.bm25 = BM25Okapi(self.tokenized_corpus)\n",
        "        for pid1 in range(len(docs)):\n",
        "            bm25_scores = self.bm25.get_scores(self.tokenized_corpus[pid1])\n",
        "            bm25_scores = bm25_scores / bm25_scores.sum()\n",
        "            nouns1:Set[str] = self.text_graph.nodes[pid1]['nouns']\n",
        "            for pid2 in range(len(docs)):\n",
        "                if pid1 != pid2:\n",
        "                    overlap = nouns1.intersection(self.text_graph.nodes[pid2]['nouns'])\n",
        "                    if overlap:\n",
        "                        ent_importance = sum([self.ent_general_importance[ent] for ent in overlap])\n",
        "                        dist = 1 / np.log(np.e + np.abs(pid2 - pid1))\n",
        "                        bm25_score = bm25_scores[pid2]\n",
        "                        weight = statistics.harmonic_mean([ent_importance, bm25_score]) * dist\n",
        "                        self.text_graph.add_edge(pid1, pid2, overlap=overlap, ent_importance=ent_importance, dist=dist, bm25_score=bm25_score, weight=weight)\n",
        "        "
      ]
    },
    {
      "cell_type": "code",
      "execution_count": null,
      "metadata": {},
      "outputs": [],
      "source": [
        "tg = TextGraph([longdoc.nlp(p) for p in all_summary])"
      ]
    },
    {
      "cell_type": "code",
      "execution_count": null,
      "metadata": {},
      "outputs": [],
      "source": [
        "list(tg.text_graph.edges.data())[:5]"
      ]
    },
    {
      "cell_type": "markdown",
      "metadata": {},
      "source": [
        "### Topic Modeling"
      ]
    },
    {
      "cell_type": "code",
      "execution_count": null,
      "metadata": {},
      "outputs": [],
      "source": [
        "from gensim import corpora\n",
        "from gensim.parsing.preprocessing import preprocess_string, DEFAULT_FILTERS\n",
        "from gensim.models import Phrases, CoherenceModel, LdaModel, EnsembleLda, LdaMulticore"
      ]
    },
    {
      "cell_type": "code",
      "execution_count": null,
      "metadata": {},
      "outputs": [],
      "source": [
        "pages = doc_split.split_paragraphs(article, 500)\n",
        "all_summary = read_json('all_summary.json')"
      ]
    },
    {
      "cell_type": "code",
      "execution_count": null,
      "metadata": {},
      "outputs": [],
      "source": [
        "longdoc.llm_server(f'''\n",
        "Summarize the following passage.\n",
        "\n",
        "Passage:\n",
        "{pages[1]}\n",
        "''')"
      ]
    },
    {
      "cell_type": "code",
      "execution_count": null,
      "metadata": {},
      "outputs": [],
      "source": [
        "longdoc.llm_server(f'''\n",
        "Summarize the following passage.\n",
        "\n",
        "Passage:\n",
        "{pages[2]}\n",
        "''')"
      ]
    },
    {
      "cell_type": "code",
      "execution_count": null,
      "metadata": {},
      "outputs": [],
      "source": [
        "longdoc.llm_server(f'''\n",
        "What are the common information in the following 2 passages.\n",
        "\n",
        "Passage 1:\n",
        "{pages[1]}\n",
        "\n",
        "Passage 2:\n",
        "{pages[2]}\n",
        "''')"
      ]
    },
    {
      "cell_type": "code",
      "execution_count": null,
      "metadata": {},
      "outputs": [],
      "source": [
        "longdoc.llm_server(f'''\n",
        "What are the different information between the following 2 passages.\n",
        "\n",
        "Passage 1:\n",
        "{pages[1]}\n",
        "\n",
        "Passage 2:\n",
        "{pages[2]}\n",
        "''')"
      ]
    },
    {
      "cell_type": "code",
      "execution_count": null,
      "metadata": {},
      "outputs": [],
      "source": [
        "pages[2]"
      ]
    },
    {
      "cell_type": "code",
      "execution_count": null,
      "metadata": {},
      "outputs": [],
      "source": [
        "len(all_summary)"
      ]
    },
    {
      "cell_type": "code",
      "execution_count": null,
      "metadata": {},
      "outputs": [],
      "source": [
        "preprocess_funcs = DEFAULT_FILTERS[:-1] # Remove the stemming\n",
        "preprocessed_summary = [preprocess_string(' '.join([t.lemma_ for t in longdoc.nlp(p, disable=['parser', 'ner'])]), preprocess_funcs) for p in all_summary]\n",
        "\n",
        "# bigram = Phrases(preprocessed_summary, min_count=2, threshold=1)\n",
        "\n",
        "# texts = [bigram[p] for p in preprocessed_summary]\n",
        "texts = preprocessed_summary\n",
        "\n",
        "# Create a dictionary from the corpus\n",
        "dictionary = corpora.Dictionary(texts)\n",
        "\n",
        "# Remove low-frequency terms from the dictionary\n",
        "dictionary.filter_extremes(no_below=2)\n",
        "\n",
        "# Convert the corpus into a bag-of-words representation\n",
        "corpus = [dictionary.doc2bow(text) for text in texts]"
      ]
    },
    {
      "cell_type": "code",
      "execution_count": null,
      "metadata": {},
      "outputs": [],
      "source": [
        "lda_model = EnsembleLda(\n",
        "    corpus=corpus, \n",
        "    id2word=dictionary, \n",
        "    passes=5, \n",
        "    iterations=100, \n",
        "    num_models=5, \n",
        "    # min_cores=10, \n",
        "    # min_samples=4,\n",
        "    epsilon=0.05\n",
        "    )"
      ]
    },
    {
      "cell_type": "code",
      "execution_count": null,
      "metadata": {},
      "outputs": [],
      "source": [
        "lda_model.print_topics()"
      ]
    },
    {
      "cell_type": "code",
      "execution_count": null,
      "metadata": {},
      "outputs": [],
      "source": [
        "topic2p = defaultdict(list)\n",
        "for pid, p in enumerate(corpus):\n",
        "    topic_id = sorted(lda_model[p], key=lambda x: x[1])[-1][0]\n",
        "    topic2p[topic_id].append(all_summary[pid])\n",
        "print(lda_model.stable_topics.shape)\n",
        "print([(tid, len(topic2p[tid])) for tid in range(len(topic2p))])"
      ]
    },
    {
      "cell_type": "code",
      "execution_count": null,
      "metadata": {},
      "outputs": [],
      "source": [
        "topic2p[0]"
      ]
    },
    {
      "cell_type": "code",
      "execution_count": null,
      "metadata": {},
      "outputs": [],
      "source": [
        "topics = []\n",
        "score = []\n",
        "topic_models:Dict[int, LdaModel] = {}\n",
        "min_docs_per_topic = 4\n",
        "for topic_num in tqdm(range(4, len(all_summary) // min_docs_per_topic, 4)):\n",
        "    # Build the LDA model\n",
        "    lda_model = LdaMulticore(corpus, topic_num, dictionary, iterations=100, passes=5, workers=5)\n",
        "    cm = CoherenceModel(lda_model, texts = texts, corpus=corpus, dictionary=dictionary, coherence='c_v')\n",
        "    topics.append(topic_num)\n",
        "    score.append(cm.get_coherence())\n",
        "    topic_models[topic_num] = lda_model\n",
        "    \n",
        "plt.plot(topics, score)\n",
        "plt.xlabel('Number of Topics')\n",
        "plt.ylabel('Coherence Score')\n",
        "plt.show()"
      ]
    },
    {
      "cell_type": "code",
      "execution_count": null,
      "metadata": {},
      "outputs": [],
      "source": [
        "lda_model = topic_models[44]"
      ]
    },
    {
      "cell_type": "code",
      "execution_count": null,
      "metadata": {},
      "outputs": [],
      "source": [
        "list(lda_model.get_document_topics(corpus))"
      ]
    },
    {
      "cell_type": "code",
      "execution_count": null,
      "metadata": {},
      "outputs": [],
      "source": [
        "for idx, topic in lda_model.print_topics(-1):\n",
        "    print('Topic: {} \\nWords: {}'.format(idx, topic))"
      ]
    }
  ],
  "metadata": {
    "colab": {
      "provenance": [],
      "toc_visible": true
    },
    "kernelspec": {
      "display_name": "Python 3",
      "name": "python3"
    },
    "language_info": {
      "codemirror_mode": {
        "name": "ipython",
        "version": 3
      },
      "file_extension": ".py",
      "mimetype": "text/x-python",
      "name": "python",
      "nbconvert_exporter": "python",
      "pygments_lexer": "ipython3",
      "version": "3.11.9"
    }
  },
  "nbformat": 4,
  "nbformat_minor": 0
}
