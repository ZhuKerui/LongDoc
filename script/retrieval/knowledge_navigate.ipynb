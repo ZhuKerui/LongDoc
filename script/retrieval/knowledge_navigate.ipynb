{
  "cells": [
    {
      "cell_type": "code",
      "execution_count": 1,
      "metadata": {
        "id": "MYOnCMh83ZRE"
      },
      "outputs": [],
      "source": [
        "from tqdm.notebook import tqdm\n",
        "from nltk import sent_tokenize\n",
        "from transformers import AutoTokenizer\n",
        "import sys\n",
        "import seaborn as sb\n",
        "sys.path.append('../..')\n",
        "\n",
        "from src import *\n",
        "from src.test_utils import *\n",
        "\n",
        "torch.backends.cuda.enable_mem_efficient_sdp(False)\n",
        "torch.backends.cuda.enable_flash_sdp(False)"
      ]
    },
    {
      "cell_type": "code",
      "execution_count": 2,
      "metadata": {},
      "outputs": [],
      "source": [
        "# gritlm = GritLM(\"GritLM/GritLM-7B\", device_map=\"cuda:2\", torch_dtype=\"auto\")\n",
        "retriever = Retriever(device='cuda:0', syn_dist=0.1)\n",
        "# llm = LLM()\n",
        "# llm = 'mistralai/Mistral-7B-Instruct-v0.2'\n",
        "llm = None\n",
        "longdoc = LongDoc(retriever, llm)\n",
        "# dataset = NarrativeQADataset(llm)\n",
        "dataset = QualityDataset(llm, split='dev')\n",
        "# reading_agent = ReadingAgent(dataset, llm)"
      ]
    },
    {
      "cell_type": "code",
      "execution_count": 3,
      "metadata": {},
      "outputs": [
        {
          "data": {
            "text/plain": [
              "['What is the most likely meaning of the slang O.Q.? (in twentieth-century American English)',\n",
              " 'Why does the Skipper stop abruptly after he says \"when you\\'re running a blockade\"?',\n",
              " 'Who or what is Leo?',\n",
              " 'Why does the Skipper allow the new chef to use the heat-cannon as an incinerator?',\n",
              " ' Lieutenant Dugan brings up the examples of \"High G\" Gordon and \"Runt\" Hake in order to illustrates that...',\n",
              " \"Why didn't the Skipper follow the new cook's advice about avoiding Vesta?\",\n",
              " 'Why was the new cook so upset that the Skipper decided to surrender?',\n",
              " 'What does the Skipper mean by \"lady-logic\"?',\n",
              " \"What would've happened if the new cook had told the Skipper about the ekalastron deposits earlier?\"]"
            ]
          },
          "execution_count": 3,
          "metadata": {},
          "output_type": "execute_result"
        }
      ],
      "source": [
        "test_i = 2\n",
        "results = [ChunkInfo(**ci) for ci in read_json(os.path.join(dataset.data_dir, f'index_wg_1_1_{test_i}.json'))]\n",
        "relation_graph = longdoc.build_relation_graph(results)\n",
        "pages = [ci.passage for ci in results]\n",
        "questions, answers = dataset.get_questions_and_answers(dataset.data[test_i])\n",
        "questions = [q.splitlines()[0] for q in questions]\n",
        "questions"
      ]
    },
    {
      "cell_type": "code",
      "execution_count": 4,
      "metadata": {},
      "outputs": [
        {
          "name": "stdout",
          "output_type": "stream",
          "text": [
            "252\n",
            "194\n",
            "247\n",
            "252\n",
            "221\n",
            "250\n",
            "242\n",
            "225\n",
            "256\n",
            "227\n",
            "235\n",
            "254\n",
            "244\n",
            "244\n",
            "217\n",
            "226\n",
            "256\n",
            "205\n",
            "238\n",
            "244\n",
            "254\n",
            "237\n",
            "219\n",
            "245\n",
            "251\n",
            "237\n",
            "255\n",
            "255\n",
            "253\n",
            "250\n",
            "203\n"
          ]
        }
      ],
      "source": [
        "for ci in results:\n",
        "    # print(len(gritlm.tokenizer(ci.passage)['input_ids']))\n",
        "    print(len(retriever.retriever_tokenizer(ci.passage)['input_ids']))"
      ]
    },
    {
      "cell_type": "markdown",
      "metadata": {},
      "source": [
        "# Index passages"
      ]
    },
    {
      "cell_type": "code",
      "execution_count": null,
      "metadata": {},
      "outputs": [],
      "source": [
        "paragraphs = read_json(os.path.join(dataset.data_dir, f'pages_{2}.json'))"
      ]
    },
    {
      "cell_type": "markdown",
      "metadata": {},
      "source": [
        "## Eval"
      ]
    },
    {
      "cell_type": "code",
      "execution_count": null,
      "metadata": {},
      "outputs": [],
      "source": [
        "results[11].print()"
      ]
    },
    {
      "cell_type": "code",
      "execution_count": null,
      "metadata": {},
      "outputs": [],
      "source": [
        "results[11].prev_summaries"
      ]
    },
    {
      "cell_type": "code",
      "execution_count": null,
      "metadata": {},
      "outputs": [],
      "source": [
        "print(results[11].recap_str)"
      ]
    },
    {
      "cell_type": "markdown",
      "metadata": {},
      "source": [
        "# Retrieval"
      ]
    },
    {
      "cell_type": "code",
      "execution_count": 4,
      "metadata": {},
      "outputs": [
        {
          "name": "stdout",
          "output_type": "stream",
          "text": [
            "Why didn't the Skipper follow the new cook's advice about avoiding Vesta?\n"
          ]
        }
      ],
      "source": [
        "qid = 5\n",
        "question = questions[qid]\n",
        "print(question)"
      ]
    },
    {
      "cell_type": "markdown",
      "metadata": {},
      "source": [
        "## Eval"
      ]
    },
    {
      "cell_type": "markdown",
      "metadata": {},
      "source": [
        "### Contriever"
      ]
    },
    {
      "cell_type": "markdown",
      "metadata": {},
      "source": [
        "#### Query Encode With Note, Doc Encode Without Note"
      ]
    },
    {
      "cell_type": "code",
      "execution_count": null,
      "metadata": {},
      "outputs": [],
      "source": [
        "ent_candidates = longdoc.collect_entities_from_text(questions[qid])\n",
        "prev_ent_descriptions, prev_relation_descriptions = longdoc.retrieve_descriptions(results, relation_graph, ent_candidates, 1, 2)\n",
        "q_info = ChunkInfo(len(results), questions[qid], prev_ent_descriptions=prev_ent_descriptions, prev_relation_descriptions=prev_relation_descriptions)\n",
        "recap_str = f'''Recap:\\n{q_info.recap_str}\\n\\nQuery:\\n'''\n",
        "full_input = recap_str + questions[qid]\n",
        "print(len(retriever.retriever_tokenizer(full_input)['input_ids']))\n",
        "\n",
        "q_embedding = retriever.embed_paragraphs([full_input], normalize=False, complete_return=True)\n",
        "page_embeddings = retriever.embed_paragraphs(pages, normalize=False, complete_return=True)\n",
        "c_retriever_tokenizer = retriever.retriever_tokenizer\n",
        "c_q_input_ids, c_q_emb, c_q_lhs = hidden_states_wo_instruction(q_embedding.input_ids.copy(), q_embedding.last_hidden_states.copy(), q_embedding.attention_mask.copy(), c_retriever_tokenizer([recap_str])['attention_mask'], True)\n",
        "c_p_input_ids, c_p_emb, c_p_lhs = hidden_states_wo_instruction(page_embeddings.input_ids.copy(), page_embeddings.last_hidden_states.copy(), page_embeddings.attention_mask.copy(), c_retriever_tokenizer([''])['attention_mask'], True)\n",
        "c_pids, c_scores = retriever.dense_retrieval(c_q_emb, c_p_emb, None, normalize=False, return_score=True)\n",
        "q_spans = word_split(c_q_input_ids[0], c_retriever_tokenizer, False, True)\n",
        "query_indicatiors(c_retriever_tokenizer, questions[qid], pages, c_q_lhs[0], c_q_input_ids[0], c_p_lhs, c_p_input_ids, c_pids, c_scores, q_spans=q_spans)"
      ]
    },
    {
      "cell_type": "markdown",
      "metadata": {},
      "source": [
        "#### Query Encode Without Note, Doc Encode Without Note"
      ]
    },
    {
      "cell_type": "code",
      "execution_count": null,
      "metadata": {},
      "outputs": [],
      "source": [
        "recap_str = ''\n",
        "full_input = recap_str + questions[qid]\n",
        "print(len(retriever.retriever_tokenizer(full_input)['input_ids']))\n",
        "\n",
        "q_embedding = retriever.embed_paragraphs([full_input], normalize=False, complete_return=True)\n",
        "page_embeddings = retriever.embed_paragraphs(pages, normalize=False, complete_return=True)\n",
        "c_retriever_tokenizer = retriever.retriever_tokenizer\n",
        "c_q_input_ids, c_q_emb, c_q_lhs = hidden_states_wo_instruction(q_embedding.input_ids.copy(), q_embedding.last_hidden_states.copy(), q_embedding.attention_mask.copy(), c_retriever_tokenizer([recap_str])['attention_mask'], True)\n",
        "c_p_input_ids, c_p_emb, c_p_lhs = hidden_states_wo_instruction(page_embeddings.input_ids.copy(), page_embeddings.last_hidden_states.copy(), page_embeddings.attention_mask.copy(), c_retriever_tokenizer([''])['attention_mask'], True)\n",
        "c_pids, c_scores = retriever.dense_retrieval(c_q_emb, c_p_emb, None, normalize=False, return_score=True)\n",
        "q_spans = word_split(c_q_input_ids[0], c_retriever_tokenizer, False, True)\n",
        "query_indicatiors(c_retriever_tokenizer, questions[qid], pages, c_q_lhs[0], c_q_input_ids[0], c_p_lhs, c_p_input_ids, c_pids, c_scores)#, q_spans=q_spans)"
      ]
    },
    {
      "cell_type": "markdown",
      "metadata": {},
      "source": [
        "### GritLM"
      ]
    },
    {
      "cell_type": "markdown",
      "metadata": {},
      "source": [
        "#### Query Encode With Note, Doc Encode With Note"
      ]
    },
    {
      "cell_type": "code",
      "execution_count": null,
      "metadata": {},
      "outputs": [],
      "source": [
        "ent_candidates = longdoc.collect_entities_from_text(questions[qid])\n",
        "prev_ent_descriptions, prev_relation_descriptions = longdoc.retrieve_descriptions(results, relation_graph, ent_candidates, 4, True)\n",
        "q_info = ChunkInfo(len(results), questions[qid], prev_ent_descriptions=prev_ent_descriptions, prev_relation_descriptions=prev_relation_descriptions)\n",
        "g_q_emb, g_q_input_ids, g_q_lhs = gritlm.encode([questions[qid]], max_length=8192, instructions=[LongDocPrompt.embed_w_note(q_info.recap_str, 'query')])\n",
        "\n",
        "g_p_emb, g_p_input_ids, g_p_lhs = gritlm.encode(pages, batch_size=5, max_length=8192, instructions=[LongDocPrompt.embed_w_note(ci.recap_str, 'passage') for ci in results])\n",
        "g_retriever_tokenizer = gritlm.tokenizer\n",
        "q_spans = word_split(g_q_input_ids[0], g_retriever_tokenizer)\n",
        "g_pids, g_scores = retriever.dense_retrieval(g_q_emb, g_p_emb, None, normalize=False, return_score=True)\n",
        "query_indicatiors(g_retriever_tokenizer, questions[qid], pages, g_q_lhs[0], g_q_input_ids[0], g_p_lhs, g_p_input_ids, g_pids, g_scores)#, q_spans=q_spans)"
      ]
    },
    {
      "cell_type": "markdown",
      "metadata": {},
      "source": [
        "#### Query Encode Without Note, Doc Encode With Note"
      ]
    },
    {
      "cell_type": "code",
      "execution_count": null,
      "metadata": {},
      "outputs": [],
      "source": [
        "g_q_emb, g_q_input_ids, g_q_lhs = gritlm.encode([questions[qid]])#, instructions=[\"Retrieve relevant passages from a story to answer a given question.\"])\n",
        "\n",
        "g_p_emb, g_p_input_ids, g_p_lhs = gritlm.encode(pages, batch_size=5, max_length=8192, instructions=[LongDocPrompt.embed_w_note(ci.recap_str, 'passage') for ci in results])\n",
        "g_retriever_tokenizer = gritlm.tokenizer\n",
        "q_spans = word_split(g_q_input_ids[0], g_retriever_tokenizer)\n",
        "g_pids, g_scores = retriever.dense_retrieval(g_q_emb, g_p_emb, None, normalize=False, return_score=True)\n",
        "query_indicatiors(g_retriever_tokenizer, questions[qid], pages, g_q_lhs[0], g_q_input_ids[0], g_p_lhs, g_p_input_ids, g_pids, g_scores)#, q_spans=q_spans)"
      ]
    },
    {
      "cell_type": "markdown",
      "metadata": {},
      "source": [
        "#### Query Encode With Note, Doc Encode Without Note"
      ]
    },
    {
      "cell_type": "code",
      "execution_count": null,
      "metadata": {},
      "outputs": [],
      "source": [
        "ent_candidates = longdoc.collect_entities_from_text(questions[qid])\n",
        "prev_ent_descriptions, prev_relation_descriptions = longdoc.retrieve_descriptions(results, relation_graph, ent_candidates, 1, 2)"
      ]
    },
    {
      "cell_type": "code",
      "execution_count": null,
      "metadata": {},
      "outputs": [],
      "source": [
        "prev_ent_descriptions"
      ]
    },
    {
      "cell_type": "code",
      "execution_count": null,
      "metadata": {},
      "outputs": [],
      "source": [
        "prev_relation_descriptions"
      ]
    },
    {
      "cell_type": "code",
      "execution_count": null,
      "metadata": {},
      "outputs": [],
      "source": [
        "ent_candidates = longdoc.collect_entities_from_text(questions[qid])\n",
        "prev_ent_descriptions, prev_relation_descriptions = longdoc.retrieve_descriptions(results, relation_graph, ent_candidates, 1, 2)\n",
        "q_info = ChunkInfo(len(results), questions[qid], prev_ent_descriptions=prev_ent_descriptions, prev_relation_descriptions=prev_relation_descriptions)\n",
        "instruction = gritlm.gritlm_instruction('Use the recap context to help you understand the query and retrieve relevant passages from a story to answer the query.')\n",
        "recap_str = f'''{instruction}\\nRecap:\\n{q_info.recap_str}\\n\\nQuery:\\n'''\n",
        "print(len(gritlm.tokenizer(recap_str + questions[qid])['input_ids']))\n",
        "g_q_emb, g_q_input_ids, g_q_lhs = gritlm.encode([questions[qid]], max_length=8192, instructions=[recap_str])\n",
        "\n",
        "g_p_emb, g_p_input_ids, g_p_lhs = gritlm.encode(pages, max_length=8192)\n",
        "g_retriever_tokenizer = gritlm.tokenizer\n",
        "q_spans = word_split(g_q_input_ids[0], g_retriever_tokenizer)\n",
        "g_pids, g_scores = retriever.dense_retrieval(g_q_emb, g_p_emb, None, normalize=False, return_score=True)\n",
        "query_indicatiors(g_retriever_tokenizer, questions[qid], pages, g_q_lhs[0], g_q_input_ids[0], g_p_lhs, g_p_input_ids, g_pids, g_scores, q_spans=q_spans)"
      ]
    },
    {
      "cell_type": "code",
      "execution_count": null,
      "metadata": {},
      "outputs": [],
      "source": [
        "important_page_tokens(g_retriever_tokenizer, questions[qid], pages, g_q_lhs[0], g_q_input_ids[0], g_q_emb[0], g_p_lhs, g_p_input_ids, g_pids, g_scores)"
      ]
    },
    {
      "cell_type": "markdown",
      "metadata": {},
      "source": [
        "#### Query Encode Without Note, Doc Encode Without Note"
      ]
    },
    {
      "cell_type": "code",
      "execution_count": null,
      "metadata": {},
      "outputs": [],
      "source": [
        "g_q_emb, g_q_input_ids, g_q_lhs = gritlm.encode([questions[qid]], instructions=[gritlm.gritlm_instruction(\"Retrieve relevant passages from a story to answer a given question.\")])\n",
        "\n",
        "g_p_emb, g_p_input_ids, g_p_lhs = gritlm.encode(pages, max_length=8192)\n",
        "g_retriever_tokenizer = gritlm.tokenizer\n",
        "q_spans = word_split(g_q_input_ids[0], g_retriever_tokenizer)\n",
        "g_pids, g_scores = retriever.dense_retrieval(g_q_emb, g_p_emb, None, normalize=False, return_score=True)\n",
        "query_indicatiors(g_retriever_tokenizer, questions[qid], pages, g_q_lhs[0], g_q_input_ids[0], g_p_lhs, g_p_input_ids, g_pids, g_scores, q_spans=q_spans)"
      ]
    },
    {
      "cell_type": "markdown",
      "metadata": {},
      "source": [
        "## Test Code"
      ]
    },
    {
      "cell_type": "code",
      "execution_count": null,
      "metadata": {},
      "outputs": [],
      "source": [
        "prev_ent_descriptions, prev_relation_descriptions = longdoc.retrieve_descriptions(results, relation_graph, ent_candidates, 1, 2)"
      ]
    },
    {
      "cell_type": "code",
      "execution_count": null,
      "metadata": {},
      "outputs": [],
      "source": [
        "# Encode questions\n",
        "q_emb = retriever.embed_paragraphs([f\"query: {q}\" for q in [\"The Skipper\", \"The Skipper didn't\", \"'I won't listen to your advice.' said the Old Man.\", \"The Skipper didn't follow the advice.\", \"The Skipper didn't follow the advice. The Skipper is also called 'Old Man' in the passage.\", \"The Skipper is also called 'Old Man' in the passage. The Skipper didn't follow the advice.\"]], normalize=True, complete_return=True)\n",
        "q_strs, q_lhs = [], []\n",
        "for qid in range(len(q_emb.embeddings)):\n",
        "    word_spans = word_split(q_emb.input_ids[qid], retriever.retriever_tokenizer, retriever.retriever_tokenizer.bos_token, retriever.retriever_tokenizer.eos_token)\n",
        "    temp_q_strs, temp_q_lhs = merge_words_and_embeddings(retriever.retriever_tokenizer, q_emb.input_ids[qid], q_emb.last_hidden_states[qid], word_spans, False)\n",
        "    q_strs.append(temp_q_strs)\n",
        "    q_lhs.append(temp_q_lhs)"
      ]
    },
    {
      "cell_type": "code",
      "execution_count": 5,
      "metadata": {},
      "outputs": [],
      "source": [
        "# Encode pages\n",
        "p_emb = retriever.embed_paragraphs([f\"passage: {p}\" for p in pages], normalize=True, complete_return=True)\n",
        "p_strs, p_lhs = [], []\n",
        "for pid in range(len(p_emb.embeddings)):\n",
        "    word_spans = sent_split(p_emb.input_ids[pid], retriever.retriever_tokenizer, retriever.retriever_tokenizer.bos_token, retriever.retriever_tokenizer.eos_token)\n",
        "    # word_spans = word_split(p_emb.input_ids[pid], retriever.retriever_tokenizer, retriever.retriever_tokenizer.bos_token, retriever.retriever_tokenizer.eos_token)\n",
        "    temp_p_strs, temp_p_lhs = merge_words_and_embeddings(retriever.retriever_tokenizer, p_emb.input_ids[pid], p_emb.last_hidden_states[pid], word_spans, False)\n",
        "    p_strs.append(temp_p_strs)\n",
        "    p_lhs.append(temp_p_lhs)\n",
        "tsne_plot(p_emb.embeddings)"
      ]
    },
    {
      "cell_type": "code",
      "execution_count": 6,
      "metadata": {},
      "outputs": [
        {
          "data": {
            "image/png": "[encoded data removed]",
            "text/plain": [
              "<Figure size 640x480 with 1 Axes>"
            ]
          },
          "metadata": {},
          "output_type": "display_data"
        }
      ],
      "source": [
        "# Encode pages with note\n",
        "notes = [f'Recap: {\"\" if cid == 0 else results[cid-1].summary}\\n' for cid in range(len(results))]\n",
        "noted_passages = [note + f'Passage: {ci.passage}' for note, ci in zip(notes, results)]\n",
        "p_emb = retriever.embed_paragraphs(noted_passages, normalize=False, complete_return=True)\n",
        "# (p_input_ids, p_embeddings, p_last_hidden_states), bos_token = hidden_states_wo_instruction(\n",
        "#     p_emb.input_ids.copy(), \n",
        "#     p_emb.last_hidden_states.copy(), \n",
        "#     p_emb.attention_mask.copy(), \n",
        "#     retriever.retriever_tokenizer.batch_encode_plus(notes, padding=True, truncation=True, return_tensors='pt')['attention_mask'], \n",
        "#     True), ''\n",
        "p_input_ids, p_embeddings, p_last_hidden_states, bos_token = p_emb.input_ids, p_emb.embeddings, p_emb.last_hidden_states, retriever.retriever_tokenizer.bos_token\n",
        "p_strs, p_lhs = [], []\n",
        "for pid in range(len(p_emb.embeddings)):\n",
        "    word_spans = sent_split(p_input_ids[pid], retriever.retriever_tokenizer, bos_token, retriever.retriever_tokenizer.eos_token)\n",
        "    # word_spans = word_split(p_emb.input_ids[pid], retriever.retriever_tokenizer, retriever.retriever_tokenizer.bos_token, retriever.retriever_tokenizer.eos_token)\n",
        "    temp_p_strs, temp_p_lhs = merge_words_and_embeddings(retriever.retriever_tokenizer, p_input_ids[pid], p_last_hidden_states[pid], word_spans, False, False)\n",
        "    p_strs.append(temp_p_strs)\n",
        "    p_lhs.append(temp_p_lhs)\n",
        "tsne_plot(p_embeddings)"
      ]
    },
    {
      "cell_type": "code",
      "execution_count": 7,
      "metadata": {},
      "outputs": [],
      "source": [
        "def print_input_ids(p_strs:List[List[str]], iids:List[int]):\n",
        "    for iid in iids:\n",
        "        print(iid, ' '.join(p_strs[iid]))"
      ]
    },
    {
      "cell_type": "code",
      "execution_count": 11,
      "metadata": {},
      "outputs": [
        {
          "name": "stdout",
          "output_type": "stream",
          "text": [
            "20 Recap: On the first day of their journey from Mars, the galley experienced an unexpected departure of a bashful and humorless cook. The Leo, traveling at 400,000 m.p.h., was expected to take at least ten days to reach the disputed region near Vesta. Passage: That period of jetting was a mingled joy and pain in the britches. Captain Slops was responsible for both. For one thing, as I've hinted before, he was a bit of a panty-waist. It wasn't so much the squeaky voice or the effeminate gestures he cut loose with from time to time. One of the roughest, toughest scoundrels who ever cut a throat on Venus was \"High G\" Gordon, who talked like a boy soprano, and the meanest pirate who ever highjacked a freighter was \"Runt\" Hake—who wore diamond ear-rings and gold fingernail polish! But it was Slops' general attitude that isolated him from the command and crew. In addition to being a most awful prude, he was a kill-joy. When just for a lark we begged him to boil us a pot of spaghetti, so we could pour a cold worm's nest into Rick Bramble's bed, he shuddered and refused. \"Certainly not!\" he piped indignantly.\n",
            "21 Recap: Current Passage shortened: During their journey, Captain Slops' attitude caused mixed feelings among the crew. He was seen as a prude and a kill-joy, isolating himself from the command. Despite his excellent cooking skills, his general attitude led him to refuse joining in the crew's pranks, such as the request to boil spaghetti for a practical joke. Passage: \"You must be out of your minds! I never heard of such a disgusting trick! Of course, I won't be a party to it. Worms—Ugh!\" \"Yeah!\" snorted Johnny Wainwright disdainfully, \"And ugh! to you, too. Come on, Joe, let's get out of here before we give Slops bad dreams and goose-flesh!\" Nor was hypersensitiveness Slops' worst failing. If he was squeamish about off-color jokes and such stuff, he had no compunctions whatsoever against sticking his nose in where it didn't belong. He was an inveterate prowler. He snooped everywhere and anywhere from ballast-bins to bunk-rooms. He quizzed the Chief about engine-room practices, the gunner's mate on problems of ballistics, even the cabin-boy on matters of supplies and distribution of same. He was not only an asker; he was a teller, as well.\n",
            "22 Recap: During their voyage, Captain Slops' prudish attitude and disdain for pranks caused him to isolate himself from the crew. He refused to participate in a practical joke involving boiling spaghetti with worms. Despite his aversion to off-color jokes and \"stuff,\" he was an invasive snoop, frequently poking his nose into forbidden areas like ballast-bins and bunk-rooms, and questioning crew members about engine-room practices, ballistics, and supplies. Passage: More than once during the next nine days he forced on the skipper the same gratuitous advice which before had enraged the Old Man. By sheer perseverance he earned the title I had tagged him with: \"Captain Slops.\" I was willing to give him another title, too—Captain Chaos. God knows he created enough of it! \"It's a mistake to broach the blockade at Vesta,\" he argued over and over again. \"O.Q., Slops,\" the skipper would nod agreeably, with his mouth full of some temper-softening tidbit, \"you're right and I'm wrong, as you usually are. But I'm in command of the Leo, and you ain't. Now, run along like a good lad and bring me some more of this salad.\" So ten days passed, and it was on the morning of the eleventh day out of Sand City that we ran into trouble with a capital trub.\n",
            "23 Recap: During the next nine days, Captain Slops persistently advised the skipper against approaching the blockade at Vesta. Despite the skipper's agreement and acknowledgment of Slops' opinion, he remained in command. Slops continued to offer his advice, earning him the title \"Captain Slops.\" On the eleventh day out of Sand City, the Leo encountered significant trouble. Passage: I remember that morning well, because I was in the mess-hall having breakfast with Cap O'Hara, and Slops was playing another variation on the old familiar theme. \"I glanced at the chart this morning, sir,\" he began as he minced in with a platterful of golden flapjacks and an ewer of Vermont maple syrup, \"and I see we are but an hour or two off Vesta. I am very much afraid this is our last chance to change course—\" \"And for that,\" chuckled the Old Man, \"Hooray! Pass them pancakes, son. Maybe now you'll stop shooting off about how we ought to of gone by way of Iris. Mmmm! Good!\" \"Thank you, sir,\" said Slops mechanically. \"But you realize there is extreme danger of encountering enemy ships?\" \"Keep your pants on, Slops!\" \"Eh?\" The chef looked startled. \"Beg pardon, sir?\" \"I said keep your pants on. Sure, I know. And I've took precautions.\n"
          ]
        }
      ],
      "source": [
        "print_input_ids(p_strs, [20, 21, 22, 23])"
      ]
    },
    {
      "cell_type": "code",
      "execution_count": 13,
      "metadata": {},
      "outputs": [
        {
          "name": "stdout",
          "output_type": "stream",
          "text": [
            "10 Recap: The young cook, Andy Laney, suggests running the blockade near Iris but is scolded by the Old Man for giving advice. He apologizes to Mr. Dugan and is ordered back to the galley. The Old Man sternly tells Andy to focus on his cooking duties and not give orders. Andy leaves, frustrated. Passage: So we hit the spaceways for Vesta, and after a while the Old Man called up the crew and told them our destination, and if you think they were scared or nervous or anything like that, why, you just don't know spacemen. From oil-soaked old Jock McMurtrie, the Chief Engineer, all the way down the line to Willy, our cabin-boy, the Leo's complement was as thrilled as a sub-deb at an Academy hop. John Wainwright, our First Officer, licked his chops like a fox in a hen-house and said, \"The blockade! Oboyoboy! Maybe we'll tangle with one of the Alliance ships, hey?\" Blinky Todd, an ordinary with highest rating, said with a sort of macabre satisfaction, \"I hopes we do meet up with 'em, that's whut I does, sir! Never did have no love for them dirty, skulkin' Outlanders, that's whut I didn't!\"\n",
            "11 Recap: The crew, including John Wainwright, the First Officer, and Blinky Todd, an ordinary with the highest rating, expressed excitement about approaching Vesta and potentially encountering the blockade. The Old Man informed them of their destination, and their reactions ranged from anticipation to macabre satisfaction at the prospect of engaging with Alliance ships. Passage: And one of the black-gang blasters, a taciturn chap, said nothing—but the grim set of his jaw and the purposeful way he spat on his callused paws were mutely eloquent. Only one member of the crew was absent from the conclave. Our new Slops. He was busy preparing midday mess, it seems, because scarcely had the skipper finished talking than the audio hummed and a cheerful call rose from the galley: \"Soup's on! Come and get it!\" Which we did. And whatever failings \"Captain Slops\" might have, he had not exaggerated when he called himself one of the best cooks in space. That meal, children, was a meal! When it comes to victuals I can destroy better than describe, but there was stuff and things and such-like, all smothered in gravy and so on, and huge quantities of this and that and the other thing, all of them unbelievably dee-luscious! Beyond a doubt it was the finest feast we of the Leo had enjoyed in a 'coon's age.\n",
            "12 Recap: A taciturn black-gang blaster expressed his approval of the crew's plan with a grim jaw and spit. The new cook, named Captain Slops, was absent as he prepared midday mess. His call signaled the meal's readiness with a cheerful announcement. The crew eagerly gathered for a delicious feast, which Captain Slops had proudly claimed was one of the best in space. Passage: Even the Old Man admitted that as, leaning back from the table, he patted the pleasant bulge due south of his belt buckle. He rang the bell that summoned Slops from the galley, and the little fellow came bustling in apprehensively. \"Was everything all right, sir?\" he asked. \"Not only all right, Slops,\" wheezed Captain O'Hara, \"but perfect! Accept my congratulations on a superb meal, my boy. Did you find everything O.Q. in the galley?\" \"Captain Slops\" blushed like a stereo-struck school-gal, and fidgeted from one foot to another. \"Oh, thank you, sir! Thank you very much. Yes, the galley was in fine order. That is—\" He hesitated—\"there is one little thing, sir.\" \"So? Well, speak up, son, what is it? I'll get it fixed for you right away.\" The Old Man smiled archly. \"Must have everything shipshape for a tip-top chef, what?\"\n",
            "13 Recap: The Old Man praised Captain Slops (the cook) for the excellent meal and asked if everything in the galley was O.Q. (Over Quota). Slops hesitated and mentioned a \"little thing\" that needed fixing. The Old Man promised to get it fixed for him. Passage: The young hash-slinger still hesitated bashfully. \"But it's such a little thing, sir, I almost hate to bother you with it.\" \"No trouble at all. Just say the word.\" \"Well, sir,\" confessed Slops reluctantly, \"I need an incinerator in the galley. The garbage-disposal system in there now is old-fashioned, inconvenient and unsanitary. You see, I have to carry the waste down two levels to the rocket-chamber in order to expel it.\" The skipper's brow creased. \"I'm sorry, Slops,\" he said, \"but I don't see how we can do anything about that. Not just now, at any rate. That job requires equipment we don't have aboard. After this jump is over I'll see what I can do.\" \"Oh, I realize we don't have the regular equipment,\" said Slops shyly, \"but I've figured out a way to get the same effect with equipment we do have.\n"
          ]
        }
      ],
      "source": [
        "print_input_ids(p_strs, [10, 11, 12, 13])"
      ]
    },
    {
      "cell_type": "code",
      "execution_count": 12,
      "metadata": {},
      "outputs": [
        {
          "data": {
            "text/plain": [
              "['And if this young man can cook—\" The skipper\\'s color subsided. So did he, grumbling. \"Well, perhaps you\\'re right, Dugan. All right, Slops, you\\'re hired. The galley\\'s on the second level, port side. Mess in three quarters of an hour. Get going! Dugan, call McMurtrie and tell him we lift gravs immediately— Slops! What are you doing at that table?\" For the little fellow had sidled across the control-room and now, eyes gleaming inquisitively, was peering at our trajectory charts. At the skipper\\'s roar he glanced up at us eagerly. \"Vesta!\" he piped in that curiously high-pitched and mellow voice. \"Loft trajectory for Vesta! Then we\\'re trying to run the Alliance blockade, Captain?\" \"None of your business!\" bellowed O\\'Hara in tones of thunderous outrage.',\n",
              " '\"Get below instantly, or by the lavendar lakes of Luna I\\'ll—\" \"If I were you,\" interrupted our diminutive new chef thoughtfully, \"I\\'d try to broach the blockade off Iris rather than Vesta. For one thing, their patrol line will be thinner there; for another, you can come in through the Meteor Bog, using it as a cover.\" \" Mr. Dugan! \" The Old Man\\'s voice had an ominous ring to it, one I had seldom heard. I sprang to attention and saluted smartly. \"Aye, sir?\" \"Take this—this culinary tactician out of my sight before I forget I\\'m an officer and a gentleman. And tell him that when I want advice I\\'ll come down to the galley for it!\" A hurt look crept into the youngster\\'s eyes. Slowly he turned and followed me from the turret, down the ramp, and into the pan-lined cubicle which was his proper headquarters. When I was turning to leave he said apologetically, \"I didn\\'t mean any harm, Mr. Dugan.']"
            ]
          },
          "execution_count": 12,
          "metadata": {},
          "output_type": "execute_result"
        }
      ],
      "source": [
        "pages[7:9]"
      ]
    },
    {
      "cell_type": "code",
      "execution_count": null,
      "metadata": {},
      "outputs": [],
      "source": [
        "# Question-question token-token matching\n",
        "xid, yid = 4, 2\n",
        "x_start, x_end = 0, None\n",
        "y_start, y_end = 0, None\n",
        "\n",
        "score_mat = (q_lhs[yid] / np.expand_dims(np.linalg.norm(q_lhs[yid], axis=1), axis=1)) @ (q_lhs[xid] / np.expand_dims(np.linalg.norm(q_lhs[xid], axis=1), axis=1)).T\n",
        "score_mat = score_mat[y_start:y_end, x_start:x_end]\n",
        "fig, ax = plt.subplots(figsize=(score_mat.shape[1], score_mat.shape[0]))\n",
        "sb.heatmap(score_mat, xticklabels=q_strs[xid][x_start:x_end], yticklabels=q_strs[yid][y_start:y_end], annot=True, ax=ax)\n",
        "fig.savefig('qq.pdf')"
      ]
    },
    {
      "cell_type": "code",
      "execution_count": null,
      "metadata": {},
      "outputs": [],
      "source": [
        "sents = []\n",
        "for ci in results:\n",
        "    for k in ci.ent_descriptions:\n",
        "        if 'old man' in k.lower():\n",
        "            sents.append(f'{k}: {ci.ent_descriptions[k]}')"
      ]
    },
    {
      "cell_type": "code",
      "execution_count": null,
      "metadata": {},
      "outputs": [],
      "source": [
        "# Question-page token-sent matching\n",
        "xid, yid = 1, 0\n",
        "x_start, x_end = 0, None\n",
        "y_start, y_end = 0, None\n",
        "\n",
        "score_mat = (q_lhs[yid] / np.expand_dims(np.linalg.norm(q_lhs[yid], axis=1), axis=1)) @ (p_lhs[xid] / np.expand_dims(np.linalg.norm(p_lhs[xid], axis=1), axis=1)).T\n",
        "score_mat = score_mat[y_start:y_end, x_start:x_end]\n",
        "fig, ax = plt.subplots(figsize=(score_mat.shape[1], score_mat.shape[0]))\n",
        "sb.heatmap(score_mat, xticklabels=p_strs[xid][x_start:x_end], yticklabels=q_strs[yid][y_start:y_end], annot=True, ax=ax)\n",
        "fig.savefig('qp.pdf')"
      ]
    },
    {
      "cell_type": "code",
      "execution_count": null,
      "metadata": {},
      "outputs": [],
      "source": [
        "# Page-page matching\n",
        "score_mat = p_emb.embeddings @ p_emb.embeddings.T\n",
        "fig, ax = plt.subplots(figsize=(score_mat.shape[1], score_mat.shape[0]))\n",
        "sb.heatmap(score_mat, xticklabels=range(score_mat.shape[1]), yticklabels=range(score_mat.shape[0]), annot=True, ax=ax)\n",
        "fig.savefig('pp_all.pdf')"
      ]
    },
    {
      "cell_type": "code",
      "execution_count": null,
      "metadata": {},
      "outputs": [],
      "source": [
        "# Page-page sent-sent matching\n",
        "xid, yid = 9, 10\n",
        "x_start, x_end = 0, None\n",
        "y_start, y_end = 0, None\n",
        "\n",
        "score_mat = (p_lhs[yid] / np.expand_dims(np.linalg.norm(p_lhs[yid], axis=1), axis=1)) @ (p_lhs[xid] / np.expand_dims(np.linalg.norm(p_lhs[xid], axis=1), axis=1)).T\n",
        "score_mat = score_mat[y_start:y_end, x_start:x_end]\n",
        "fig, ax = plt.subplots(figsize=(score_mat.shape[1]/2, score_mat.shape[0]/2))\n",
        "sb.heatmap(score_mat, xticklabels=range(x_start, score_mat.shape[1] + x_start), yticklabels=range(y_start, score_mat.shape[0] + y_start), annot=True, ax=ax)\n",
        "fig.savefig('pp.pdf')\n",
        "print('x:\\n', pages[xid])\n",
        "print('y:\\n', pages[yid])"
      ]
    },
    {
      "cell_type": "code",
      "execution_count": null,
      "metadata": {},
      "outputs": [],
      "source": [
        "test_x_sent = 2\n",
        "test_y_sent = 2\n",
        "print(score_mat[test_y_sent, test_x_sent])\n",
        "print(p_strs[xid][test_x_sent])\n",
        "print(p_strs[yid][test_y_sent])"
      ]
    },
    {
      "cell_type": "code",
      "execution_count": 32,
      "metadata": {},
      "outputs": [],
      "source": [
        "doc_split = DocSplit('intfloat/multilingual-e5-large')\n",
        "window_size = 1\n",
        "pages = doc_split.split_paragraphs(dataset.get_article(dataset.data[2]), 512 // 2)\n",
        "pages = [p for p in pages if p]\n",
        "padded_pages = ([''] * (window_size-1)) + pages + ([''] * (window_size-1))\n",
        "p_input_ids = [doc_split.llm_tokenizer(p)['input_ids'][1:-1] for p in pages]\n",
        "batched_pids = [[pid_ - window_size + 1 for pid_ in range(pid, pid + window_size) if padded_pages[pid_]] for pid in range(len(padded_pages) - window_size + 1)]\n",
        "reformed_pages = [' '.join([pages[pid] for pid in pids]) for pids in batched_pids]\n",
        "p_emb = retriever.embed_paragraphs(reformed_pages, complete_return=True)\n",
        "pid2embs = [[] for p in pages]\n",
        "for temp_input_ids, temp_lhs, pids in zip(p_emb.input_ids, p_emb.last_hidden_states, batched_pids):\n",
        "    spans = []\n",
        "    p_start = 1\n",
        "    for pid in pids:\n",
        "        p_len = len(p_input_ids[pid])\n",
        "        p_end = p_start + p_len\n",
        "        if temp_input_ids[p_start:p_end].tolist() != p_input_ids[pid]: # align check\n",
        "            print('fail')\n",
        "            break\n",
        "        pid2embs[pid].append(temp_lhs[p_start:p_end].mean(0))\n",
        "        p_start = p_end\n",
        "pid2embs = [np.vstack(embs) for embs in pid2embs]"
      ]
    },
    {
      "cell_type": "code",
      "execution_count": 33,
      "metadata": {},
      "outputs": [
        {
          "data": {
            "image/png": "[encoded data removed]",
            "text/plain": [
              "<Figure size 640x480 with 1 Axes>"
            ]
          },
          "metadata": {},
          "output_type": "display_data"
        }
      ],
      "source": [
        "p_weight = np.array([[1.]])\n",
        "p_embeddings = np.vstack([(p_weight @ embs)[0] for embs in pid2embs])\n",
        "tsne_plot(p_embeddings)"
      ]
    },
    {
      "cell_type": "code",
      "execution_count": 22,
      "metadata": {},
      "outputs": [
        {
          "data": {
            "text/plain": [
              "(1024,)"
            ]
          },
          "execution_count": 22,
          "metadata": {},
          "output_type": "execute_result"
        }
      ],
      "source": [
        "p_embeddings[0].shape"
      ]
    },
    {
      "cell_type": "code",
      "execution_count": 9,
      "metadata": {},
      "outputs": [
        {
          "data": {
            "text/plain": [
              "85"
            ]
          },
          "execution_count": 9,
          "metadata": {},
          "output_type": "execute_result"
        }
      ],
      "source": [
        "len(pages)"
      ]
    },
    {
      "cell_type": "code",
      "execution_count": 13,
      "metadata": {},
      "outputs": [],
      "source": [
        "a = np.array(range(20)).reshape((4,5))"
      ]
    },
    {
      "cell_type": "code",
      "execution_count": 20,
      "metadata": {},
      "outputs": [
        {
          "data": {
            "text/plain": [
              "(4, 5, 1)"
            ]
          },
          "execution_count": 20,
          "metadata": {},
          "output_type": "execute_result"
        }
      ],
      "source": [
        "np.expand_dims(a, -1).shape"
      ]
    },
    {
      "cell_type": "code",
      "execution_count": 15,
      "metadata": {},
      "outputs": [
        {
          "data": {
            "text/plain": [
              "array([ 2.,  7., 12., 17.])"
            ]
          },
          "execution_count": 15,
          "metadata": {},
          "output_type": "execute_result"
        }
      ],
      "source": [
        "a.mean(1)"
      ]
    },
    {
      "cell_type": "code",
      "execution_count": null,
      "metadata": {},
      "outputs": [],
      "source": [
        "len(pid2embs[33])"
      ]
    },
    {
      "cell_type": "code",
      "execution_count": null,
      "metadata": {},
      "outputs": [],
      "source": [
        "p_lhs = [np.array(pid2embs[pid]).mean(0) for pid in range(len(pid2embs))]\n",
        "p_embeddings = np.array([lhs.mean(0) for lhs in p_lhs])\n",
        "p_norm = np.linalg.norm(p_embeddings, axis=1)\n",
        "p_embeddings = p_embeddings / np.expand_dims(p_norm, 1)\n",
        "p_lhs = [lhs / n for lhs, n in zip(p_lhs, p_norm)]\n",
        "pids, scores = retriever.dense_retrieval(q_emb.embeddings, p_embeddings, None, normalize=False, return_score=True)\n",
        "pids"
      ]
    },
    {
      "cell_type": "code",
      "execution_count": null,
      "metadata": {},
      "outputs": [],
      "source": [
        "query_distribution(retriever.retriever_tokenizer, q_emb.last_hidden_states[0], q_emb.input_ids[0], p_lhs, 5, q_spans=word_spans[3:-1])"
      ]
    },
    {
      "cell_type": "code",
      "execution_count": null,
      "metadata": {},
      "outputs": [],
      "source": [
        "pages[13]"
      ]
    },
    {
      "cell_type": "code",
      "execution_count": null,
      "metadata": {},
      "outputs": [],
      "source": [
        "query_indicatiors(retriever.retriever_tokenizer, question, [f'passage: {p}' for p in pages], q_emb.last_hidden_states[0], q_emb.input_ids[0], p_lhs, p_input_ids, pids[:10], scores, 5, q_spans=word_spans)"
      ]
    },
    {
      "cell_type": "code",
      "execution_count": null,
      "metadata": {},
      "outputs": [],
      "source": [
        "p_emb = retriever.embed_paragraphs([f'passage: {p}' for p in pages], normalize=True, complete_return=True)\n",
        "pids, scores = retriever.dense_retrieval(q_emb.embeddings, p_emb.embeddings, None, normalize=False, return_score=True)\n",
        "pids"
      ]
    },
    {
      "cell_type": "code",
      "execution_count": null,
      "metadata": {},
      "outputs": [],
      "source": [
        "query_indicatiors(retriever.retriever_tokenizer, question, [f'passage: {p}' for p in pages], q_emb.last_hidden_states[0], q_emb.input_ids[0], p_emb.last_hidden_states, p_emb.input_ids, pids, scores, q_spans=word_spans)"
      ]
    },
    {
      "cell_type": "code",
      "execution_count": null,
      "metadata": {},
      "outputs": [],
      "source": [
        "%matplotlib widget\n",
        "\n",
        "import matplotlib.pyplot as plt\n",
        "import numpy as np\n",
        "\n",
        "from matplotlib.widgets import Cursor\n",
        "\n",
        "# Fixing random state for reproducibility\n",
        "np.random.seed(19680801)\n",
        "\n",
        "fig, ax = plt.subplots(figsize=(8, 6))\n",
        "\n",
        "x, y = 4*(np.random.rand(2, 100) - .5)\n",
        "ax.plot(x, y, 'o')\n",
        "ax.set_xlim(-2, 2)\n",
        "ax.set_ylim(-2, 2)\n",
        "\n",
        "# Set useblit=True on most backends for enhanced performance.\n",
        "cursor = Cursor(ax, useblit=True, color='red', linewidth=2)\n",
        "\n",
        "plt.show()"
      ]
    }
  ],
  "metadata": {
    "colab": {
      "provenance": [],
      "toc_visible": true
    },
    "kernelspec": {
      "display_name": "Python 3",
      "name": "python3"
    },
    "language_info": {
      "codemirror_mode": {
        "name": "ipython",
        "version": 3
      },
      "file_extension": ".py",
      "mimetype": "text/x-python",
      "name": "python",
      "nbconvert_exporter": "python",
      "pygments_lexer": "ipython3",
      "version": "3.11.9"
    }
  },
  "nbformat": 4,
  "nbformat_minor": 0
}
